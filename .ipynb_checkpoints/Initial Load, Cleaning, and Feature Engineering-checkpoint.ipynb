{
 "cells": [
  {
   "cell_type": "markdown",
   "metadata": {},
   "source": [
    "<h1>After Scraping: Cleaning and Feature Engineering</h1>\n",
    "\n",
    "- Acknowledgements:\n",
    "    - ufcstats for comprehensive data sets on past MMA bouts: http://ufcstats.com/\n",
    "    - Rajeev Warrier for providing the groundwork for this prediction project: https://github.com/WarrierRajeev/UFC-Predictions"
   ]
  },
  {
   "cell_type": "code",
   "execution_count": 792,
   "metadata": {},
   "outputs": [],
   "source": [
    "import pandas as pd\n",
    "import numpy as np\n",
    "\n",
    "DATA_PATH ='./data'\n",
    "df_fighters = pd.read_csv(DATA_PATH+'/fighter_details.csv')\n",
    "df_fights = pd.read_csv(DATA_PATH+'/total_fight_data.csv', sep=';')"
   ]
  },
  {
   "cell_type": "code",
   "execution_count": 793,
   "metadata": {
    "scrolled": true
   },
   "outputs": [
    {
     "data": {
      "text/html": [
       "<div>\n",
       "<style scoped>\n",
       "    .dataframe tbody tr th:only-of-type {\n",
       "        vertical-align: middle;\n",
       "    }\n",
       "\n",
       "    .dataframe tbody tr th {\n",
       "        vertical-align: top;\n",
       "    }\n",
       "\n",
       "    .dataframe thead th {\n",
       "        text-align: right;\n",
       "    }\n",
       "</style>\n",
       "<table border=\"1\" class=\"dataframe\">\n",
       "  <thead>\n",
       "    <tr style=\"text-align: right;\">\n",
       "      <th></th>\n",
       "      <th>fighter_name</th>\n",
       "      <th>Height</th>\n",
       "      <th>Weight</th>\n",
       "      <th>Reach</th>\n",
       "      <th>Stance</th>\n",
       "      <th>DOB</th>\n",
       "    </tr>\n",
       "  </thead>\n",
       "  <tbody>\n",
       "    <tr>\n",
       "      <td>0</td>\n",
       "      <td>Tom Aaron</td>\n",
       "      <td>NaN</td>\n",
       "      <td>155 lbs.</td>\n",
       "      <td>NaN</td>\n",
       "      <td>NaN</td>\n",
       "      <td>Jul 13, 1978</td>\n",
       "    </tr>\n",
       "    <tr>\n",
       "      <td>1</td>\n",
       "      <td>Danny Abbadi</td>\n",
       "      <td>5' 11\"</td>\n",
       "      <td>155 lbs.</td>\n",
       "      <td>NaN</td>\n",
       "      <td>Orthodox</td>\n",
       "      <td>Jul 03, 1983</td>\n",
       "    </tr>\n",
       "    <tr>\n",
       "      <td>2</td>\n",
       "      <td>David Abbott</td>\n",
       "      <td>6' 0\"</td>\n",
       "      <td>265 lbs.</td>\n",
       "      <td>NaN</td>\n",
       "      <td>Switch</td>\n",
       "      <td>NaN</td>\n",
       "    </tr>\n",
       "  </tbody>\n",
       "</table>\n",
       "</div>"
      ],
      "text/plain": [
       "   fighter_name  Height    Weight Reach    Stance           DOB\n",
       "0     Tom Aaron     NaN  155 lbs.   NaN       NaN  Jul 13, 1978\n",
       "1  Danny Abbadi  5' 11\"  155 lbs.   NaN  Orthodox  Jul 03, 1983\n",
       "2  David Abbott   6' 0\"  265 lbs.   NaN    Switch           NaN"
      ]
     },
     "execution_count": 793,
     "metadata": {},
     "output_type": "execute_result"
    }
   ],
   "source": [
    "df_fighters.head(3)"
   ]
  },
  {
   "cell_type": "code",
   "execution_count": 794,
   "metadata": {
    "scrolled": true
   },
   "outputs": [
    {
     "data": {
      "text/html": [
       "<div>\n",
       "<style scoped>\n",
       "    .dataframe tbody tr th:only-of-type {\n",
       "        vertical-align: middle;\n",
       "    }\n",
       "\n",
       "    .dataframe tbody tr th {\n",
       "        vertical-align: top;\n",
       "    }\n",
       "\n",
       "    .dataframe thead th {\n",
       "        text-align: right;\n",
       "    }\n",
       "</style>\n",
       "<table border=\"1\" class=\"dataframe\">\n",
       "  <thead>\n",
       "    <tr style=\"text-align: right;\">\n",
       "      <th></th>\n",
       "      <th>R_fighter</th>\n",
       "      <th>B_fighter</th>\n",
       "      <th>R_KD</th>\n",
       "      <th>B_KD</th>\n",
       "      <th>R_SIG_STR.</th>\n",
       "      <th>B_SIG_STR.</th>\n",
       "      <th>R_SIG_STR_pct</th>\n",
       "      <th>B_SIG_STR_pct</th>\n",
       "      <th>R_TOTAL_STR.</th>\n",
       "      <th>B_TOTAL_STR.</th>\n",
       "      <th>...</th>\n",
       "      <th>B_GROUND</th>\n",
       "      <th>win_by</th>\n",
       "      <th>last_round</th>\n",
       "      <th>last_round_time</th>\n",
       "      <th>Format</th>\n",
       "      <th>Referee</th>\n",
       "      <th>date</th>\n",
       "      <th>location</th>\n",
       "      <th>Fight_type</th>\n",
       "      <th>Winner</th>\n",
       "    </tr>\n",
       "  </thead>\n",
       "  <tbody>\n",
       "    <tr>\n",
       "      <td>0</td>\n",
       "      <td>Kevin Lee</td>\n",
       "      <td>Charles Oliveira</td>\n",
       "      <td>0</td>\n",
       "      <td>0</td>\n",
       "      <td>41 of 80</td>\n",
       "      <td>43 of 65</td>\n",
       "      <td>51%</td>\n",
       "      <td>66%</td>\n",
       "      <td>61 of 100</td>\n",
       "      <td>51 of 73</td>\n",
       "      <td>...</td>\n",
       "      <td>6 of 7</td>\n",
       "      <td>Submission</td>\n",
       "      <td>3</td>\n",
       "      <td>0:28</td>\n",
       "      <td>5 Rnd (5-5-5-5-5)</td>\n",
       "      <td>Mike Beltran</td>\n",
       "      <td>March 14, 2020</td>\n",
       "      <td>Brasilia, Distrito Federal, Brazil</td>\n",
       "      <td>Lightweight Bout</td>\n",
       "      <td>Charles Oliveira</td>\n",
       "    </tr>\n",
       "    <tr>\n",
       "      <td>1</td>\n",
       "      <td>Demian Maia</td>\n",
       "      <td>Gilbert Burns</td>\n",
       "      <td>0</td>\n",
       "      <td>1</td>\n",
       "      <td>4 of 7</td>\n",
       "      <td>13 of 16</td>\n",
       "      <td>57%</td>\n",
       "      <td>81%</td>\n",
       "      <td>4 of 7</td>\n",
       "      <td>14 of 17</td>\n",
       "      <td>...</td>\n",
       "      <td>8 of 9</td>\n",
       "      <td>KO/TKO</td>\n",
       "      <td>1</td>\n",
       "      <td>2:34</td>\n",
       "      <td>3 Rnd (5-5-5)</td>\n",
       "      <td>Osiris Maia</td>\n",
       "      <td>March 14, 2020</td>\n",
       "      <td>Brasilia, Distrito Federal, Brazil</td>\n",
       "      <td>Welterweight Bout</td>\n",
       "      <td>Gilbert Burns</td>\n",
       "    </tr>\n",
       "    <tr>\n",
       "      <td>2</td>\n",
       "      <td>Renato Moicano</td>\n",
       "      <td>Damir Hadzovic</td>\n",
       "      <td>0</td>\n",
       "      <td>0</td>\n",
       "      <td>1 of 2</td>\n",
       "      <td>1 of 5</td>\n",
       "      <td>50%</td>\n",
       "      <td>20%</td>\n",
       "      <td>4 of 5</td>\n",
       "      <td>1 of 5</td>\n",
       "      <td>...</td>\n",
       "      <td>0 of 0</td>\n",
       "      <td>Submission</td>\n",
       "      <td>1</td>\n",
       "      <td>0:44</td>\n",
       "      <td>3 Rnd (5-5-5)</td>\n",
       "      <td>Eduardo Herdy</td>\n",
       "      <td>March 14, 2020</td>\n",
       "      <td>Brasilia, Distrito Federal, Brazil</td>\n",
       "      <td>Lightweight Bout</td>\n",
       "      <td>Renato Moicano</td>\n",
       "    </tr>\n",
       "  </tbody>\n",
       "</table>\n",
       "<p>3 rows × 41 columns</p>\n",
       "</div>"
      ],
      "text/plain": [
       "        R_fighter         B_fighter  R_KD  B_KD R_SIG_STR. B_SIG_STR.  \\\n",
       "0       Kevin Lee  Charles Oliveira     0     0   41 of 80   43 of 65   \n",
       "1     Demian Maia     Gilbert Burns     0     1     4 of 7   13 of 16   \n",
       "2  Renato Moicano    Damir Hadzovic     0     0     1 of 2     1 of 5   \n",
       "\n",
       "  R_SIG_STR_pct B_SIG_STR_pct R_TOTAL_STR. B_TOTAL_STR.  ... B_GROUND  \\\n",
       "0           51%           66%    61 of 100     51 of 73  ...   6 of 7   \n",
       "1           57%           81%       4 of 7     14 of 17  ...   8 of 9   \n",
       "2           50%           20%       4 of 5       1 of 5  ...   0 of 0   \n",
       "\n",
       "       win_by last_round last_round_time             Format        Referee  \\\n",
       "0  Submission          3            0:28  5 Rnd (5-5-5-5-5)   Mike Beltran   \n",
       "1      KO/TKO          1            2:34      3 Rnd (5-5-5)    Osiris Maia   \n",
       "2  Submission          1            0:44      3 Rnd (5-5-5)  Eduardo Herdy   \n",
       "\n",
       "             date                            location         Fight_type  \\\n",
       "0  March 14, 2020  Brasilia, Distrito Federal, Brazil   Lightweight Bout   \n",
       "1  March 14, 2020  Brasilia, Distrito Federal, Brazil  Welterweight Bout   \n",
       "2  March 14, 2020  Brasilia, Distrito Federal, Brazil   Lightweight Bout   \n",
       "\n",
       "             Winner  \n",
       "0  Charles Oliveira  \n",
       "1     Gilbert Burns  \n",
       "2    Renato Moicano  \n",
       "\n",
       "[3 rows x 41 columns]"
      ]
     },
     "execution_count": 794,
     "metadata": {},
     "output_type": "execute_result"
    }
   ],
   "source": [
    "df_fights.head(3)"
   ]
  },
  {
   "cell_type": "markdown",
   "metadata": {},
   "source": [
    "<h3>Processing Fighter data set</h3> "
   ]
  },
  {
   "cell_type": "code",
   "execution_count": 795,
   "metadata": {},
   "outputs": [
    {
     "data": {
      "text/plain": [
       "fighter_name       0\n",
       "Height           257\n",
       "Weight            74\n",
       "Reach           1714\n",
       "Stance           786\n",
       "DOB              739\n",
       "dtype: int64"
      ]
     },
     "execution_count": 795,
     "metadata": {},
     "output_type": "execute_result"
    }
   ],
   "source": [
    "df_fighters.isna().sum()"
   ]
  },
  {
   "cell_type": "markdown",
   "metadata": {},
   "source": [
    "- fighters with NaN Weight values have little to no useful data\n",
    "    - therefore, these rows will be excluded"
   ]
  },
  {
   "cell_type": "code",
   "execution_count": 796,
   "metadata": {
    "scrolled": true
   },
   "outputs": [
    {
     "data": {
      "text/plain": [
       "fighter_name     0\n",
       "Height          68\n",
       "Weight          74\n",
       "Reach           74\n",
       "Stance          65\n",
       "DOB             72\n",
       "dtype: int64"
      ]
     },
     "execution_count": 796,
     "metadata": {},
     "output_type": "execute_result"
    }
   ],
   "source": [
    "df_fighters[pd.isnull(df_fighters['Weight'])].isna().sum()"
   ]
  },
  {
   "cell_type": "code",
   "execution_count": 797,
   "metadata": {},
   "outputs": [],
   "source": [
    "df_fighters = df_fighters[df_fighters['Weight'].notna()]"
   ]
  },
  {
   "cell_type": "markdown",
   "metadata": {},
   "source": [
    "- to fill NaN values in bodily metrics, find:\n",
    "    - average reach for each height increment\n",
    "    - average height for each weight increment"
   ]
  },
  {
   "cell_type": "code",
   "execution_count": 798,
   "metadata": {},
   "outputs": [],
   "source": [
    "df_fighters['Weight'] = df_fighters['Weight'].apply(lambda x: x.split(' ')[0])\n",
    "df_fighters['Weight'] = df_fighters['Weight'].astype(float)"
   ]
  },
  {
   "cell_type": "code",
   "execution_count": 799,
   "metadata": {},
   "outputs": [],
   "source": [
    "df_fighters['Height'] = df_fighters['Height'].fillna('0\\' 0\\\"')\n",
    "df_fighters['Height'] = df_fighters['Height'].apply(lambda x: int(x.split('\\' ')[0])*12 + int(x.split('\\' ')[1].replace('\\\"','')))\n",
    "df_fighters['Height'] = df_fighters['Height'].replace(0, np.nan).astype(float)"
   ]
  },
  {
   "cell_type": "code",
   "execution_count": 800,
   "metadata": {},
   "outputs": [],
   "source": [
    "df_fighters['Height'] = df_fighters.groupby('Weight')['Height'].apply(lambda x: x.fillna(x.mean()))\n",
    "df_fighters['Height'] = df_fighters['Height'].fillna(df_fighters['Height'].mean())"
   ]
  },
  {
   "cell_type": "code",
   "execution_count": 801,
   "metadata": {},
   "outputs": [],
   "source": [
    "df_fighters['Reach'] = df_fighters['Reach'].fillna('0')\n",
    "df_fighters['Reach'] = df_fighters['Reach'].apply(lambda x: x.replace('\\\"',''))\n",
    "df_fighters['Reach'] = df_fighters['Reach'].replace('0', np.nan).astype(float)"
   ]
  },
  {
   "cell_type": "code",
   "execution_count": 802,
   "metadata": {},
   "outputs": [],
   "source": [
    "df_fighters['Reach'] = df_fighters.groupby('Height')['Reach'].apply(lambda x: x.fillna(x.mean()))\n",
    "df_fighters['Reach'] = df_fighters['Reach'].fillna(df_fighters['Reach'].mean())"
   ]
  },
  {
   "cell_type": "code",
   "execution_count": 803,
   "metadata": {
    "scrolled": true
   },
   "outputs": [
    {
     "data": {
      "text/plain": [
       "Orthodox       2047\n",
       "Southpaw        460\n",
       "Switch          100\n",
       "Open Stance       7\n",
       "Sideways          3\n",
       "Name: Stance, dtype: int64"
      ]
     },
     "execution_count": 803,
     "metadata": {},
     "output_type": "execute_result"
    }
   ],
   "source": [
    "df_fighters['Stance'].value_counts()"
   ]
  },
  {
   "cell_type": "markdown",
   "metadata": {},
   "source": [
    "<h3>Processing Fight data set</h3>"
   ]
  },
  {
   "cell_type": "markdown",
   "metadata": {},
   "source": [
    "- split attack stats into attempts/landed numerical format"
   ]
  },
  {
   "cell_type": "code",
   "execution_count": 804,
   "metadata": {},
   "outputs": [],
   "source": [
    "df_fights.columns\n",
    "attack_cols = ['R_SIG_STR.', 'B_SIG_STR.','R_TOTAL_STR.', 'B_TOTAL_STR.',\n",
    "       'R_TD', 'B_TD', 'R_HEAD', 'B_HEAD', 'R_BODY',\n",
    "       'B_BODY', 'R_LEG', 'B_LEG', 'R_DISTANCE', 'B_DISTANCE', 'R_CLINCH',\n",
    "       'B_CLINCH', 'R_GROUND', 'B_GROUND']"
   ]
  },
  {
   "cell_type": "code",
   "execution_count": 805,
   "metadata": {},
   "outputs": [],
   "source": [
    "for col in attack_cols:\n",
    "    df_fights[col+'_ATT'] = df_fights[col].apply(lambda x: int(x.split('of')[1]))\n",
    "    df_fights[col+'_LANDED'] = df_fights[col].apply(lambda x: int(x.split('of')[0]))"
   ]
  },
  {
   "cell_type": "code",
   "execution_count": 806,
   "metadata": {},
   "outputs": [],
   "source": [
    "df_fights.drop(attack_cols, axis=1, inplace=True)"
   ]
  },
  {
   "cell_type": "markdown",
   "metadata": {},
   "source": [
    "- check for NULL values"
   ]
  },
  {
   "cell_type": "code",
   "execution_count": 807,
   "metadata": {},
   "outputs": [
    {
     "name": "stdout",
     "output_type": "stream",
     "text": [
      "Null count in Referee = 25\n",
      "Null count in Winner = 94\n"
     ]
    }
   ],
   "source": [
    "for col in df_fights:\n",
    "    if df_fights[col].isnull().sum()!=0:\n",
    "        print(f'Null count in {col} = {df_fights[col].isnull().sum()}')"
   ]
  },
  {
   "cell_type": "code",
   "execution_count": 808,
   "metadata": {
    "scrolled": true
   },
   "outputs": [
    {
     "data": {
      "text/plain": [
       "Overturned              38\n",
       "Decision - Majority     23\n",
       "Could Not Continue      15\n",
       "Decision - Split        11\n",
       "Decision - Unanimous     5\n",
       "Other                    2\n",
       "Name: win_by, dtype: int64"
      ]
     },
     "execution_count": 808,
     "metadata": {},
     "output_type": "execute_result"
    }
   ],
   "source": [
    "df_fights[df_fights['Winner'].isnull()]['win_by'].value_counts()"
   ]
  },
  {
   "cell_type": "code",
   "execution_count": 809,
   "metadata": {},
   "outputs": [],
   "source": [
    "df_fights['Winner'].fillna('Draw', inplace=True)"
   ]
  },
  {
   "cell_type": "markdown",
   "metadata": {},
   "source": [
    "- convert percentages to decimal values"
   ]
  },
  {
   "cell_type": "code",
   "execution_count": 810,
   "metadata": {},
   "outputs": [],
   "source": [
    "percentage_columns = ['R_SIG_STR_pct', 'B_SIG_STR_pct', 'R_TD_pct', 'B_TD_pct']\n",
    "\n",
    "for col in percentage_columns:\n",
    "    df_fights[col] = df_fights[col].apply(lambda x : float(x.replace('%',''))/100)"
   ]
  },
  {
   "cell_type": "markdown",
   "metadata": {},
   "source": [
    "- isolating Title fights and weight classes"
   ]
  },
  {
   "cell_type": "code",
   "execution_count": 811,
   "metadata": {
    "scrolled": false
   },
   "outputs": [
    {
     "data": {
      "text/plain": [
       "Index(['Lightweight Bout', 'Welterweight Bout', 'Middleweight Bout',\n",
       "       'Light Heavyweight Bout', 'Heavyweight Bout', 'Featherweight Bout',\n",
       "       'Bantamweight Bout', 'Flyweight Bout', 'Women's Strawweight Bout',\n",
       "       'Women's Bantamweight Bout', 'Open Weight Bout',\n",
       "       'Women's Flyweight Bout', 'UFC Light Heavyweight Title Bout',\n",
       "       'UFC Welterweight Title Bout', 'UFC Heavyweight Title Bout',\n",
       "       'UFC Middleweight Title Bout', 'UFC Lightweight Title Bout',\n",
       "       'Catch Weight Bout', 'UFC Flyweight Title Bout',\n",
       "       'UFC Women's Bantamweight Title Bout', 'UFC Featherweight Title Bout',\n",
       "       'UFC Bantamweight Title Bout', 'UFC Women's Strawweight Title Bout',\n",
       "       'Women's Featherweight Bout', 'UFC Interim Heavyweight Title Bout',\n",
       "       'UFC Women's Featherweight Title Bout',\n",
       "       'UFC Women's Flyweight Title Bout', 'UFC Superfight Championship Bout',\n",
       "       'UFC Interim Featherweight Title Bout',\n",
       "       'UFC Interim Welterweight Title Bout',\n",
       "       'UFC Interim Bantamweight Title Bout',\n",
       "       'UFC Interim Middleweight Title Bout',\n",
       "       'UFC Interim Light Heavyweight Title Bout',\n",
       "       'UFC Interim Lightweight Title Bout'],\n",
       "      dtype='object')"
      ]
     },
     "execution_count": 811,
     "metadata": {},
     "output_type": "execute_result"
    }
   ],
   "source": [
    "df_fights['Fight_type'].value_counts()[df_fights['Fight_type'].value_counts() > 1].index"
   ]
  },
  {
   "cell_type": "code",
   "execution_count": 812,
   "metadata": {},
   "outputs": [],
   "source": [
    "df_fights['title_bout'] = df_fights['Fight_type'].apply(lambda x: 1 if 'Title Bout' in x else 0) "
   ]
  },
  {
   "cell_type": "code",
   "execution_count": 813,
   "metadata": {},
   "outputs": [],
   "source": [
    "weight_classes = ['Women\\'s Strawweight', 'Women\\'s Bantamweight', \n",
    "                  'Women\\'s Featherweight', 'Women\\'s Flyweight', 'Lightweight', \n",
    "                  'Welterweight', 'Middleweight','Light Heavyweight', \n",
    "                  'Heavyweight', 'Featherweight','Bantamweight', 'Flyweight', 'Open Weight']\n",
    "\n",
    "def make_weight_class(x):\n",
    "    for weight_class in weight_classes:\n",
    "        if weight_class in x:\n",
    "            return weight_class\n",
    "    if x == 'Catch Weight Bout' or 'Catchweight Bout':\n",
    "        return 'Catch Weight'\n",
    "    else:\n",
    "        return 'Open Weight'"
   ]
  },
  {
   "cell_type": "code",
   "execution_count": 814,
   "metadata": {},
   "outputs": [],
   "source": [
    "df_fights['weight_class'] = df_fights['Fight_type'].apply(make_weight_class)"
   ]
  },
  {
   "cell_type": "code",
   "execution_count": 815,
   "metadata": {
    "scrolled": true
   },
   "outputs": [
    {
     "data": {
      "text/plain": [
       "Lightweight              1043\n",
       "Welterweight             1027\n",
       "Middleweight              763\n",
       "Heavyweight               539\n",
       "Light Heavyweight         536\n",
       "Featherweight             488\n",
       "Bantamweight              422\n",
       "Flyweight                 206\n",
       "Women's Strawweight       165\n",
       "Women's Bantamweight      130\n",
       "Open Weight                93\n",
       "Women's Flyweight          78\n",
       "Catch Weight               39\n",
       "Women's Featherweight      14\n",
       "Name: weight_class, dtype: int64"
      ]
     },
     "execution_count": 815,
     "metadata": {},
     "output_type": "execute_result"
    }
   ],
   "source": [
    "df_fights['weight_class'].value_counts()"
   ]
  },
  {
   "cell_type": "markdown",
   "metadata": {},
   "source": [
    "- isolate total fight time (seconds)"
   ]
  },
  {
   "cell_type": "code",
   "execution_count": 816,
   "metadata": {},
   "outputs": [
    {
     "data": {
      "text/plain": [
       "3 Rnd (5-5-5)           4860\n",
       "5 Rnd (5-5-5-5-5)        459\n",
       "1 Rnd + OT (12-3)         80\n",
       "No Time Limit             37\n",
       "3 Rnd + OT (5-5-5-5)      22\n",
       "1 Rnd (20)                21\n",
       "1 Rnd + 2OT (15-3-3)      20\n",
       "2 Rnd (5-5)               14\n",
       "1 Rnd (15)                 8\n",
       "1 Rnd (10)                 6\n",
       "1 Rnd (12)                 4\n",
       "1 Rnd + OT (30-5)          3\n",
       "1 Rnd + OT (15-3)          2\n",
       "1 Rnd (18)                 2\n",
       "1 Rnd + 2OT (24-3-3)       1\n",
       "1 Rnd (30)                 1\n",
       "1 Rnd + OT (30-3)          1\n",
       "1 Rnd + OT (27-3)          1\n",
       "1 Rnd + OT (31-5)          1\n",
       "Name: Format, dtype: int64"
      ]
     },
     "execution_count": 816,
     "metadata": {},
     "output_type": "execute_result"
    }
   ],
   "source": [
    "df_fights['Format'].value_counts()"
   ]
  },
  {
   "cell_type": "code",
   "execution_count": 817,
   "metadata": {},
   "outputs": [],
   "source": [
    "time_in_first_round = {'3 Rnd (5-5-5)': 5*60, \n",
    "                       '5 Rnd (5-5-5-5-5)': 5*60, \n",
    "                       '1 Rnd + OT (12-3)': 12*60,\n",
    "                       'No Time Limit': 1, \n",
    "                       '3 Rnd + OT (5-5-5-5)': 5*60, \n",
    "                       '1 Rnd (20)': 1*20,\n",
    "                       '2 Rnd (5-5)': 5*60, \n",
    "                       '1 Rnd (15)': 15*60, \n",
    "                       '1 Rnd (10)': 10*60,\n",
    "                       '1 Rnd (12)':12*60, \n",
    "                       '1 Rnd + OT (30-5)': 30*60, \n",
    "                       '1 Rnd (18)': 18*60, \n",
    "                       '1 Rnd + OT (15-3)': 15*60,\n",
    "                       '1 Rnd (30)': 30*60, \n",
    "                       '1 Rnd + OT (31-5)': 31*5,\n",
    "                       '1 Rnd + OT (27-3)': 27*60, \n",
    "                       '1 Rnd + OT (30-3)': 30*60}\n",
    "\n",
    "exception_format_time = {'1 Rnd + 2OT (15-3-3)': [15*60, 3*60], \n",
    "                         '1 Rnd + 2OT (24-3-3)': [24*60, 3*60]}"
   ]
  },
  {
   "cell_type": "code",
   "execution_count": 818,
   "metadata": {},
   "outputs": [],
   "source": [
    "# Converting to seconds\n",
    "df_fights['last_round_time'] = df_fights['last_round_time'].apply(lambda x: int(x.split(':')[0])*60 + int(x.split(':')[1]))"
   ]
  },
  {
   "cell_type": "code",
   "execution_count": 819,
   "metadata": {},
   "outputs": [],
   "source": [
    "def get_total_time(row):\n",
    "    if row['Format'] in time_in_first_round.keys():\n",
    "        return (row['last_round'] - 1) * time_in_first_round[row['Format']] + row['last_round_time']\n",
    "    elif row['Format'] in exception_format_time.keys():\n",
    "        if (row['last_round'] - 1) >= 2:\n",
    "            return exception_format_time[row['Format']][0] + (row['last_round'] - 2) * \\\n",
    "                    exception_format_time[row['Format']][1] + row['last_round_time']\n",
    "        else:\n",
    "            return (row['last_round'] - 1) * exception_format_time[row['Format']][0] + row['last_round_time']"
   ]
  },
  {
   "cell_type": "code",
   "execution_count": 820,
   "metadata": {},
   "outputs": [],
   "source": [
    "df_fights['total_time_fought(sec)'] = df_fights.apply(get_total_time, axis=1)"
   ]
  },
  {
   "cell_type": "code",
   "execution_count": 821,
   "metadata": {},
   "outputs": [],
   "source": [
    "def get_num_rounds(x):\n",
    "    if x == 'No Time Limit':\n",
    "        return 1\n",
    "    else:\n",
    "        return len((x.split('(')[1].replace(')','').split('-')))\n",
    "    \n",
    "df_fights['no_of_rounds'] = df_fights['Format'].apply(get_num_rounds)"
   ]
  },
  {
   "cell_type": "markdown",
   "metadata": {},
   "source": [
    "- there are too many distinct locations\n",
    "    - in order to create a more signifcant feature, location is adapted to a binary indicator of whether or not the fight took place in Las Vegas, Nevada (i.e. the most popular fight location)"
   ]
  },
  {
   "cell_type": "code",
   "execution_count": 822,
   "metadata": {},
   "outputs": [
    {
     "data": {
      "text/plain": [
       "Las Vegas, Nevada, USA             1264\n",
       "London, England, United Kingdom     114\n",
       "Newark, New Jersey, USA              90\n",
       "Anaheim, California, USA             84\n",
       "Chicago, Illinois, USA               81\n",
       "                                   ... \n",
       "San Juan, Puerto Rico                 8\n",
       "Miami, Florida, USA                   8\n",
       "Chiba, Japan                          7\n",
       "Dothan, Alabama, USA                  7\n",
       "Yokohama, Kanagawa, Japan             7\n",
       "Name: location, Length: 165, dtype: int64"
      ]
     },
     "execution_count": 822,
     "metadata": {},
     "output_type": "execute_result"
    }
   ],
   "source": [
    "df_fights['location'].value_counts()"
   ]
  },
  {
   "cell_type": "code",
   "execution_count": 823,
   "metadata": {},
   "outputs": [],
   "source": [
    "df_fights['location']=df_fights['location'].apply(lambda x: 1 if str(x).find('Las Vegas')!=-1 else 0)"
   ]
  },
  {
   "cell_type": "markdown",
   "metadata": {},
   "source": [
    "- change Date of Birth and fight date from string to datetime"
   ]
  },
  {
   "cell_type": "code",
   "execution_count": 824,
   "metadata": {},
   "outputs": [],
   "source": [
    "from datetime import datetime\n",
    "\n",
    "month_code = {'Jan ': 'January ', \n",
    "      'Feb ': 'February ', \n",
    "      'Mar ': 'March ', \n",
    "      'Apr ': 'April ', \n",
    "      'May ': 'May ', \n",
    "      'Jun ': 'June ', \n",
    "      'Jul ': 'July ', \n",
    "      'Aug ': 'August ', \n",
    "      'Sep ': 'September ', \n",
    "      'Oct ': 'October ', \n",
    "      'Nov ': 'November ', \n",
    "      'Dec ': 'December '}\n",
    "\n",
    "for k, v in month_code.items():\n",
    "    df_fighters['DOB'] = df_fighters['DOB'].apply(lambda x: x.replace(k, v) if type(x) == str else x)\n",
    "\n",
    "df_fighters['DOB'] = df_fighters['DOB'].apply(lambda row: datetime.strptime(row, '%B %d, %Y') if type(row) == str else row)\n",
    "df_fights['date'] = df_fights['date'].apply(lambda row: datetime.strptime(row, '%B %d, %Y') if type(row) == str else row)"
   ]
  },
  {
   "cell_type": "markdown",
   "metadata": {},
   "source": [
    "- recode winner column to binary and drop obsolete columns"
   ]
  },
  {
   "cell_type": "code",
   "execution_count": 825,
   "metadata": {
    "scrolled": true
   },
   "outputs": [],
   "source": [
    "df_fights['Red_win'] = df_fights.apply(lambda row: 1 if row['Winner'] == row['R_fighter'] else 0, axis=1)\n",
    "\n",
    "df_fights.drop(columns = ['Format', 'Referee','Fight_type','last_round_time'], inplace=True)"
   ]
  },
  {
   "cell_type": "markdown",
   "metadata": {},
   "source": [
    "- recode win_by feature into bins for Submission, KO, or Other"
   ]
  },
  {
   "cell_type": "code",
   "execution_count": 826,
   "metadata": {
    "scrolled": true
   },
   "outputs": [
    {
     "data": {
      "text/plain": [
       "Decision - Unanimous       1903\n",
       "KO/TKO                     1763\n",
       "Submission                 1136\n",
       "Decision - Split            533\n",
       "TKO - Doctor's Stoppage      74\n",
       "Decision - Majority          62\n",
       "Overturned                   38\n",
       "DQ                           17\n",
       "Could Not Continue           15\n",
       "Other                         2\n",
       "Name: win_by, dtype: int64"
      ]
     },
     "execution_count": 826,
     "metadata": {},
     "output_type": "execute_result"
    }
   ],
   "source": [
    "df_fights['win_by'].value_counts()"
   ]
  },
  {
   "cell_type": "code",
   "execution_count": 827,
   "metadata": {},
   "outputs": [],
   "source": [
    "df_fights['win_by'] = df_fights.apply(lambda row: 'Submission' if 'Submission' in row['win_by']\n",
    "                                                  else('KO' if 'KO' in row['win_by']\n",
    "                                                  else 'Other'), axis=1)"
   ]
  },
  {
   "cell_type": "markdown",
   "metadata": {},
   "source": [
    "<h3>Consolidate red/blue corner stats to align them with the correct fighter</h3>"
   ]
  },
  {
   "cell_type": "code",
   "execution_count": 828,
   "metadata": {},
   "outputs": [],
   "source": [
    "df_red = df_fights[['R_fighter','R_KD', 'R_SIG_STR_pct',\n",
    "       'R_TD_pct', 'R_SUB_ATT',\n",
    "       'R_PASS', 'R_REV', \n",
    "       'R_SIG_STR._ATT', 'R_SIG_STR._LANDED',\n",
    "       'R_TOTAL_STR._ATT',\n",
    "       'R_TOTAL_STR._LANDED',\n",
    "       'R_TD_ATT', 'R_TD_LANDED', 'R_HEAD_ATT',\n",
    "       'R_HEAD_LANDED', 'R_BODY_ATT',\n",
    "       'R_BODY_LANDED',  'R_LEG_ATT',\n",
    "       'R_LEG_LANDED',  'R_DISTANCE_ATT',\n",
    "       'R_DISTANCE_LANDED', \n",
    "       'R_CLINCH_ATT', 'R_CLINCH_LANDED',\n",
    "       'R_GROUND_ATT', 'R_GROUND_LANDED',\n",
    "       'Winner', 'win_by', 'last_round',\n",
    "       'date', 'location',\n",
    "       'title_bout', 'weight_class', 'total_time_fought(sec)', 'no_of_rounds']]\n",
    "\n",
    "df_blue = df_fights[['B_fighter',  'B_KD',\n",
    "       'B_SIG_STR_pct','B_TD_pct', 'B_SUB_ATT',\n",
    "       'B_PASS',  'B_REV', \n",
    "       'B_SIG_STR._ATT', 'B_SIG_STR._LANDED',\n",
    "       'B_TOTAL_STR._ATT', 'B_TOTAL_STR._LANDED',\n",
    "       'B_TD_ATT', 'B_TD_LANDED',\n",
    "       'B_HEAD_ATT', 'B_HEAD_LANDED', \n",
    "       'B_BODY_ATT', 'B_BODY_LANDED', \n",
    "       'B_LEG_ATT', 'B_LEG_LANDED', \n",
    "       'B_DISTANCE_ATT', 'B_DISTANCE_LANDED',\n",
    "       'B_CLINCH_ATT', 'B_CLINCH_LANDED',\n",
    "       'B_GROUND_ATT', 'B_GROUND_LANDED',\n",
    "       'Winner', 'win_by', 'last_round',\n",
    "       'date', 'location',\n",
    "       'title_bout', 'weight_class', 'total_time_fought(sec)', 'no_of_rounds']]"
   ]
  },
  {
   "cell_type": "markdown",
   "metadata": {},
   "source": [
    "- get rid of red/blue corner prefixes in order to union fighter history"
   ]
  },
  {
   "cell_type": "code",
   "execution_count": 829,
   "metadata": {},
   "outputs": [],
   "source": [
    "def drop_prefix(self, prefix):\n",
    "    self.columns = self.columns.str.replace('^'+prefix,'')\n",
    "    return self\n",
    "\n",
    "pd.core.frame.DataFrame.drop_prefix = drop_prefix"
   ]
  },
  {
   "cell_type": "code",
   "execution_count": 830,
   "metadata": {},
   "outputs": [],
   "source": [
    "union = pd.concat([df_red.drop_prefix('R_'), df_blue.drop_prefix('B_')])"
   ]
  },
  {
   "cell_type": "markdown",
   "metadata": {},
   "source": [
    "- join this combined fight history DataFrame to the originial fighter DataFrame"
   ]
  },
  {
   "cell_type": "code",
   "execution_count": 831,
   "metadata": {
    "scrolled": true
   },
   "outputs": [
    {
     "data": {
      "text/html": [
       "<div>\n",
       "<style scoped>\n",
       "    .dataframe tbody tr th:only-of-type {\n",
       "        vertical-align: middle;\n",
       "    }\n",
       "\n",
       "    .dataframe tbody tr th {\n",
       "        vertical-align: top;\n",
       "    }\n",
       "\n",
       "    .dataframe thead th {\n",
       "        text-align: right;\n",
       "    }\n",
       "</style>\n",
       "<table border=\"1\" class=\"dataframe\">\n",
       "  <thead>\n",
       "    <tr style=\"text-align: right;\">\n",
       "      <th></th>\n",
       "      <th>fighter</th>\n",
       "      <th>KD</th>\n",
       "      <th>SIG_STR_pct</th>\n",
       "      <th>TD_pct</th>\n",
       "      <th>SUB_ATT</th>\n",
       "      <th>PASS</th>\n",
       "      <th>REV</th>\n",
       "      <th>SIG_STR._ATT</th>\n",
       "      <th>SIG_STR._LANDED</th>\n",
       "      <th>TOTAL_STR._ATT</th>\n",
       "      <th>...</th>\n",
       "      <th>GROUND_LANDED</th>\n",
       "      <th>Winner</th>\n",
       "      <th>win_by</th>\n",
       "      <th>last_round</th>\n",
       "      <th>date</th>\n",
       "      <th>location</th>\n",
       "      <th>title_bout</th>\n",
       "      <th>weight_class</th>\n",
       "      <th>total_time_fought(sec)</th>\n",
       "      <th>no_of_rounds</th>\n",
       "    </tr>\n",
       "  </thead>\n",
       "  <tbody>\n",
       "    <tr>\n",
       "      <td>280</td>\n",
       "      <td>Daniel Cormier</td>\n",
       "      <td>0</td>\n",
       "      <td>0.68</td>\n",
       "      <td>0.33</td>\n",
       "      <td>0</td>\n",
       "      <td>2</td>\n",
       "      <td>0</td>\n",
       "      <td>263</td>\n",
       "      <td>181</td>\n",
       "      <td>317</td>\n",
       "      <td>...</td>\n",
       "      <td>21</td>\n",
       "      <td>Stipe Miocic</td>\n",
       "      <td>KO</td>\n",
       "      <td>4</td>\n",
       "      <td>2019-08-17</td>\n",
       "      <td>0</td>\n",
       "      <td>1</td>\n",
       "      <td>Heavyweight</td>\n",
       "      <td>1149</td>\n",
       "      <td>5</td>\n",
       "    </tr>\n",
       "    <tr>\n",
       "      <td>710</td>\n",
       "      <td>Daniel Cormier</td>\n",
       "      <td>0</td>\n",
       "      <td>0.76</td>\n",
       "      <td>1.00</td>\n",
       "      <td>1</td>\n",
       "      <td>4</td>\n",
       "      <td>0</td>\n",
       "      <td>25</td>\n",
       "      <td>19</td>\n",
       "      <td>54</td>\n",
       "      <td>...</td>\n",
       "      <td>14</td>\n",
       "      <td>Daniel Cormier</td>\n",
       "      <td>Submission</td>\n",
       "      <td>2</td>\n",
       "      <td>2018-11-03</td>\n",
       "      <td>0</td>\n",
       "      <td>1</td>\n",
       "      <td>Heavyweight</td>\n",
       "      <td>434</td>\n",
       "      <td>5</td>\n",
       "    </tr>\n",
       "    <tr>\n",
       "      <td>1064</td>\n",
       "      <td>Daniel Cormier</td>\n",
       "      <td>0</td>\n",
       "      <td>0.52</td>\n",
       "      <td>0.66</td>\n",
       "      <td>1</td>\n",
       "      <td>3</td>\n",
       "      <td>0</td>\n",
       "      <td>61</td>\n",
       "      <td>32</td>\n",
       "      <td>113</td>\n",
       "      <td>...</td>\n",
       "      <td>5</td>\n",
       "      <td>Daniel Cormier</td>\n",
       "      <td>KO</td>\n",
       "      <td>2</td>\n",
       "      <td>2018-01-20</td>\n",
       "      <td>0</td>\n",
       "      <td>1</td>\n",
       "      <td>Light Heavyweight</td>\n",
       "      <td>420</td>\n",
       "      <td>5</td>\n",
       "    </tr>\n",
       "  </tbody>\n",
       "</table>\n",
       "<p>3 rows × 34 columns</p>\n",
       "</div>"
      ],
      "text/plain": [
       "             fighter  KD  SIG_STR_pct  TD_pct  SUB_ATT  PASS  REV  \\\n",
       "280   Daniel Cormier   0         0.68    0.33        0     2    0   \n",
       "710   Daniel Cormier   0         0.76    1.00        1     4    0   \n",
       "1064  Daniel Cormier   0         0.52    0.66        1     3    0   \n",
       "\n",
       "      SIG_STR._ATT  SIG_STR._LANDED  TOTAL_STR._ATT  ...  GROUND_LANDED  \\\n",
       "280            263              181             317  ...             21   \n",
       "710             25               19              54  ...             14   \n",
       "1064            61               32             113  ...              5   \n",
       "\n",
       "              Winner      win_by  last_round       date  location  title_bout  \\\n",
       "280     Stipe Miocic          KO           4 2019-08-17         0           1   \n",
       "710   Daniel Cormier  Submission           2 2018-11-03         0           1   \n",
       "1064  Daniel Cormier          KO           2 2018-01-20         0           1   \n",
       "\n",
       "           weight_class  total_time_fought(sec)  no_of_rounds  \n",
       "280         Heavyweight                    1149             5  \n",
       "710         Heavyweight                     434             5  \n",
       "1064  Light Heavyweight                     420             5  \n",
       "\n",
       "[3 rows x 34 columns]"
      ]
     },
     "execution_count": 831,
     "metadata": {},
     "output_type": "execute_result"
    }
   ],
   "source": [
    "union[union['fighter']=='Daniel Cormier'].head(3)"
   ]
  },
  {
   "cell_type": "code",
   "execution_count": 832,
   "metadata": {
    "scrolled": true
   },
   "outputs": [],
   "source": [
    "df_fighter_history = pd.merge(df_fighters, union, left_on='fighter_name', right_on='fighter', how='left', indicator=True)"
   ]
  },
  {
   "cell_type": "markdown",
   "metadata": {},
   "source": [
    "- 1,330 fighters without any fight stats (in original fighter dataset)\n",
    "    - However, every fighter involved in a historical bout is contained in the original fighter dataset\n",
    "    - UPDATE: after analysis using the above 1,330 fighters, they will be dropped to ensure data quality and avoid \"garbage in, garbage out"
   ]
  },
  {
   "cell_type": "code",
   "execution_count": 833,
   "metadata": {},
   "outputs": [
    {
     "data": {
      "text/plain": [
       "both          11076\n",
       "left_only      1330\n",
       "right_only        0\n",
       "Name: _merge, dtype: int64"
      ]
     },
     "execution_count": 833,
     "metadata": {},
     "output_type": "execute_result"
    }
   ],
   "source": [
    "df_fighter_history._merge.value_counts()"
   ]
  },
  {
   "cell_type": "code",
   "execution_count": 834,
   "metadata": {},
   "outputs": [],
   "source": [
    "df_fighter_history = df_fighter_history[df_fighter_history._merge != 'left_only']"
   ]
  },
  {
   "cell_type": "code",
   "execution_count": 835,
   "metadata": {},
   "outputs": [
    {
     "data": {
      "text/plain": [
       "(11086, 34)"
      ]
     },
     "execution_count": 835,
     "metadata": {},
     "output_type": "execute_result"
    }
   ],
   "source": [
    "union.shape"
   ]
  },
  {
   "cell_type": "markdown",
   "metadata": {},
   "source": [
    "- replace categorical feature (i.e. Stance) NULLs with the mode of that column"
   ]
  },
  {
   "cell_type": "code",
   "execution_count": 836,
   "metadata": {},
   "outputs": [],
   "source": [
    "df_fighter_history['Stance'].fillna(df_fighter_history['Stance'].value_counts().index[0], inplace=True)"
   ]
  },
  {
   "cell_type": "code",
   "execution_count": 837,
   "metadata": {},
   "outputs": [
    {
     "data": {
      "text/plain": [
       "(11076, 41)"
      ]
     },
     "execution_count": 837,
     "metadata": {},
     "output_type": "execute_result"
    }
   ],
   "source": [
    "df_fighter_history.shape"
   ]
  },
  {
   "cell_type": "markdown",
   "metadata": {},
   "source": [
    "- lack of depth in individual fight history presents a problem for forecasting fighter performance"
   ]
  },
  {
   "cell_type": "code",
   "execution_count": 838,
   "metadata": {},
   "outputs": [
    {
     "data": {
      "text/plain": [
       "Jim Miller          34\n",
       "Donald Cerrone      34\n",
       "Jeremy Stephens     32\n",
       "Demian Maia         32\n",
       "Diego Sanchez       31\n",
       "                    ..\n",
       "Dieusel Berto        1\n",
       "Liana Jojua          1\n",
       "Fredson Paixao       1\n",
       "Daniel Rodriguez     1\n",
       "Delson Heleno        1\n",
       "Name: fighter_name, Length: 2008, dtype: int64"
      ]
     },
     "execution_count": 838,
     "metadata": {},
     "output_type": "execute_result"
    }
   ],
   "source": [
    "df_fighter_history['fighter_name'].value_counts()"
   ]
  },
  {
   "cell_type": "markdown",
   "metadata": {},
   "source": [
    "<h3>Feature Engineering</h3>"
   ]
  },
  {
   "cell_type": "code",
   "execution_count": 839,
   "metadata": {
    "scrolled": true
   },
   "outputs": [
    {
     "data": {
      "text/html": [
       "<div>\n",
       "<style scoped>\n",
       "    .dataframe tbody tr th:only-of-type {\n",
       "        vertical-align: middle;\n",
       "    }\n",
       "\n",
       "    .dataframe tbody tr th {\n",
       "        vertical-align: top;\n",
       "    }\n",
       "\n",
       "    .dataframe thead th {\n",
       "        text-align: right;\n",
       "    }\n",
       "</style>\n",
       "<table border=\"1\" class=\"dataframe\">\n",
       "  <thead>\n",
       "    <tr style=\"text-align: right;\">\n",
       "      <th></th>\n",
       "      <th>R_fighter</th>\n",
       "      <th>B_fighter</th>\n",
       "      <th>R_KD</th>\n",
       "      <th>B_KD</th>\n",
       "      <th>R_SIG_STR_pct</th>\n",
       "      <th>B_SIG_STR_pct</th>\n",
       "      <th>R_TD_pct</th>\n",
       "      <th>B_TD_pct</th>\n",
       "      <th>R_SUB_ATT</th>\n",
       "      <th>B_SUB_ATT</th>\n",
       "      <th>...</th>\n",
       "      <th>B_CLINCH_LANDED</th>\n",
       "      <th>R_GROUND_ATT</th>\n",
       "      <th>R_GROUND_LANDED</th>\n",
       "      <th>B_GROUND_ATT</th>\n",
       "      <th>B_GROUND_LANDED</th>\n",
       "      <th>title_bout</th>\n",
       "      <th>weight_class</th>\n",
       "      <th>total_time_fought(sec)</th>\n",
       "      <th>no_of_rounds</th>\n",
       "      <th>Red_win</th>\n",
       "    </tr>\n",
       "  </thead>\n",
       "  <tbody>\n",
       "    <tr>\n",
       "      <td>103</td>\n",
       "      <td>Dong Hyun Ma</td>\n",
       "      <td>Omar Morales</td>\n",
       "      <td>0</td>\n",
       "      <td>1</td>\n",
       "      <td>0.26</td>\n",
       "      <td>0.35</td>\n",
       "      <td>0.0</td>\n",
       "      <td>1.0</td>\n",
       "      <td>0</td>\n",
       "      <td>0</td>\n",
       "      <td>...</td>\n",
       "      <td>0</td>\n",
       "      <td>0</td>\n",
       "      <td>0</td>\n",
       "      <td>20</td>\n",
       "      <td>12</td>\n",
       "      <td>0</td>\n",
       "      <td>Lightweight</td>\n",
       "      <td>900</td>\n",
       "      <td>3</td>\n",
       "      <td>0</td>\n",
       "    </tr>\n",
       "  </tbody>\n",
       "</table>\n",
       "<p>1 rows × 60 columns</p>\n",
       "</div>"
      ],
      "text/plain": [
       "        R_fighter     B_fighter  R_KD  B_KD  R_SIG_STR_pct  B_SIG_STR_pct  \\\n",
       "103  Dong Hyun Ma  Omar Morales     0     1           0.26           0.35   \n",
       "\n",
       "     R_TD_pct  B_TD_pct  R_SUB_ATT  B_SUB_ATT  ...  B_CLINCH_LANDED  \\\n",
       "103       0.0       1.0          0          0  ...                0   \n",
       "\n",
       "     R_GROUND_ATT  R_GROUND_LANDED  B_GROUND_ATT B_GROUND_LANDED  title_bout  \\\n",
       "103             0                0            20              12           0   \n",
       "\n",
       "    weight_class  total_time_fought(sec) no_of_rounds  Red_win  \n",
       "103  Lightweight                     900            3        0  \n",
       "\n",
       "[1 rows x 60 columns]"
      ]
     },
     "execution_count": 839,
     "metadata": {},
     "output_type": "execute_result"
    }
   ],
   "source": [
    "df_fights[df_fights['B_fighter']=='Omar Morales']"
   ]
  },
  {
   "cell_type": "code",
   "execution_count": 840,
   "metadata": {
    "scrolled": true
   },
   "outputs": [
    {
     "data": {
      "text/html": [
       "<div>\n",
       "<style scoped>\n",
       "    .dataframe tbody tr th:only-of-type {\n",
       "        vertical-align: middle;\n",
       "    }\n",
       "\n",
       "    .dataframe tbody tr th {\n",
       "        vertical-align: top;\n",
       "    }\n",
       "\n",
       "    .dataframe thead th {\n",
       "        text-align: right;\n",
       "    }\n",
       "</style>\n",
       "<table border=\"1\" class=\"dataframe\">\n",
       "  <thead>\n",
       "    <tr style=\"text-align: right;\">\n",
       "      <th></th>\n",
       "      <th>fighter_name</th>\n",
       "      <th>Height</th>\n",
       "      <th>Weight</th>\n",
       "      <th>Reach</th>\n",
       "      <th>Stance</th>\n",
       "      <th>DOB</th>\n",
       "      <th>fighter</th>\n",
       "      <th>KD</th>\n",
       "      <th>SIG_STR_pct</th>\n",
       "      <th>TD_pct</th>\n",
       "      <th>...</th>\n",
       "      <th>Winner</th>\n",
       "      <th>win_by</th>\n",
       "      <th>last_round</th>\n",
       "      <th>date</th>\n",
       "      <th>location</th>\n",
       "      <th>title_bout</th>\n",
       "      <th>weight_class</th>\n",
       "      <th>total_time_fought(sec)</th>\n",
       "      <th>no_of_rounds</th>\n",
       "      <th>_merge</th>\n",
       "    </tr>\n",
       "  </thead>\n",
       "  <tbody>\n",
       "    <tr>\n",
       "      <td>1</td>\n",
       "      <td>Danny Abbadi</td>\n",
       "      <td>71.0</td>\n",
       "      <td>155.0</td>\n",
       "      <td>72.68125</td>\n",
       "      <td>Orthodox</td>\n",
       "      <td>1983-07-03</td>\n",
       "      <td>Danny Abbadi</td>\n",
       "      <td>0.0</td>\n",
       "      <td>0.38</td>\n",
       "      <td>0.00</td>\n",
       "      <td>...</td>\n",
       "      <td>Jorge Gurgel</td>\n",
       "      <td>Other</td>\n",
       "      <td>3.0</td>\n",
       "      <td>2006-09-23</td>\n",
       "      <td>0.0</td>\n",
       "      <td>0.0</td>\n",
       "      <td>Lightweight</td>\n",
       "      <td>900.0</td>\n",
       "      <td>3.0</td>\n",
       "      <td>both</td>\n",
       "    </tr>\n",
       "    <tr>\n",
       "      <td>2</td>\n",
       "      <td>Danny Abbadi</td>\n",
       "      <td>71.0</td>\n",
       "      <td>155.0</td>\n",
       "      <td>72.68125</td>\n",
       "      <td>Orthodox</td>\n",
       "      <td>1983-07-03</td>\n",
       "      <td>Danny Abbadi</td>\n",
       "      <td>0.0</td>\n",
       "      <td>0.33</td>\n",
       "      <td>0.00</td>\n",
       "      <td>...</td>\n",
       "      <td>Kalib Starnes</td>\n",
       "      <td>Submission</td>\n",
       "      <td>1.0</td>\n",
       "      <td>2006-06-24</td>\n",
       "      <td>1.0</td>\n",
       "      <td>0.0</td>\n",
       "      <td>Middleweight</td>\n",
       "      <td>176.0</td>\n",
       "      <td>3.0</td>\n",
       "      <td>both</td>\n",
       "    </tr>\n",
       "    <tr>\n",
       "      <td>3</td>\n",
       "      <td>David Abbott</td>\n",
       "      <td>72.0</td>\n",
       "      <td>265.0</td>\n",
       "      <td>73.75000</td>\n",
       "      <td>Switch</td>\n",
       "      <td>NaT</td>\n",
       "      <td>David Abbott</td>\n",
       "      <td>0.0</td>\n",
       "      <td>0.68</td>\n",
       "      <td>0.00</td>\n",
       "      <td>...</td>\n",
       "      <td>David Abbott</td>\n",
       "      <td>KO</td>\n",
       "      <td>1.0</td>\n",
       "      <td>1998-05-15</td>\n",
       "      <td>0.0</td>\n",
       "      <td>0.0</td>\n",
       "      <td>Heavyweight</td>\n",
       "      <td>43.0</td>\n",
       "      <td>2.0</td>\n",
       "      <td>both</td>\n",
       "    </tr>\n",
       "    <tr>\n",
       "      <td>4</td>\n",
       "      <td>David Abbott</td>\n",
       "      <td>72.0</td>\n",
       "      <td>265.0</td>\n",
       "      <td>73.75000</td>\n",
       "      <td>Switch</td>\n",
       "      <td>NaT</td>\n",
       "      <td>David Abbott</td>\n",
       "      <td>0.0</td>\n",
       "      <td>0.41</td>\n",
       "      <td>0.75</td>\n",
       "      <td>...</td>\n",
       "      <td>David Abbott</td>\n",
       "      <td>Other</td>\n",
       "      <td>2.0</td>\n",
       "      <td>1997-12-21</td>\n",
       "      <td>0.0</td>\n",
       "      <td>0.0</td>\n",
       "      <td>Heavyweight</td>\n",
       "      <td>900.0</td>\n",
       "      <td>2.0</td>\n",
       "      <td>both</td>\n",
       "    </tr>\n",
       "    <tr>\n",
       "      <td>5</td>\n",
       "      <td>David Abbott</td>\n",
       "      <td>72.0</td>\n",
       "      <td>265.0</td>\n",
       "      <td>73.75000</td>\n",
       "      <td>Switch</td>\n",
       "      <td>NaT</td>\n",
       "      <td>David Abbott</td>\n",
       "      <td>1.0</td>\n",
       "      <td>0.52</td>\n",
       "      <td>1.00</td>\n",
       "      <td>...</td>\n",
       "      <td>David Abbott</td>\n",
       "      <td>KO</td>\n",
       "      <td>1.0</td>\n",
       "      <td>1996-12-07</td>\n",
       "      <td>0.0</td>\n",
       "      <td>0.0</td>\n",
       "      <td>Open Weight</td>\n",
       "      <td>63.0</td>\n",
       "      <td>2.0</td>\n",
       "      <td>both</td>\n",
       "    </tr>\n",
       "  </tbody>\n",
       "</table>\n",
       "<p>5 rows × 41 columns</p>\n",
       "</div>"
      ],
      "text/plain": [
       "   fighter_name  Height  Weight     Reach    Stance        DOB       fighter  \\\n",
       "1  Danny Abbadi    71.0   155.0  72.68125  Orthodox 1983-07-03  Danny Abbadi   \n",
       "2  Danny Abbadi    71.0   155.0  72.68125  Orthodox 1983-07-03  Danny Abbadi   \n",
       "3  David Abbott    72.0   265.0  73.75000    Switch        NaT  David Abbott   \n",
       "4  David Abbott    72.0   265.0  73.75000    Switch        NaT  David Abbott   \n",
       "5  David Abbott    72.0   265.0  73.75000    Switch        NaT  David Abbott   \n",
       "\n",
       "    KD  SIG_STR_pct  TD_pct  ...         Winner      win_by  last_round  \\\n",
       "1  0.0         0.38    0.00  ...   Jorge Gurgel       Other         3.0   \n",
       "2  0.0         0.33    0.00  ...  Kalib Starnes  Submission         1.0   \n",
       "3  0.0         0.68    0.00  ...   David Abbott          KO         1.0   \n",
       "4  0.0         0.41    0.75  ...   David Abbott       Other         2.0   \n",
       "5  1.0         0.52    1.00  ...   David Abbott          KO         1.0   \n",
       "\n",
       "        date  location  title_bout  weight_class  total_time_fought(sec)  \\\n",
       "1 2006-09-23       0.0         0.0   Lightweight                   900.0   \n",
       "2 2006-06-24       1.0         0.0  Middleweight                   176.0   \n",
       "3 1998-05-15       0.0         0.0   Heavyweight                    43.0   \n",
       "4 1997-12-21       0.0         0.0   Heavyweight                   900.0   \n",
       "5 1996-12-07       0.0         0.0   Open Weight                    63.0   \n",
       "\n",
       "   no_of_rounds  _merge  \n",
       "1           3.0    both  \n",
       "2           3.0    both  \n",
       "3           2.0    both  \n",
       "4           2.0    both  \n",
       "5           2.0    both  \n",
       "\n",
       "[5 rows x 41 columns]"
      ]
     },
     "execution_count": 840,
     "metadata": {},
     "output_type": "execute_result"
    }
   ],
   "source": [
    "df_fighter_history.head()"
   ]
  },
  {
   "cell_type": "markdown",
   "metadata": {},
   "source": [
    "- creating age (at fight date) feature"
   ]
  },
  {
   "cell_type": "code",
   "execution_count": 841,
   "metadata": {},
   "outputs": [],
   "source": [
    "df_fighter_history['age'] = df_fighter_history['date'] - df_fighter_history['DOB']\n",
    "df_fighter_history['age']=df_fighter_history['age']/np.timedelta64(1,'Y')\n",
    "df_fighter_history['age'].fillna(df_fighter_history['age'].mean(), inplace=True)"
   ]
  },
  {
   "cell_type": "code",
   "execution_count": 842,
   "metadata": {},
   "outputs": [
    {
     "data": {
      "text/plain": [
       "2453     18.267316\n",
       "6076     18.541106\n",
       "8132     19.589725\n",
       "8131     19.775902\n",
       "5226     19.784116\n",
       "           ...    \n",
       "2197     46.399310\n",
       "2196     46.629294\n",
       "2195     47.185089\n",
       "2211     47.855877\n",
       "11657    51.891552\n",
       "Name: age, Length: 11076, dtype: float64"
      ]
     },
     "execution_count": 842,
     "metadata": {},
     "output_type": "execute_result"
    }
   ],
   "source": [
    "df_fighter_history['age'].sort_values()"
   ]
  },
  {
   "cell_type": "code",
   "execution_count": 843,
   "metadata": {},
   "outputs": [
    {
     "data": {
      "text/plain": [
       "29.848766940940827"
      ]
     },
     "execution_count": 843,
     "metadata": {},
     "output_type": "execute_result"
    }
   ],
   "source": [
    "df_fighter_history['age'].mean()"
   ]
  },
  {
   "cell_type": "code",
   "execution_count": 844,
   "metadata": {
    "scrolled": true
   },
   "outputs": [],
   "source": [
    "df_fighter_history.drop(columns='_merge', inplace=True)"
   ]
  },
  {
   "cell_type": "markdown",
   "metadata": {},
   "source": [
    "- create features for 1) # of fights they've been in, 2) what % they won, and 3) the ranked order of past fights"
   ]
  },
  {
   "cell_type": "code",
   "execution_count": 845,
   "metadata": {
    "scrolled": true
   },
   "outputs": [],
   "source": [
    "df_fighter_history['num_fights'] = df_fighter_history['date'].groupby(df_fighter_history['fighter_name']).transform('count')\n",
    "\n",
    "df_fighter_history['win'] = df_fighter_history.apply(lambda row: 1 if row['Winner'] == row['fighter_name'] else 0, axis=1)\n",
    "df_fighter_history.drop(columns=['Winner'], inplace=True)\n",
    "\n",
    "df_fighter_history['num_wins'] = df_fighter_history['win'].groupby(df_fighter_history['fighter_name']).transform('sum')\n",
    "\n",
    "df_fighter_history['record'] = df_fighter_history['num_wins']/df_fighter_history['num_fights']"
   ]
  },
  {
   "cell_type": "code",
   "execution_count": 846,
   "metadata": {},
   "outputs": [],
   "source": [
    "df_fighter_history['title_bout']=df_fighter_history['title_bout'].apply(lambda x: 1 if x == 1 else 0)"
   ]
  },
  {
   "cell_type": "code",
   "execution_count": 847,
   "metadata": {},
   "outputs": [],
   "source": [
    "df_fighter_history['fight_rank']=df_fighter_history.groupby('fighter_name')['date'].rank(ascending=True, method='first')"
   ]
  },
  {
   "cell_type": "code",
   "execution_count": 848,
   "metadata": {},
   "outputs": [],
   "source": [
    "df_fighter_history.drop(columns='fighter', inplace=True)"
   ]
  },
  {
   "cell_type": "code",
   "execution_count": 849,
   "metadata": {},
   "outputs": [],
   "source": [
    "df_fights_train = df_fights[['R_fighter', 'B_fighter', 'R_KD', 'B_KD', 'R_SIG_STR_pct',\n",
    "       'B_SIG_STR_pct', 'R_TD_pct', 'B_TD_pct', 'R_SUB_ATT', 'B_SUB_ATT',\n",
    "       'R_PASS', 'B_PASS', 'R_REV', 'B_REV', 'win_by', 'last_round', 'date',\n",
    "       'location', 'R_SIG_STR._ATT', 'R_SIG_STR._LANDED',\n",
    "       'B_SIG_STR._ATT', 'B_SIG_STR._LANDED', 'R_TOTAL_STR._ATT',\n",
    "       'R_TOTAL_STR._LANDED', 'B_TOTAL_STR._ATT', 'B_TOTAL_STR._LANDED',\n",
    "       'R_TD_ATT', 'R_TD_LANDED', 'B_TD_ATT', 'B_TD_LANDED', 'R_HEAD_ATT',\n",
    "       'R_HEAD_LANDED', 'B_HEAD_ATT', 'B_HEAD_LANDED', 'R_BODY_ATT',\n",
    "       'R_BODY_LANDED', 'B_BODY_ATT', 'B_BODY_LANDED', 'R_LEG_ATT',\n",
    "       'R_LEG_LANDED', 'B_LEG_ATT', 'B_LEG_LANDED', 'R_DISTANCE_ATT',\n",
    "       'R_DISTANCE_LANDED', 'B_DISTANCE_ATT', 'B_DISTANCE_LANDED',\n",
    "       'R_CLINCH_ATT', 'R_CLINCH_LANDED', 'B_CLINCH_ATT', 'B_CLINCH_LANDED',\n",
    "       'R_GROUND_ATT', 'R_GROUND_LANDED', 'B_GROUND_ATT', 'B_GROUND_LANDED',\n",
    "       'title_bout', 'weight_class', 'total_time_fought(sec)', 'no_of_rounds',\n",
    "       'Red_win']]"
   ]
  },
  {
   "cell_type": "code",
   "execution_count": 850,
   "metadata": {},
   "outputs": [],
   "source": [
    "df_fighter_history_train = df_fighter_history[['fighter_name', 'Height', \n",
    "                            'Weight', 'Reach', 'Stance', 'DOB', 'win_by',\n",
    "                            'date',\n",
    "                           'win']]"
   ]
  },
  {
   "cell_type": "code",
   "execution_count": 851,
   "metadata": {},
   "outputs": [
    {
     "data": {
      "text/html": [
       "<div>\n",
       "<style scoped>\n",
       "    .dataframe tbody tr th:only-of-type {\n",
       "        vertical-align: middle;\n",
       "    }\n",
       "\n",
       "    .dataframe tbody tr th {\n",
       "        vertical-align: top;\n",
       "    }\n",
       "\n",
       "    .dataframe thead th {\n",
       "        text-align: right;\n",
       "    }\n",
       "</style>\n",
       "<table border=\"1\" class=\"dataframe\">\n",
       "  <thead>\n",
       "    <tr style=\"text-align: right;\">\n",
       "      <th></th>\n",
       "      <th>fighter_name</th>\n",
       "      <th>Height</th>\n",
       "      <th>Weight</th>\n",
       "      <th>Reach</th>\n",
       "      <th>Stance</th>\n",
       "      <th>DOB</th>\n",
       "      <th>win_by</th>\n",
       "      <th>date</th>\n",
       "      <th>win</th>\n",
       "    </tr>\n",
       "  </thead>\n",
       "  <tbody>\n",
       "    <tr>\n",
       "      <td>1</td>\n",
       "      <td>Danny Abbadi</td>\n",
       "      <td>71.0</td>\n",
       "      <td>155.0</td>\n",
       "      <td>72.68125</td>\n",
       "      <td>Orthodox</td>\n",
       "      <td>1983-07-03</td>\n",
       "      <td>Other</td>\n",
       "      <td>2006-09-23</td>\n",
       "      <td>0</td>\n",
       "    </tr>\n",
       "    <tr>\n",
       "      <td>2</td>\n",
       "      <td>Danny Abbadi</td>\n",
       "      <td>71.0</td>\n",
       "      <td>155.0</td>\n",
       "      <td>72.68125</td>\n",
       "      <td>Orthodox</td>\n",
       "      <td>1983-07-03</td>\n",
       "      <td>Submission</td>\n",
       "      <td>2006-06-24</td>\n",
       "      <td>0</td>\n",
       "    </tr>\n",
       "    <tr>\n",
       "      <td>3</td>\n",
       "      <td>David Abbott</td>\n",
       "      <td>72.0</td>\n",
       "      <td>265.0</td>\n",
       "      <td>73.75000</td>\n",
       "      <td>Switch</td>\n",
       "      <td>NaT</td>\n",
       "      <td>KO</td>\n",
       "      <td>1998-05-15</td>\n",
       "      <td>1</td>\n",
       "    </tr>\n",
       "  </tbody>\n",
       "</table>\n",
       "</div>"
      ],
      "text/plain": [
       "   fighter_name  Height  Weight     Reach    Stance        DOB      win_by  \\\n",
       "1  Danny Abbadi    71.0   155.0  72.68125  Orthodox 1983-07-03       Other   \n",
       "2  Danny Abbadi    71.0   155.0  72.68125  Orthodox 1983-07-03  Submission   \n",
       "3  David Abbott    72.0   265.0  73.75000    Switch        NaT          KO   \n",
       "\n",
       "        date  win  \n",
       "1 2006-09-23    0  \n",
       "2 2006-06-24    0  \n",
       "3 1998-05-15    1  "
      ]
     },
     "execution_count": 851,
     "metadata": {},
     "output_type": "execute_result"
    }
   ],
   "source": [
    "df_fighter_history_train.head(3)"
   ]
  },
  {
   "cell_type": "markdown",
   "metadata": {},
   "source": [
    "- first merge for red fighter"
   ]
  },
  {
   "cell_type": "code",
   "execution_count": 852,
   "metadata": {},
   "outputs": [],
   "source": [
    "df_train = pd.merge(df_fights_train, df_fighter_history_train, left_on='R_fighter',right_on='fighter_name',sort=False)"
   ]
  },
  {
   "cell_type": "markdown",
   "metadata": {},
   "source": [
    "- for each bout, filter to only previous fights"
   ]
  },
  {
   "cell_type": "code",
   "execution_count": 853,
   "metadata": {
    "scrolled": true
   },
   "outputs": [],
   "source": [
    "df_train = df_train[df_train['date_x'] > df_train['date_y']]\n",
    "df_train.drop(columns=['date_y','fighter_name'], inplace=True)"
   ]
  },
  {
   "cell_type": "markdown",
   "metadata": {},
   "source": [
    "- create dummy variables for fighter-specific categorical variables (i.e. stance, win_by)"
   ]
  },
  {
   "cell_type": "code",
   "execution_count": 854,
   "metadata": {},
   "outputs": [],
   "source": [
    "df_train = pd.concat([df_train, pd.get_dummies(df_train['win_by_y'])], axis=1)\n",
    "df_train.drop(columns=['win_by_y','Other'], inplace=True)\n",
    "df_train.rename(columns={'date_x':'date', 'KO':'R_KO_win_%', 'Submission':'R_Sub_win_%'}, inplace=True)\n",
    "\n",
    "df_train = pd.concat([df_train, pd.get_dummies(df_train['Stance'])], axis=1)\n",
    "df_train.drop(columns=['Stance','Switch','Open Stance','Sideways'], inplace=True)\n",
    "df_train.rename(columns={'Orthodox':'R_Stance_Orthodox', \n",
    "                         'Southpaw':'R_Stance_Southpaw',\n",
    "                         'Height':'R_Height',\n",
    "                         'Weight':'R_Weight',\n",
    "                         'Reach':'R_Reach'}, inplace=True)"
   ]
  },
  {
   "cell_type": "markdown",
   "metadata": {},
   "source": [
    "- recalculate number of past fights, fighter record, and fighter age"
   ]
  },
  {
   "cell_type": "code",
   "execution_count": 855,
   "metadata": {},
   "outputs": [],
   "source": [
    "df_train['R_num_fights'] = df_train.groupby(['R_fighter','date'])['date'].transform('count')\n",
    "\n",
    "df_train['R_num_wins'] = df_train.groupby(['R_fighter','date'])['win'].transform('sum')\n",
    "\n",
    "df_train['R_record'] = df_train['R_num_wins']/df_train['R_num_fights']\n",
    "\n",
    "df_train.drop(columns=['win','R_num_wins'], inplace=True)"
   ]
  },
  {
   "cell_type": "code",
   "execution_count": 856,
   "metadata": {},
   "outputs": [],
   "source": [
    "df_train['R_age'] = df_train['date'] - df_train['DOB']\n",
    "df_train['R_age']=df_train['R_age']/np.timedelta64(1,'Y')\n",
    "df_train['R_age'].fillna(df_train['R_age'].mean(), inplace=True)\n",
    "\n",
    "df_train.drop(columns=['DOB'], inplace=True)"
   ]
  },
  {
   "cell_type": "code",
   "execution_count": 857,
   "metadata": {},
   "outputs": [],
   "source": [
    "df_train[['R_KO_win_%', 'R_Sub_win_%']] = df_train.groupby(['R_fighter', 'B_fighter', 'R_KD', 'B_KD', 'R_SIG_STR_pct',\n",
    "       'B_SIG_STR_pct', 'R_TD_pct', 'B_TD_pct', 'R_SUB_ATT', 'B_SUB_ATT',\n",
    "       'R_PASS', 'B_PASS', 'R_REV', 'B_REV', 'win_by_x', 'last_round', 'date',\n",
    "       'location', 'R_SIG_STR._ATT', 'R_SIG_STR._LANDED', 'B_SIG_STR._ATT',\n",
    "       'B_SIG_STR._LANDED', 'R_TOTAL_STR._ATT', 'R_TOTAL_STR._LANDED',\n",
    "       'B_TOTAL_STR._ATT', 'B_TOTAL_STR._LANDED', 'R_TD_ATT', 'R_TD_LANDED',\n",
    "       'B_TD_ATT', 'B_TD_LANDED', 'R_HEAD_ATT', 'R_HEAD_LANDED', 'B_HEAD_ATT',\n",
    "       'B_HEAD_LANDED', 'R_BODY_ATT', 'R_BODY_LANDED', 'B_BODY_ATT',\n",
    "       'B_BODY_LANDED', 'R_LEG_ATT', 'R_LEG_LANDED', 'B_LEG_ATT',\n",
    "       'B_LEG_LANDED', 'R_DISTANCE_ATT', 'R_DISTANCE_LANDED', 'B_DISTANCE_ATT',\n",
    "       'B_DISTANCE_LANDED', 'R_CLINCH_ATT', 'R_CLINCH_LANDED', 'B_CLINCH_ATT',\n",
    "       'B_CLINCH_LANDED', 'R_GROUND_ATT', 'R_GROUND_LANDED', 'B_GROUND_ATT',\n",
    "       'B_GROUND_LANDED', 'title_bout', 'weight_class',\n",
    "       'total_time_fought(sec)', 'no_of_rounds', 'Red_win', 'R_Height', 'R_Weight',\n",
    "       'R_Reach', 'R_Stance_Orthodox',\n",
    "       'R_Stance_Southpaw', 'R_num_fights', 'R_record', 'R_age'])['R_KO_win_%', 'R_Sub_win_%'].transform('mean')\n",
    "\n",
    "df_train = df_train.drop_duplicates()"
   ]
  },
  {
   "cell_type": "markdown",
   "metadata": {},
   "source": [
    "- repeat steps for blue fighter"
   ]
  },
  {
   "cell_type": "code",
   "execution_count": 858,
   "metadata": {},
   "outputs": [],
   "source": [
    "#merge blue fighters\n",
    "df_train = pd.merge(df_train, df_fighter_history_train, left_on='B_fighter',right_on='fighter_name',sort=False)\n",
    "\n",
    "#only past fights\n",
    "df_train = df_train[df_train['date_x'] > df_train['date_y']]\n",
    "df_train.drop(columns=['date_y','fighter_name'], inplace=True)\n",
    "\n",
    "#dummy variables\n",
    "df_train = pd.concat([df_train, pd.get_dummies(df_train['win_by'])], axis=1)\n",
    "df_train.drop(columns=['win_by','Other'], inplace=True)\n",
    "df_train.rename(columns={'date_x':'date', 'KO':'B_KO_win_%', 'Submission':'B_Sub_win_%'}, inplace=True)\n",
    "\n",
    "df_train = pd.concat([df_train, pd.get_dummies(df_train['Stance'])], axis=1)\n",
    "df_train.drop(columns=['Stance','Switch','Open Stance','Sideways'], inplace=True)\n",
    "df_train.rename(columns={'Orthodox':'B_Stance_Orthodox', \n",
    "                         'Southpaw':'B_Stance_Southpaw',\n",
    "                         'Height':'B_Height',\n",
    "                         'Weight':'B_Weight',\n",
    "                         'Reach':'B_Reach'}, inplace=True)\n",
    "\n",
    "#num_fights and record\n",
    "df_train['B_num_fights'] = df_train.groupby(['B_fighter','date'])['date'].transform('count')\n",
    "\n",
    "df_train['B_num_wins'] = df_train.groupby(['B_fighter','date'])['win'].transform('sum')\n",
    "\n",
    "df_train['B_record'] = df_train['B_num_wins']/df_train['B_num_fights']\n",
    "\n",
    "df_train.drop(columns=['win','B_num_wins'], inplace=True)\n",
    "\n",
    "#age\n",
    "df_train['B_age'] = df_train['date'] - df_train['DOB']\n",
    "df_train['B_age']=df_train['B_age']/np.timedelta64(1,'Y')\n",
    "df_train['B_age'].fillna(df_train['B_age'].mean(), inplace=True)\n",
    "\n",
    "df_train.drop(columns=['DOB'], inplace=True)\n",
    "\n",
    "#win_by percentages\n",
    "df_train[['B_KO_win_%', 'B_Sub_win_%']] = df_train.groupby(['R_fighter', 'B_fighter', 'R_KD', 'B_KD', 'R_SIG_STR_pct',\n",
    "       'B_SIG_STR_pct', 'R_TD_pct', 'B_TD_pct', 'R_SUB_ATT', 'B_SUB_ATT',\n",
    "       'R_PASS', 'B_PASS', 'R_REV', 'B_REV', 'win_by_x', 'last_round', 'date',\n",
    "       'location', 'R_SIG_STR._ATT', 'R_SIG_STR._LANDED', 'B_SIG_STR._ATT',\n",
    "       'B_SIG_STR._LANDED', 'R_TOTAL_STR._ATT', 'R_TOTAL_STR._LANDED',\n",
    "       'B_TOTAL_STR._ATT', 'B_TOTAL_STR._LANDED', 'R_TD_ATT', 'R_TD_LANDED',\n",
    "       'B_TD_ATT', 'B_TD_LANDED', 'R_HEAD_ATT', 'R_HEAD_LANDED', 'B_HEAD_ATT',\n",
    "       'B_HEAD_LANDED', 'R_BODY_ATT', 'R_BODY_LANDED', 'B_BODY_ATT',\n",
    "       'B_BODY_LANDED', 'R_LEG_ATT', 'R_LEG_LANDED', 'B_LEG_ATT',\n",
    "       'B_LEG_LANDED', 'R_DISTANCE_ATT', 'R_DISTANCE_LANDED', 'B_DISTANCE_ATT',\n",
    "       'B_DISTANCE_LANDED', 'R_CLINCH_ATT', 'R_CLINCH_LANDED', 'B_CLINCH_ATT',\n",
    "       'B_CLINCH_LANDED', 'R_GROUND_ATT', 'R_GROUND_LANDED', 'B_GROUND_ATT',\n",
    "       'B_GROUND_LANDED', 'title_bout', 'weight_class',\n",
    "       'total_time_fought(sec)', 'no_of_rounds', 'Red_win', 'R_Height',\n",
    "       'R_Weight', 'R_Reach', 'R_KO_win_%', 'R_Sub_win_%', 'R_Stance_Orthodox',\n",
    "       'R_Stance_Southpaw', 'R_num_fights', 'R_record', 'R_age', 'B_Height',\n",
    "       'B_Weight', 'B_Reach', 'B_Stance_Orthodox',\n",
    "       'B_Stance_Southpaw', 'B_num_fights', 'B_record', 'B_age'])['B_KO_win_%', 'B_Sub_win_%'].transform('mean')\n",
    "\n",
    "df_train = df_train.drop_duplicates()"
   ]
  },
  {
   "cell_type": "code",
   "execution_count": 876,
   "metadata": {
    "scrolled": true
   },
   "outputs": [
    {
     "data": {
      "text/html": [
       "<div>\n",
       "<style scoped>\n",
       "    .dataframe tbody tr th:only-of-type {\n",
       "        vertical-align: middle;\n",
       "    }\n",
       "\n",
       "    .dataframe tbody tr th {\n",
       "        vertical-align: top;\n",
       "    }\n",
       "\n",
       "    .dataframe thead th {\n",
       "        text-align: right;\n",
       "    }\n",
       "</style>\n",
       "<table border=\"1\" class=\"dataframe\">\n",
       "  <thead>\n",
       "    <tr style=\"text-align: right;\">\n",
       "      <th></th>\n",
       "      <th>R_fighter</th>\n",
       "      <th>B_fighter</th>\n",
       "      <th>R_KD</th>\n",
       "      <th>B_KD</th>\n",
       "      <th>R_SIG_STR_pct</th>\n",
       "      <th>B_SIG_STR_pct</th>\n",
       "      <th>R_TD_pct</th>\n",
       "      <th>B_TD_pct</th>\n",
       "      <th>R_SUB_ATT</th>\n",
       "      <th>B_SUB_ATT</th>\n",
       "      <th>...</th>\n",
       "      <th>Flyweight</th>\n",
       "      <th>Heavyweight</th>\n",
       "      <th>Light Heavyweight</th>\n",
       "      <th>Lightweight</th>\n",
       "      <th>Middleweight</th>\n",
       "      <th>Welterweight</th>\n",
       "      <th>Women's Bantamweight</th>\n",
       "      <th>Women's Featherweight</th>\n",
       "      <th>Women's Flyweight</th>\n",
       "      <th>Women's Strawweight</th>\n",
       "    </tr>\n",
       "  </thead>\n",
       "  <tbody>\n",
       "    <tr>\n",
       "      <td>2198</td>\n",
       "      <td>Jon Jones</td>\n",
       "      <td>Chael Sonnen</td>\n",
       "      <td>0</td>\n",
       "      <td>0</td>\n",
       "      <td>0.74</td>\n",
       "      <td>0.40</td>\n",
       "      <td>0.50</td>\n",
       "      <td>0.00</td>\n",
       "      <td>0</td>\n",
       "      <td>0</td>\n",
       "      <td>...</td>\n",
       "      <td>0</td>\n",
       "      <td>0</td>\n",
       "      <td>1</td>\n",
       "      <td>0</td>\n",
       "      <td>0</td>\n",
       "      <td>0</td>\n",
       "      <td>0</td>\n",
       "      <td>0</td>\n",
       "      <td>0</td>\n",
       "      <td>0</td>\n",
       "    </tr>\n",
       "    <tr>\n",
       "      <td>13443</td>\n",
       "      <td>Jon Jones</td>\n",
       "      <td>Dominick Reyes</td>\n",
       "      <td>0</td>\n",
       "      <td>0</td>\n",
       "      <td>0.62</td>\n",
       "      <td>0.44</td>\n",
       "      <td>0.22</td>\n",
       "      <td>0.00</td>\n",
       "      <td>0</td>\n",
       "      <td>0</td>\n",
       "      <td>...</td>\n",
       "      <td>0</td>\n",
       "      <td>0</td>\n",
       "      <td>1</td>\n",
       "      <td>0</td>\n",
       "      <td>0</td>\n",
       "      <td>0</td>\n",
       "      <td>0</td>\n",
       "      <td>0</td>\n",
       "      <td>0</td>\n",
       "      <td>0</td>\n",
       "    </tr>\n",
       "    <tr>\n",
       "      <td>13485</td>\n",
       "      <td>Jon Jones</td>\n",
       "      <td>Thiago Santos</td>\n",
       "      <td>0</td>\n",
       "      <td>0</td>\n",
       "      <td>0.65</td>\n",
       "      <td>0.25</td>\n",
       "      <td>0.00</td>\n",
       "      <td>0.00</td>\n",
       "      <td>0</td>\n",
       "      <td>0</td>\n",
       "      <td>...</td>\n",
       "      <td>0</td>\n",
       "      <td>0</td>\n",
       "      <td>1</td>\n",
       "      <td>0</td>\n",
       "      <td>0</td>\n",
       "      <td>0</td>\n",
       "      <td>0</td>\n",
       "      <td>0</td>\n",
       "      <td>0</td>\n",
       "      <td>0</td>\n",
       "    </tr>\n",
       "    <tr>\n",
       "      <td>13675</td>\n",
       "      <td>Jon Jones</td>\n",
       "      <td>Anthony Smith</td>\n",
       "      <td>0</td>\n",
       "      <td>0</td>\n",
       "      <td>0.74</td>\n",
       "      <td>0.54</td>\n",
       "      <td>0.37</td>\n",
       "      <td>0.00</td>\n",
       "      <td>0</td>\n",
       "      <td>0</td>\n",
       "      <td>...</td>\n",
       "      <td>0</td>\n",
       "      <td>0</td>\n",
       "      <td>1</td>\n",
       "      <td>0</td>\n",
       "      <td>0</td>\n",
       "      <td>0</td>\n",
       "      <td>0</td>\n",
       "      <td>0</td>\n",
       "      <td>0</td>\n",
       "      <td>0</td>\n",
       "    </tr>\n",
       "    <tr>\n",
       "      <td>13784</td>\n",
       "      <td>Jon Jones</td>\n",
       "      <td>Alexander Gustafsson</td>\n",
       "      <td>0</td>\n",
       "      <td>0</td>\n",
       "      <td>0.57</td>\n",
       "      <td>0.26</td>\n",
       "      <td>0.20</td>\n",
       "      <td>0.00</td>\n",
       "      <td>0</td>\n",
       "      <td>0</td>\n",
       "      <td>...</td>\n",
       "      <td>0</td>\n",
       "      <td>0</td>\n",
       "      <td>1</td>\n",
       "      <td>0</td>\n",
       "      <td>0</td>\n",
       "      <td>0</td>\n",
       "      <td>0</td>\n",
       "      <td>0</td>\n",
       "      <td>0</td>\n",
       "      <td>0</td>\n",
       "    </tr>\n",
       "    <tr>\n",
       "      <td>13804</td>\n",
       "      <td>Jon Jones</td>\n",
       "      <td>Alexander Gustafsson</td>\n",
       "      <td>0</td>\n",
       "      <td>0</td>\n",
       "      <td>0.61</td>\n",
       "      <td>0.38</td>\n",
       "      <td>0.09</td>\n",
       "      <td>0.12</td>\n",
       "      <td>0</td>\n",
       "      <td>0</td>\n",
       "      <td>...</td>\n",
       "      <td>0</td>\n",
       "      <td>0</td>\n",
       "      <td>1</td>\n",
       "      <td>0</td>\n",
       "      <td>0</td>\n",
       "      <td>0</td>\n",
       "      <td>0</td>\n",
       "      <td>0</td>\n",
       "      <td>0</td>\n",
       "      <td>0</td>\n",
       "    </tr>\n",
       "    <tr>\n",
       "      <td>13904</td>\n",
       "      <td>Jon Jones</td>\n",
       "      <td>Ovince Saint Preux</td>\n",
       "      <td>0</td>\n",
       "      <td>0</td>\n",
       "      <td>0.66</td>\n",
       "      <td>0.35</td>\n",
       "      <td>0.60</td>\n",
       "      <td>0.00</td>\n",
       "      <td>0</td>\n",
       "      <td>0</td>\n",
       "      <td>...</td>\n",
       "      <td>0</td>\n",
       "      <td>0</td>\n",
       "      <td>1</td>\n",
       "      <td>0</td>\n",
       "      <td>0</td>\n",
       "      <td>0</td>\n",
       "      <td>0</td>\n",
       "      <td>0</td>\n",
       "      <td>0</td>\n",
       "      <td>0</td>\n",
       "    </tr>\n",
       "    <tr>\n",
       "      <td>14022</td>\n",
       "      <td>Jon Jones</td>\n",
       "      <td>Daniel Cormier</td>\n",
       "      <td>0</td>\n",
       "      <td>0</td>\n",
       "      <td>0.51</td>\n",
       "      <td>0.35</td>\n",
       "      <td>0.60</td>\n",
       "      <td>0.12</td>\n",
       "      <td>0</td>\n",
       "      <td>0</td>\n",
       "      <td>...</td>\n",
       "      <td>0</td>\n",
       "      <td>0</td>\n",
       "      <td>1</td>\n",
       "      <td>0</td>\n",
       "      <td>0</td>\n",
       "      <td>0</td>\n",
       "      <td>0</td>\n",
       "      <td>0</td>\n",
       "      <td>0</td>\n",
       "      <td>0</td>\n",
       "    </tr>\n",
       "    <tr>\n",
       "      <td>14081</td>\n",
       "      <td>Jon Jones</td>\n",
       "      <td>Glover Teixeira</td>\n",
       "      <td>0</td>\n",
       "      <td>0</td>\n",
       "      <td>0.58</td>\n",
       "      <td>0.27</td>\n",
       "      <td>0.50</td>\n",
       "      <td>0.00</td>\n",
       "      <td>2</td>\n",
       "      <td>0</td>\n",
       "      <td>...</td>\n",
       "      <td>0</td>\n",
       "      <td>0</td>\n",
       "      <td>1</td>\n",
       "      <td>0</td>\n",
       "      <td>0</td>\n",
       "      <td>0</td>\n",
       "      <td>0</td>\n",
       "      <td>0</td>\n",
       "      <td>0</td>\n",
       "      <td>0</td>\n",
       "    </tr>\n",
       "    <tr>\n",
       "      <td>14169</td>\n",
       "      <td>Jon Jones</td>\n",
       "      <td>Vitor Belfort</td>\n",
       "      <td>1</td>\n",
       "      <td>0</td>\n",
       "      <td>0.59</td>\n",
       "      <td>0.44</td>\n",
       "      <td>1.00</td>\n",
       "      <td>0.00</td>\n",
       "      <td>1</td>\n",
       "      <td>1</td>\n",
       "      <td>...</td>\n",
       "      <td>0</td>\n",
       "      <td>0</td>\n",
       "      <td>1</td>\n",
       "      <td>0</td>\n",
       "      <td>0</td>\n",
       "      <td>0</td>\n",
       "      <td>0</td>\n",
       "      <td>0</td>\n",
       "      <td>0</td>\n",
       "      <td>0</td>\n",
       "    </tr>\n",
       "    <tr>\n",
       "      <td>14374</td>\n",
       "      <td>Jon Jones</td>\n",
       "      <td>Rashad Evans</td>\n",
       "      <td>0</td>\n",
       "      <td>0</td>\n",
       "      <td>0.49</td>\n",
       "      <td>0.29</td>\n",
       "      <td>0.50</td>\n",
       "      <td>0.00</td>\n",
       "      <td>0</td>\n",
       "      <td>0</td>\n",
       "      <td>...</td>\n",
       "      <td>0</td>\n",
       "      <td>0</td>\n",
       "      <td>1</td>\n",
       "      <td>0</td>\n",
       "      <td>0</td>\n",
       "      <td>0</td>\n",
       "      <td>0</td>\n",
       "      <td>0</td>\n",
       "      <td>0</td>\n",
       "      <td>0</td>\n",
       "    </tr>\n",
       "    <tr>\n",
       "      <td>14516</td>\n",
       "      <td>Jon Jones</td>\n",
       "      <td>Lyoto Machida</td>\n",
       "      <td>1</td>\n",
       "      <td>0</td>\n",
       "      <td>0.45</td>\n",
       "      <td>0.34</td>\n",
       "      <td>0.50</td>\n",
       "      <td>0.00</td>\n",
       "      <td>1</td>\n",
       "      <td>0</td>\n",
       "      <td>...</td>\n",
       "      <td>0</td>\n",
       "      <td>0</td>\n",
       "      <td>1</td>\n",
       "      <td>0</td>\n",
       "      <td>0</td>\n",
       "      <td>0</td>\n",
       "      <td>0</td>\n",
       "      <td>0</td>\n",
       "      <td>0</td>\n",
       "      <td>0</td>\n",
       "    </tr>\n",
       "    <tr>\n",
       "      <td>14630</td>\n",
       "      <td>Jon Jones</td>\n",
       "      <td>Rampage Jackson</td>\n",
       "      <td>0</td>\n",
       "      <td>0</td>\n",
       "      <td>0.52</td>\n",
       "      <td>0.36</td>\n",
       "      <td>0.33</td>\n",
       "      <td>0.00</td>\n",
       "      <td>2</td>\n",
       "      <td>0</td>\n",
       "      <td>...</td>\n",
       "      <td>0</td>\n",
       "      <td>0</td>\n",
       "      <td>1</td>\n",
       "      <td>0</td>\n",
       "      <td>0</td>\n",
       "      <td>0</td>\n",
       "      <td>0</td>\n",
       "      <td>0</td>\n",
       "      <td>0</td>\n",
       "      <td>0</td>\n",
       "    </tr>\n",
       "    <tr>\n",
       "      <td>14661</td>\n",
       "      <td>Jon Jones</td>\n",
       "      <td>Ryan Bader</td>\n",
       "      <td>0</td>\n",
       "      <td>0</td>\n",
       "      <td>0.47</td>\n",
       "      <td>0.20</td>\n",
       "      <td>1.00</td>\n",
       "      <td>0.00</td>\n",
       "      <td>3</td>\n",
       "      <td>0</td>\n",
       "      <td>...</td>\n",
       "      <td>0</td>\n",
       "      <td>0</td>\n",
       "      <td>1</td>\n",
       "      <td>0</td>\n",
       "      <td>0</td>\n",
       "      <td>0</td>\n",
       "      <td>0</td>\n",
       "      <td>0</td>\n",
       "      <td>0</td>\n",
       "      <td>0</td>\n",
       "    </tr>\n",
       "    <tr>\n",
       "      <td>14816</td>\n",
       "      <td>Jon Jones</td>\n",
       "      <td>Vladimir Matyushenko</td>\n",
       "      <td>0</td>\n",
       "      <td>0</td>\n",
       "      <td>0.93</td>\n",
       "      <td>0.00</td>\n",
       "      <td>1.00</td>\n",
       "      <td>0.00</td>\n",
       "      <td>0</td>\n",
       "      <td>0</td>\n",
       "      <td>...</td>\n",
       "      <td>0</td>\n",
       "      <td>0</td>\n",
       "      <td>1</td>\n",
       "      <td>0</td>\n",
       "      <td>0</td>\n",
       "      <td>0</td>\n",
       "      <td>0</td>\n",
       "      <td>0</td>\n",
       "      <td>0</td>\n",
       "      <td>0</td>\n",
       "    </tr>\n",
       "    <tr>\n",
       "      <td>14873</td>\n",
       "      <td>Jon Jones</td>\n",
       "      <td>Jake O'Brien</td>\n",
       "      <td>0</td>\n",
       "      <td>0</td>\n",
       "      <td>0.28</td>\n",
       "      <td>0.16</td>\n",
       "      <td>0.00</td>\n",
       "      <td>0.00</td>\n",
       "      <td>1</td>\n",
       "      <td>0</td>\n",
       "      <td>...</td>\n",
       "      <td>0</td>\n",
       "      <td>0</td>\n",
       "      <td>1</td>\n",
       "      <td>0</td>\n",
       "      <td>0</td>\n",
       "      <td>0</td>\n",
       "      <td>0</td>\n",
       "      <td>0</td>\n",
       "      <td>0</td>\n",
       "      <td>0</td>\n",
       "    </tr>\n",
       "    <tr>\n",
       "      <td>14896</td>\n",
       "      <td>Jon Jones</td>\n",
       "      <td>Stephan Bonnar</td>\n",
       "      <td>1</td>\n",
       "      <td>0</td>\n",
       "      <td>0.72</td>\n",
       "      <td>0.48</td>\n",
       "      <td>0.70</td>\n",
       "      <td>0.00</td>\n",
       "      <td>0</td>\n",
       "      <td>0</td>\n",
       "      <td>...</td>\n",
       "      <td>0</td>\n",
       "      <td>0</td>\n",
       "      <td>1</td>\n",
       "      <td>0</td>\n",
       "      <td>0</td>\n",
       "      <td>0</td>\n",
       "      <td>0</td>\n",
       "      <td>0</td>\n",
       "      <td>0</td>\n",
       "      <td>0</td>\n",
       "    </tr>\n",
       "  </tbody>\n",
       "</table>\n",
       "<p>17 rows × 88 columns</p>\n",
       "</div>"
      ],
      "text/plain": [
       "       R_fighter             B_fighter  R_KD  B_KD  R_SIG_STR_pct  \\\n",
       "2198   Jon Jones          Chael Sonnen     0     0           0.74   \n",
       "13443  Jon Jones        Dominick Reyes     0     0           0.62   \n",
       "13485  Jon Jones         Thiago Santos     0     0           0.65   \n",
       "13675  Jon Jones         Anthony Smith     0     0           0.74   \n",
       "13784  Jon Jones  Alexander Gustafsson     0     0           0.57   \n",
       "13804  Jon Jones  Alexander Gustafsson     0     0           0.61   \n",
       "13904  Jon Jones    Ovince Saint Preux     0     0           0.66   \n",
       "14022  Jon Jones        Daniel Cormier     0     0           0.51   \n",
       "14081  Jon Jones       Glover Teixeira     0     0           0.58   \n",
       "14169  Jon Jones         Vitor Belfort     1     0           0.59   \n",
       "14374  Jon Jones          Rashad Evans     0     0           0.49   \n",
       "14516  Jon Jones         Lyoto Machida     1     0           0.45   \n",
       "14630  Jon Jones       Rampage Jackson     0     0           0.52   \n",
       "14661  Jon Jones            Ryan Bader     0     0           0.47   \n",
       "14816  Jon Jones  Vladimir Matyushenko     0     0           0.93   \n",
       "14873  Jon Jones          Jake O'Brien     0     0           0.28   \n",
       "14896  Jon Jones        Stephan Bonnar     1     0           0.72   \n",
       "\n",
       "       B_SIG_STR_pct  R_TD_pct  B_TD_pct  R_SUB_ATT  B_SUB_ATT  ...  \\\n",
       "2198            0.40      0.50      0.00          0          0  ...   \n",
       "13443           0.44      0.22      0.00          0          0  ...   \n",
       "13485           0.25      0.00      0.00          0          0  ...   \n",
       "13675           0.54      0.37      0.00          0          0  ...   \n",
       "13784           0.26      0.20      0.00          0          0  ...   \n",
       "13804           0.38      0.09      0.12          0          0  ...   \n",
       "13904           0.35      0.60      0.00          0          0  ...   \n",
       "14022           0.35      0.60      0.12          0          0  ...   \n",
       "14081           0.27      0.50      0.00          2          0  ...   \n",
       "14169           0.44      1.00      0.00          1          1  ...   \n",
       "14374           0.29      0.50      0.00          0          0  ...   \n",
       "14516           0.34      0.50      0.00          1          0  ...   \n",
       "14630           0.36      0.33      0.00          2          0  ...   \n",
       "14661           0.20      1.00      0.00          3          0  ...   \n",
       "14816           0.00      1.00      0.00          0          0  ...   \n",
       "14873           0.16      0.00      0.00          1          0  ...   \n",
       "14896           0.48      0.70      0.00          0          0  ...   \n",
       "\n",
       "       Flyweight  Heavyweight  Light Heavyweight  Lightweight Middleweight  \\\n",
       "2198           0            0                  1            0            0   \n",
       "13443          0            0                  1            0            0   \n",
       "13485          0            0                  1            0            0   \n",
       "13675          0            0                  1            0            0   \n",
       "13784          0            0                  1            0            0   \n",
       "13804          0            0                  1            0            0   \n",
       "13904          0            0                  1            0            0   \n",
       "14022          0            0                  1            0            0   \n",
       "14081          0            0                  1            0            0   \n",
       "14169          0            0                  1            0            0   \n",
       "14374          0            0                  1            0            0   \n",
       "14516          0            0                  1            0            0   \n",
       "14630          0            0                  1            0            0   \n",
       "14661          0            0                  1            0            0   \n",
       "14816          0            0                  1            0            0   \n",
       "14873          0            0                  1            0            0   \n",
       "14896          0            0                  1            0            0   \n",
       "\n",
       "       Welterweight  Women's Bantamweight  Women's Featherweight  \\\n",
       "2198              0                     0                      0   \n",
       "13443             0                     0                      0   \n",
       "13485             0                     0                      0   \n",
       "13675             0                     0                      0   \n",
       "13784             0                     0                      0   \n",
       "13804             0                     0                      0   \n",
       "13904             0                     0                      0   \n",
       "14022             0                     0                      0   \n",
       "14081             0                     0                      0   \n",
       "14169             0                     0                      0   \n",
       "14374             0                     0                      0   \n",
       "14516             0                     0                      0   \n",
       "14630             0                     0                      0   \n",
       "14661             0                     0                      0   \n",
       "14816             0                     0                      0   \n",
       "14873             0                     0                      0   \n",
       "14896             0                     0                      0   \n",
       "\n",
       "       Women's Flyweight  Women's Strawweight  \n",
       "2198                   0                    0  \n",
       "13443                  0                    0  \n",
       "13485                  0                    0  \n",
       "13675                  0                    0  \n",
       "13784                  0                    0  \n",
       "13804                  0                    0  \n",
       "13904                  0                    0  \n",
       "14022                  0                    0  \n",
       "14081                  0                    0  \n",
       "14169                  0                    0  \n",
       "14374                  0                    0  \n",
       "14516                  0                    0  \n",
       "14630                  0                    0  \n",
       "14661                  0                    0  \n",
       "14816                  0                    0  \n",
       "14873                  0                    0  \n",
       "14896                  0                    0  \n",
       "\n",
       "[17 rows x 88 columns]"
      ]
     },
     "execution_count": 876,
     "metadata": {},
     "output_type": "execute_result"
    }
   ],
   "source": [
    "df_train[df_train['R_fighter']=='Jon Jones']"
   ]
  },
  {
   "cell_type": "markdown",
   "metadata": {},
   "source": [
    "- create dummy variables for weight class"
   ]
  },
  {
   "cell_type": "code",
   "execution_count": 860,
   "metadata": {},
   "outputs": [],
   "source": [
    "df_train.drop(columns=['win_by_x','last_round'], inplace=True)"
   ]
  },
  {
   "cell_type": "code",
   "execution_count": 861,
   "metadata": {},
   "outputs": [],
   "source": [
    "df_train = pd.concat([df_train, pd.get_dummies(df_train['weight_class'])], axis=1)\n",
    "df_train.drop(columns=['weight_class','Open Weight','Catch Weight'], inplace=True)"
   ]
  },
  {
   "cell_type": "code",
   "execution_count": 874,
   "metadata": {},
   "outputs": [
    {
     "data": {
      "text/html": [
       "<div>\n",
       "<style scoped>\n",
       "    .dataframe tbody tr th:only-of-type {\n",
       "        vertical-align: middle;\n",
       "    }\n",
       "\n",
       "    .dataframe tbody tr th {\n",
       "        vertical-align: top;\n",
       "    }\n",
       "\n",
       "    .dataframe thead th {\n",
       "        text-align: right;\n",
       "    }\n",
       "</style>\n",
       "<table border=\"1\" class=\"dataframe\">\n",
       "  <thead>\n",
       "    <tr style=\"text-align: right;\">\n",
       "      <th></th>\n",
       "      <th>R_fighter</th>\n",
       "      <th>B_fighter</th>\n",
       "      <th>R_KD</th>\n",
       "      <th>B_KD</th>\n",
       "      <th>R_SIG_STR_pct</th>\n",
       "      <th>B_SIG_STR_pct</th>\n",
       "      <th>R_TD_pct</th>\n",
       "      <th>B_TD_pct</th>\n",
       "      <th>R_SUB_ATT</th>\n",
       "      <th>B_SUB_ATT</th>\n",
       "      <th>...</th>\n",
       "      <th>Flyweight</th>\n",
       "      <th>Heavyweight</th>\n",
       "      <th>Light Heavyweight</th>\n",
       "      <th>Lightweight</th>\n",
       "      <th>Middleweight</th>\n",
       "      <th>Welterweight</th>\n",
       "      <th>Women's Bantamweight</th>\n",
       "      <th>Women's Featherweight</th>\n",
       "      <th>Women's Flyweight</th>\n",
       "      <th>Women's Strawweight</th>\n",
       "    </tr>\n",
       "  </thead>\n",
       "  <tbody>\n",
       "    <tr>\n",
       "      <td>860</td>\n",
       "      <td>Kamaru Usman</td>\n",
       "      <td>Colby Covington</td>\n",
       "      <td>2</td>\n",
       "      <td>0</td>\n",
       "      <td>0.48</td>\n",
       "      <td>0.36</td>\n",
       "      <td>0.00</td>\n",
       "      <td>0.0</td>\n",
       "      <td>0</td>\n",
       "      <td>0</td>\n",
       "      <td>...</td>\n",
       "      <td>0</td>\n",
       "      <td>0</td>\n",
       "      <td>0</td>\n",
       "      <td>0</td>\n",
       "      <td>0</td>\n",
       "      <td>1</td>\n",
       "      <td>0</td>\n",
       "      <td>0</td>\n",
       "      <td>0</td>\n",
       "      <td>0</td>\n",
       "    </tr>\n",
       "    <tr>\n",
       "      <td>1684</td>\n",
       "      <td>Kamaru Usman</td>\n",
       "      <td>Alexander Yakovlev</td>\n",
       "      <td>0</td>\n",
       "      <td>0</td>\n",
       "      <td>0.61</td>\n",
       "      <td>0.53</td>\n",
       "      <td>0.55</td>\n",
       "      <td>0.0</td>\n",
       "      <td>0</td>\n",
       "      <td>0</td>\n",
       "      <td>...</td>\n",
       "      <td>0</td>\n",
       "      <td>0</td>\n",
       "      <td>0</td>\n",
       "      <td>0</td>\n",
       "      <td>0</td>\n",
       "      <td>1</td>\n",
       "      <td>0</td>\n",
       "      <td>0</td>\n",
       "      <td>0</td>\n",
       "      <td>0</td>\n",
       "    </tr>\n",
       "    <tr>\n",
       "      <td>4912</td>\n",
       "      <td>Kamaru Usman</td>\n",
       "      <td>Sean Strickland</td>\n",
       "      <td>1</td>\n",
       "      <td>0</td>\n",
       "      <td>0.52</td>\n",
       "      <td>0.26</td>\n",
       "      <td>0.25</td>\n",
       "      <td>0.0</td>\n",
       "      <td>0</td>\n",
       "      <td>0</td>\n",
       "      <td>...</td>\n",
       "      <td>0</td>\n",
       "      <td>0</td>\n",
       "      <td>0</td>\n",
       "      <td>0</td>\n",
       "      <td>0</td>\n",
       "      <td>1</td>\n",
       "      <td>0</td>\n",
       "      <td>0</td>\n",
       "      <td>0</td>\n",
       "      <td>0</td>\n",
       "    </tr>\n",
       "    <tr>\n",
       "      <td>9153</td>\n",
       "      <td>Kamaru Usman</td>\n",
       "      <td>Emil Meek</td>\n",
       "      <td>0</td>\n",
       "      <td>0</td>\n",
       "      <td>0.75</td>\n",
       "      <td>0.44</td>\n",
       "      <td>0.42</td>\n",
       "      <td>0.0</td>\n",
       "      <td>0</td>\n",
       "      <td>2</td>\n",
       "      <td>...</td>\n",
       "      <td>0</td>\n",
       "      <td>0</td>\n",
       "      <td>0</td>\n",
       "      <td>0</td>\n",
       "      <td>0</td>\n",
       "      <td>1</td>\n",
       "      <td>0</td>\n",
       "      <td>0</td>\n",
       "      <td>0</td>\n",
       "      <td>0</td>\n",
       "    </tr>\n",
       "    <tr>\n",
       "      <td>16572</td>\n",
       "      <td>Kamaru Usman</td>\n",
       "      <td>Leon Edwards</td>\n",
       "      <td>0</td>\n",
       "      <td>0</td>\n",
       "      <td>0.60</td>\n",
       "      <td>0.45</td>\n",
       "      <td>0.46</td>\n",
       "      <td>0.0</td>\n",
       "      <td>0</td>\n",
       "      <td>0</td>\n",
       "      <td>...</td>\n",
       "      <td>0</td>\n",
       "      <td>0</td>\n",
       "      <td>0</td>\n",
       "      <td>0</td>\n",
       "      <td>0</td>\n",
       "      <td>1</td>\n",
       "      <td>0</td>\n",
       "      <td>0</td>\n",
       "      <td>0</td>\n",
       "      <td>0</td>\n",
       "    </tr>\n",
       "    <tr>\n",
       "      <td>21315</td>\n",
       "      <td>Kamaru Usman</td>\n",
       "      <td>Sergio Moraes</td>\n",
       "      <td>1</td>\n",
       "      <td>0</td>\n",
       "      <td>0.33</td>\n",
       "      <td>0.48</td>\n",
       "      <td>0.00</td>\n",
       "      <td>0.0</td>\n",
       "      <td>0</td>\n",
       "      <td>0</td>\n",
       "      <td>...</td>\n",
       "      <td>0</td>\n",
       "      <td>0</td>\n",
       "      <td>0</td>\n",
       "      <td>0</td>\n",
       "      <td>0</td>\n",
       "      <td>1</td>\n",
       "      <td>0</td>\n",
       "      <td>0</td>\n",
       "      <td>0</td>\n",
       "      <td>0</td>\n",
       "    </tr>\n",
       "  </tbody>\n",
       "</table>\n",
       "<p>6 rows × 88 columns</p>\n",
       "</div>"
      ],
      "text/plain": [
       "          R_fighter           B_fighter  R_KD  B_KD  R_SIG_STR_pct  \\\n",
       "860    Kamaru Usman     Colby Covington     2     0           0.48   \n",
       "1684   Kamaru Usman  Alexander Yakovlev     0     0           0.61   \n",
       "4912   Kamaru Usman     Sean Strickland     1     0           0.52   \n",
       "9153   Kamaru Usman           Emil Meek     0     0           0.75   \n",
       "16572  Kamaru Usman        Leon Edwards     0     0           0.60   \n",
       "21315  Kamaru Usman       Sergio Moraes     1     0           0.33   \n",
       "\n",
       "       B_SIG_STR_pct  R_TD_pct  B_TD_pct  R_SUB_ATT  B_SUB_ATT  ...  \\\n",
       "860             0.36      0.00       0.0          0          0  ...   \n",
       "1684            0.53      0.55       0.0          0          0  ...   \n",
       "4912            0.26      0.25       0.0          0          0  ...   \n",
       "9153            0.44      0.42       0.0          0          2  ...   \n",
       "16572           0.45      0.46       0.0          0          0  ...   \n",
       "21315           0.48      0.00       0.0          0          0  ...   \n",
       "\n",
       "       Flyweight  Heavyweight  Light Heavyweight  Lightweight Middleweight  \\\n",
       "860            0            0                  0            0            0   \n",
       "1684           0            0                  0            0            0   \n",
       "4912           0            0                  0            0            0   \n",
       "9153           0            0                  0            0            0   \n",
       "16572          0            0                  0            0            0   \n",
       "21315          0            0                  0            0            0   \n",
       "\n",
       "       Welterweight  Women's Bantamweight  Women's Featherweight  \\\n",
       "860               1                     0                      0   \n",
       "1684              1                     0                      0   \n",
       "4912              1                     0                      0   \n",
       "9153              1                     0                      0   \n",
       "16572             1                     0                      0   \n",
       "21315             1                     0                      0   \n",
       "\n",
       "       Women's Flyweight  Women's Strawweight  \n",
       "860                    0                    0  \n",
       "1684                   0                    0  \n",
       "4912                   0                    0  \n",
       "9153                   0                    0  \n",
       "16572                  0                    0  \n",
       "21315                  0                    0  \n",
       "\n",
       "[6 rows x 88 columns]"
      ]
     },
     "execution_count": 874,
     "metadata": {},
     "output_type": "execute_result"
    }
   ],
   "source": [
    "df_train[df_train['R_fighter']=='Kamaru Usman']"
   ]
  },
  {
   "cell_type": "markdown",
   "metadata": {},
   "source": [
    "- export relevant data frames for further use"
   ]
  },
  {
   "cell_type": "code",
   "execution_count": 863,
   "metadata": {},
   "outputs": [],
   "source": [
    "df_fights.to_csv(DATA_PATH+'/df_fights.csv', index = False, header=True)\n",
    "df_fighter_history.to_csv(DATA_PATH+'/df_fighter_history.csv', index = False, header=True)\n",
    "df_fights_train.to_csv(DATA_PATH+'/df_fights_train.csv', index = False, header=True)\n",
    "df_fighter_history_train.to_csv(DATA_PATH+'/df_fighter_history_train.csv', index = False, header=True)\n",
    "df_train.to_csv(DATA_PATH+'/df_train.csv', index = False, header=True)"
   ]
  }
 ],
 "metadata": {
  "kernelspec": {
   "display_name": "Python 3",
   "language": "python",
   "name": "python3"
  },
  "language_info": {
   "codemirror_mode": {
    "name": "ipython",
    "version": 3
   },
   "file_extension": ".py",
   "mimetype": "text/x-python",
   "name": "python",
   "nbconvert_exporter": "python",
   "pygments_lexer": "ipython3",
   "version": "3.7.4"
  }
 },
 "nbformat": 4,
 "nbformat_minor": 2
}
