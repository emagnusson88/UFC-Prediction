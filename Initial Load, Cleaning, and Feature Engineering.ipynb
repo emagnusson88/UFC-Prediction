{
 "cells": [
  {
   "cell_type": "markdown",
   "metadata": {},
   "source": [
    "<h1>After Scraping: Cleaning and Feature Engineering</h1>\n",
    "\n",
    "- Acknowledgements:\n",
    "    - ufcstats for comprehensive data sets on past MMA bouts: http://ufcstats.com/\n",
    "    - Rajeev Warrier for providing the groundwork for this prediction project: https://github.com/WarrierRajeev/UFC-Predictions"
   ]
  },
  {
   "cell_type": "code",
   "execution_count": 2072,
   "metadata": {},
   "outputs": [],
   "source": [
    "import pandas as pd\n",
    "import numpy as np\n",
    "\n",
    "DATA_PATH ='./data'\n",
    "df_fighters = pd.read_csv(DATA_PATH+'/fighter_details.csv')\n",
    "df_fights = pd.read_csv(DATA_PATH+'/total_fight_data.csv', sep=';')"
   ]
  },
  {
   "cell_type": "code",
   "execution_count": 2073,
   "metadata": {
    "scrolled": true
   },
   "outputs": [
    {
     "data": {
      "text/html": [
       "<div>\n",
       "<style scoped>\n",
       "    .dataframe tbody tr th:only-of-type {\n",
       "        vertical-align: middle;\n",
       "    }\n",
       "\n",
       "    .dataframe tbody tr th {\n",
       "        vertical-align: top;\n",
       "    }\n",
       "\n",
       "    .dataframe thead th {\n",
       "        text-align: right;\n",
       "    }\n",
       "</style>\n",
       "<table border=\"1\" class=\"dataframe\">\n",
       "  <thead>\n",
       "    <tr style=\"text-align: right;\">\n",
       "      <th></th>\n",
       "      <th>fighter_name</th>\n",
       "      <th>Height</th>\n",
       "      <th>Weight</th>\n",
       "      <th>Reach</th>\n",
       "      <th>Stance</th>\n",
       "      <th>DOB</th>\n",
       "    </tr>\n",
       "  </thead>\n",
       "  <tbody>\n",
       "    <tr>\n",
       "      <td>0</td>\n",
       "      <td>Tom Aaron</td>\n",
       "      <td>NaN</td>\n",
       "      <td>155 lbs.</td>\n",
       "      <td>NaN</td>\n",
       "      <td>NaN</td>\n",
       "      <td>Jul 13, 1978</td>\n",
       "    </tr>\n",
       "    <tr>\n",
       "      <td>1</td>\n",
       "      <td>Danny Abbadi</td>\n",
       "      <td>5' 11\"</td>\n",
       "      <td>155 lbs.</td>\n",
       "      <td>NaN</td>\n",
       "      <td>Orthodox</td>\n",
       "      <td>Jul 03, 1983</td>\n",
       "    </tr>\n",
       "    <tr>\n",
       "      <td>2</td>\n",
       "      <td>David Abbott</td>\n",
       "      <td>6' 0\"</td>\n",
       "      <td>265 lbs.</td>\n",
       "      <td>NaN</td>\n",
       "      <td>Switch</td>\n",
       "      <td>NaN</td>\n",
       "    </tr>\n",
       "  </tbody>\n",
       "</table>\n",
       "</div>"
      ],
      "text/plain": [
       "   fighter_name  Height    Weight Reach    Stance           DOB\n",
       "0     Tom Aaron     NaN  155 lbs.   NaN       NaN  Jul 13, 1978\n",
       "1  Danny Abbadi  5' 11\"  155 lbs.   NaN  Orthodox  Jul 03, 1983\n",
       "2  David Abbott   6' 0\"  265 lbs.   NaN    Switch           NaN"
      ]
     },
     "execution_count": 2073,
     "metadata": {},
     "output_type": "execute_result"
    }
   ],
   "source": [
    "df_fighters.head(3)"
   ]
  },
  {
   "cell_type": "code",
   "execution_count": 2074,
   "metadata": {
    "scrolled": true
   },
   "outputs": [
    {
     "data": {
      "text/html": [
       "<div>\n",
       "<style scoped>\n",
       "    .dataframe tbody tr th:only-of-type {\n",
       "        vertical-align: middle;\n",
       "    }\n",
       "\n",
       "    .dataframe tbody tr th {\n",
       "        vertical-align: top;\n",
       "    }\n",
       "\n",
       "    .dataframe thead th {\n",
       "        text-align: right;\n",
       "    }\n",
       "</style>\n",
       "<table border=\"1\" class=\"dataframe\">\n",
       "  <thead>\n",
       "    <tr style=\"text-align: right;\">\n",
       "      <th></th>\n",
       "      <th>R_fighter</th>\n",
       "      <th>B_fighter</th>\n",
       "      <th>R_KD</th>\n",
       "      <th>B_KD</th>\n",
       "      <th>R_SIG_STR.</th>\n",
       "      <th>B_SIG_STR.</th>\n",
       "      <th>R_SIG_STR_pct</th>\n",
       "      <th>B_SIG_STR_pct</th>\n",
       "      <th>R_TOTAL_STR.</th>\n",
       "      <th>B_TOTAL_STR.</th>\n",
       "      <th>...</th>\n",
       "      <th>B_GROUND</th>\n",
       "      <th>win_by</th>\n",
       "      <th>last_round</th>\n",
       "      <th>last_round_time</th>\n",
       "      <th>Format</th>\n",
       "      <th>Referee</th>\n",
       "      <th>date</th>\n",
       "      <th>location</th>\n",
       "      <th>Fight_type</th>\n",
       "      <th>Winner</th>\n",
       "    </tr>\n",
       "  </thead>\n",
       "  <tbody>\n",
       "    <tr>\n",
       "      <td>0</td>\n",
       "      <td>Israel Adesanya</td>\n",
       "      <td>Yoel Romero</td>\n",
       "      <td>0</td>\n",
       "      <td>0</td>\n",
       "      <td>48 of 132</td>\n",
       "      <td>40 of 89</td>\n",
       "      <td>36%</td>\n",
       "      <td>44%</td>\n",
       "      <td>48 of 132</td>\n",
       "      <td>40 of 89</td>\n",
       "      <td>...</td>\n",
       "      <td>0 of 0</td>\n",
       "      <td>Decision - Unanimous</td>\n",
       "      <td>5</td>\n",
       "      <td>5:00</td>\n",
       "      <td>5 Rnd (5-5-5-5-5)</td>\n",
       "      <td>Dan Miragliotta</td>\n",
       "      <td>March 07, 2020</td>\n",
       "      <td>Las Vegas, Nevada, USA</td>\n",
       "      <td>UFC Middleweight Title Bout</td>\n",
       "      <td>Israel Adesanya</td>\n",
       "    </tr>\n",
       "    <tr>\n",
       "      <td>1</td>\n",
       "      <td>Weili Zhang</td>\n",
       "      <td>Joanna Jedrzejczyk</td>\n",
       "      <td>0</td>\n",
       "      <td>0</td>\n",
       "      <td>165 of 408</td>\n",
       "      <td>186 of 360</td>\n",
       "      <td>40%</td>\n",
       "      <td>51%</td>\n",
       "      <td>170 of 413</td>\n",
       "      <td>196 of 370</td>\n",
       "      <td>...</td>\n",
       "      <td>0 of 0</td>\n",
       "      <td>Decision - Split</td>\n",
       "      <td>5</td>\n",
       "      <td>5:00</td>\n",
       "      <td>5 Rnd (5-5-5-5-5)</td>\n",
       "      <td>Keith Peterson</td>\n",
       "      <td>March 07, 2020</td>\n",
       "      <td>Las Vegas, Nevada, USA</td>\n",
       "      <td>UFC Women's Strawweight Title Bout</td>\n",
       "      <td>Weili Zhang</td>\n",
       "    </tr>\n",
       "    <tr>\n",
       "      <td>2</td>\n",
       "      <td>Beneil Dariush</td>\n",
       "      <td>Drakkar Klose</td>\n",
       "      <td>1</td>\n",
       "      <td>0</td>\n",
       "      <td>12 of 20</td>\n",
       "      <td>15 of 25</td>\n",
       "      <td>60%</td>\n",
       "      <td>60%</td>\n",
       "      <td>17 of 28</td>\n",
       "      <td>27 of 37</td>\n",
       "      <td>...</td>\n",
       "      <td>0 of 0</td>\n",
       "      <td>KO/TKO</td>\n",
       "      <td>2</td>\n",
       "      <td>1:00</td>\n",
       "      <td>3 Rnd (5-5-5)</td>\n",
       "      <td>Jason Herzog</td>\n",
       "      <td>March 07, 2020</td>\n",
       "      <td>Las Vegas, Nevada, USA</td>\n",
       "      <td>Lightweight Bout</td>\n",
       "      <td>Beneil Dariush</td>\n",
       "    </tr>\n",
       "  </tbody>\n",
       "</table>\n",
       "<p>3 rows × 41 columns</p>\n",
       "</div>"
      ],
      "text/plain": [
       "         R_fighter           B_fighter  R_KD  B_KD  R_SIG_STR.  B_SIG_STR.  \\\n",
       "0  Israel Adesanya         Yoel Romero     0     0   48 of 132    40 of 89   \n",
       "1      Weili Zhang  Joanna Jedrzejczyk     0     0  165 of 408  186 of 360   \n",
       "2   Beneil Dariush       Drakkar Klose     1     0    12 of 20    15 of 25   \n",
       "\n",
       "  R_SIG_STR_pct B_SIG_STR_pct R_TOTAL_STR. B_TOTAL_STR.  ... B_GROUND  \\\n",
       "0           36%           44%    48 of 132     40 of 89  ...   0 of 0   \n",
       "1           40%           51%   170 of 413   196 of 370  ...   0 of 0   \n",
       "2           60%           60%     17 of 28     27 of 37  ...   0 of 0   \n",
       "\n",
       "                 win_by last_round last_round_time             Format  \\\n",
       "0  Decision - Unanimous          5            5:00  5 Rnd (5-5-5-5-5)   \n",
       "1      Decision - Split          5            5:00  5 Rnd (5-5-5-5-5)   \n",
       "2                KO/TKO          2            1:00      3 Rnd (5-5-5)   \n",
       "\n",
       "           Referee            date                location  \\\n",
       "0  Dan Miragliotta  March 07, 2020  Las Vegas, Nevada, USA   \n",
       "1   Keith Peterson  March 07, 2020  Las Vegas, Nevada, USA   \n",
       "2     Jason Herzog  March 07, 2020  Las Vegas, Nevada, USA   \n",
       "\n",
       "                           Fight_type           Winner  \n",
       "0         UFC Middleweight Title Bout  Israel Adesanya  \n",
       "1  UFC Women's Strawweight Title Bout      Weili Zhang  \n",
       "2                    Lightweight Bout   Beneil Dariush  \n",
       "\n",
       "[3 rows x 41 columns]"
      ]
     },
     "execution_count": 2074,
     "metadata": {},
     "output_type": "execute_result"
    }
   ],
   "source": [
    "df_fights.head(3)"
   ]
  },
  {
   "cell_type": "markdown",
   "metadata": {},
   "source": [
    "<h3>Processing Fighter data set</h3> "
   ]
  },
  {
   "cell_type": "code",
   "execution_count": 2075,
   "metadata": {},
   "outputs": [
    {
     "data": {
      "text/plain": [
       "fighter_name    object\n",
       "Height          object\n",
       "Weight          object\n",
       "Reach           object\n",
       "Stance          object\n",
       "DOB             object\n",
       "dtype: object"
      ]
     },
     "execution_count": 2075,
     "metadata": {},
     "output_type": "execute_result"
    }
   ],
   "source": [
    "df_fighters.dtypes"
   ]
  },
  {
   "cell_type": "code",
   "execution_count": 2076,
   "metadata": {},
   "outputs": [
    {
     "data": {
      "text/plain": [
       "fighter_name       0\n",
       "Height           257\n",
       "Weight            74\n",
       "Reach           1714\n",
       "Stance           840\n",
       "DOB              741\n",
       "dtype: int64"
      ]
     },
     "execution_count": 2076,
     "metadata": {},
     "output_type": "execute_result"
    }
   ],
   "source": [
    "df_fighters.isna().sum()"
   ]
  },
  {
   "cell_type": "markdown",
   "metadata": {},
   "source": [
    "- fighters with NaN Weight values have little to no useful data\n",
    "    - therefore, these rows will be excluded"
   ]
  },
  {
   "cell_type": "code",
   "execution_count": 2077,
   "metadata": {
    "scrolled": true
   },
   "outputs": [
    {
     "data": {
      "text/plain": [
       "fighter_name     0\n",
       "Height          68\n",
       "Weight          74\n",
       "Reach           74\n",
       "Stance          65\n",
       "DOB             72\n",
       "dtype: int64"
      ]
     },
     "execution_count": 2077,
     "metadata": {},
     "output_type": "execute_result"
    }
   ],
   "source": [
    "df_fighters[pd.isnull(df_fighters['Weight'])].isna().sum()"
   ]
  },
  {
   "cell_type": "code",
   "execution_count": 2078,
   "metadata": {},
   "outputs": [],
   "source": [
    "df_fighters = df_fighters[df_fighters['Weight'].notna()]"
   ]
  },
  {
   "cell_type": "markdown",
   "metadata": {},
   "source": [
    "- to fill NaN values in bodily metrics, find:\n",
    "    - average reach for each height increment\n",
    "    - average height for each weight increment"
   ]
  },
  {
   "cell_type": "code",
   "execution_count": 2079,
   "metadata": {},
   "outputs": [],
   "source": [
    "df_fighters['Weight'] = df_fighters['Weight'].apply(lambda x: x.split(' ')[0])\n",
    "df_fighters['Weight'] = df_fighters['Weight'].astype(float)"
   ]
  },
  {
   "cell_type": "code",
   "execution_count": 2080,
   "metadata": {},
   "outputs": [],
   "source": [
    "df_fighters['Height'] = df_fighters['Height'].fillna('0\\' 0\\\"')\n",
    "df_fighters['Height'] = df_fighters['Height'].apply(lambda x: int(x.split('\\' ')[0])*12 + int(x.split('\\' ')[1].replace('\\\"','')))\n",
    "df_fighters['Height'] = df_fighters['Height'].replace(0, np.nan).astype(float)"
   ]
  },
  {
   "cell_type": "code",
   "execution_count": 2081,
   "metadata": {},
   "outputs": [],
   "source": [
    "df_fighters['Height'] = df_fighters.groupby('Weight')['Height'].apply(lambda x: x.fillna(x.mean()))\n",
    "df_fighters['Height'] = df_fighters['Height'].fillna(df_fighters['Height'].mean())"
   ]
  },
  {
   "cell_type": "code",
   "execution_count": 2082,
   "metadata": {},
   "outputs": [],
   "source": [
    "df_fighters['Reach'] = df_fighters['Reach'].fillna('0')\n",
    "df_fighters['Reach'] = df_fighters['Reach'].apply(lambda x: x.replace('\\\"',''))\n",
    "df_fighters['Reach'] = df_fighters['Reach'].replace('0', np.nan).astype(float)"
   ]
  },
  {
   "cell_type": "code",
   "execution_count": 2083,
   "metadata": {},
   "outputs": [],
   "source": [
    "df_fighters['Reach'] = df_fighters.groupby('Height')['Reach'].apply(lambda x: x.fillna(x.mean()))\n",
    "df_fighters['Reach'] = df_fighters['Reach'].fillna(df_fighters['Reach'].mean())"
   ]
  },
  {
   "cell_type": "code",
   "execution_count": 2084,
   "metadata": {
    "scrolled": true
   },
   "outputs": [
    {
     "data": {
      "text/plain": [
       "Orthodox       1999\n",
       "Southpaw        450\n",
       "Switch          100\n",
       "Open Stance       7\n",
       "Sideways          3\n",
       "Name: Stance, dtype: int64"
      ]
     },
     "execution_count": 2084,
     "metadata": {},
     "output_type": "execute_result"
    }
   ],
   "source": [
    "df_fighters['Stance'].value_counts()"
   ]
  },
  {
   "cell_type": "markdown",
   "metadata": {},
   "source": [
    "<h3>Processing Fight data set</h3>"
   ]
  },
  {
   "cell_type": "code",
   "execution_count": 2085,
   "metadata": {
    "scrolled": true
   },
   "outputs": [
    {
     "data": {
      "text/plain": [
       "R_fighter          object\n",
       "B_fighter          object\n",
       "R_KD                int64\n",
       "B_KD                int64\n",
       "R_SIG_STR.         object\n",
       "B_SIG_STR.         object\n",
       "R_SIG_STR_pct      object\n",
       "B_SIG_STR_pct      object\n",
       "R_TOTAL_STR.       object\n",
       "B_TOTAL_STR.       object\n",
       "R_TD               object\n",
       "B_TD               object\n",
       "R_TD_pct           object\n",
       "B_TD_pct           object\n",
       "R_SUB_ATT           int64\n",
       "B_SUB_ATT           int64\n",
       "R_PASS              int64\n",
       "B_PASS              int64\n",
       "R_REV               int64\n",
       "B_REV               int64\n",
       "R_HEAD             object\n",
       "B_HEAD             object\n",
       "R_BODY             object\n",
       "B_BODY             object\n",
       "R_LEG              object\n",
       "B_LEG              object\n",
       "R_DISTANCE         object\n",
       "B_DISTANCE         object\n",
       "R_CLINCH           object\n",
       "B_CLINCH           object\n",
       "R_GROUND           object\n",
       "B_GROUND           object\n",
       "win_by             object\n",
       "last_round          int64\n",
       "last_round_time    object\n",
       "Format             object\n",
       "Referee            object\n",
       "date               object\n",
       "location           object\n",
       "Fight_type         object\n",
       "Winner             object\n",
       "dtype: object"
      ]
     },
     "execution_count": 2085,
     "metadata": {},
     "output_type": "execute_result"
    }
   ],
   "source": [
    "df_fights.dtypes"
   ]
  },
  {
   "cell_type": "markdown",
   "metadata": {},
   "source": [
    "- split attack stats into attempts/landed numerical format"
   ]
  },
  {
   "cell_type": "code",
   "execution_count": 2086,
   "metadata": {},
   "outputs": [],
   "source": [
    "df_fights.columns\n",
    "attack_cols = ['R_SIG_STR.', 'B_SIG_STR.','R_TOTAL_STR.', 'B_TOTAL_STR.',\n",
    "       'R_TD', 'B_TD', 'R_HEAD', 'B_HEAD', 'R_BODY',\n",
    "       'B_BODY', 'R_LEG', 'B_LEG', 'R_DISTANCE', 'B_DISTANCE', 'R_CLINCH',\n",
    "       'B_CLINCH', 'R_GROUND', 'B_GROUND']"
   ]
  },
  {
   "cell_type": "code",
   "execution_count": 2087,
   "metadata": {},
   "outputs": [],
   "source": [
    "for col in attack_cols:\n",
    "    df_fights[col+'_ATT'] = df_fights[col].apply(lambda x: int(x.split('of')[1]))\n",
    "    df_fights[col+'_LANDED'] = df_fights[col].apply(lambda x: int(x.split('of')[0]))"
   ]
  },
  {
   "cell_type": "code",
   "execution_count": 2088,
   "metadata": {},
   "outputs": [],
   "source": [
    "df_fights.drop(attack_cols, axis=1, inplace=True)"
   ]
  },
  {
   "cell_type": "markdown",
   "metadata": {},
   "source": [
    "- check for NULL values"
   ]
  },
  {
   "cell_type": "code",
   "execution_count": 2090,
   "metadata": {},
   "outputs": [
    {
     "name": "stdout",
     "output_type": "stream",
     "text": [
      "Null count in Referee = 25\n",
      "Null count in Winner = 92\n"
     ]
    }
   ],
   "source": [
    "for col in df_fights:\n",
    "    if df_fights[col].isnull().sum()!=0:\n",
    "        print(f'Null count in {col} = {df_fights[col].isnull().sum()}')"
   ]
  },
  {
   "cell_type": "code",
   "execution_count": 2091,
   "metadata": {
    "scrolled": true
   },
   "outputs": [
    {
     "data": {
      "text/plain": [
       "Overturned              37\n",
       "Decision - Majority     22\n",
       "Could Not Continue      15\n",
       "Decision - Split        11\n",
       "Decision - Unanimous     5\n",
       "Other                    2\n",
       "Name: win_by, dtype: int64"
      ]
     },
     "execution_count": 2091,
     "metadata": {},
     "output_type": "execute_result"
    }
   ],
   "source": [
    "df_fights[df_fights['Winner'].isnull()]['win_by'].value_counts()"
   ]
  },
  {
   "cell_type": "code",
   "execution_count": 2092,
   "metadata": {},
   "outputs": [],
   "source": [
    "df_fights['Winner'].fillna('Draw', inplace=True)"
   ]
  },
  {
   "cell_type": "markdown",
   "metadata": {},
   "source": [
    "- convert percentages to decimal values"
   ]
  },
  {
   "cell_type": "code",
   "execution_count": 2093,
   "metadata": {},
   "outputs": [],
   "source": [
    "percentage_columns = ['R_SIG_STR_pct', 'B_SIG_STR_pct', 'R_TD_pct', 'B_TD_pct']\n",
    "\n",
    "for col in percentage_columns:\n",
    "    df_fights[col] = df_fights[col].apply(lambda x : float(x.replace('%',''))/100)"
   ]
  },
  {
   "cell_type": "markdown",
   "metadata": {},
   "source": [
    "- isolating Title fights and weight classes"
   ]
  },
  {
   "cell_type": "code",
   "execution_count": 2094,
   "metadata": {
    "scrolled": false
   },
   "outputs": [
    {
     "data": {
      "text/plain": [
       "Index(['Lightweight Bout', 'Welterweight Bout', 'Middleweight Bout',\n",
       "       'Light Heavyweight Bout', 'Heavyweight Bout', 'Featherweight Bout',\n",
       "       'Bantamweight Bout', 'Flyweight Bout', 'Women's Strawweight Bout',\n",
       "       'Women's Bantamweight Bout', 'Open Weight Bout',\n",
       "       'Women's Flyweight Bout', 'UFC Light Heavyweight Title Bout',\n",
       "       'UFC Welterweight Title Bout', 'UFC Heavyweight Title Bout',\n",
       "       'UFC Middleweight Title Bout', 'UFC Lightweight Title Bout',\n",
       "       'Catch Weight Bout', 'UFC Flyweight Title Bout',\n",
       "       'UFC Women's Bantamweight Title Bout', 'UFC Featherweight Title Bout',\n",
       "       'UFC Bantamweight Title Bout', 'UFC Women's Strawweight Title Bout',\n",
       "       'Women's Featherweight Bout', 'UFC Interim Heavyweight Title Bout',\n",
       "       'UFC Women's Flyweight Title Bout',\n",
       "       'UFC Women's Featherweight Title Bout',\n",
       "       'UFC Superfight Championship Bout',\n",
       "       'UFC Interim Bantamweight Title Bout',\n",
       "       'UFC Interim Middleweight Title Bout',\n",
       "       'UFC Interim Featherweight Title Bout',\n",
       "       'UFC Interim Welterweight Title Bout',\n",
       "       'UFC Interim Lightweight Title Bout',\n",
       "       'UFC Interim Light Heavyweight Title Bout'],\n",
       "      dtype='object')"
      ]
     },
     "execution_count": 2094,
     "metadata": {},
     "output_type": "execute_result"
    }
   ],
   "source": [
    "df_fights['Fight_type'].value_counts()[df_fights['Fight_type'].value_counts() > 1].index"
   ]
  },
  {
   "cell_type": "code",
   "execution_count": 2095,
   "metadata": {},
   "outputs": [],
   "source": [
    "df_fights['title_bout'] = df_fights['Fight_type'].apply(lambda x: 1 if 'Title Bout' in x else 0) "
   ]
  },
  {
   "cell_type": "code",
   "execution_count": 2096,
   "metadata": {},
   "outputs": [],
   "source": [
    "weight_classes = ['Women\\'s Strawweight', 'Women\\'s Bantamweight', \n",
    "                  'Women\\'s Featherweight', 'Women\\'s Flyweight', 'Lightweight', \n",
    "                  'Welterweight', 'Middleweight','Light Heavyweight', \n",
    "                  'Heavyweight', 'Featherweight','Bantamweight', 'Flyweight', 'Open Weight']\n",
    "\n",
    "def make_weight_class(x):\n",
    "    for weight_class in weight_classes:\n",
    "        if weight_class in x:\n",
    "            return weight_class\n",
    "    if x == 'Catch Weight Bout' or 'Catchweight Bout':\n",
    "        return 'Catch Weight'\n",
    "    else:\n",
    "        return 'Open Weight'"
   ]
  },
  {
   "cell_type": "code",
   "execution_count": 2097,
   "metadata": {},
   "outputs": [],
   "source": [
    "df_fights['weight_class'] = df_fights['Fight_type'].apply(make_weight_class)"
   ]
  },
  {
   "cell_type": "code",
   "execution_count": 2098,
   "metadata": {
    "scrolled": true
   },
   "outputs": [
    {
     "data": {
      "text/plain": [
       "Lightweight              1039\n",
       "Welterweight             1023\n",
       "Middleweight              762\n",
       "Heavyweight               537\n",
       "Light Heavyweight         535\n",
       "Featherweight             488\n",
       "Bantamweight              421\n",
       "Flyweight                 204\n",
       "Women's Strawweight       164\n",
       "Women's Bantamweight      129\n",
       "Open Weight                92\n",
       "Women's Flyweight          77\n",
       "Catch Weight               39\n",
       "Women's Featherweight      14\n",
       "Name: weight_class, dtype: int64"
      ]
     },
     "execution_count": 2098,
     "metadata": {},
     "output_type": "execute_result"
    }
   ],
   "source": [
    "df_fights['weight_class'].value_counts()"
   ]
  },
  {
   "cell_type": "markdown",
   "metadata": {},
   "source": [
    "- isolate total fight time (seconds)"
   ]
  },
  {
   "cell_type": "code",
   "execution_count": 2099,
   "metadata": {},
   "outputs": [
    {
     "data": {
      "text/plain": [
       "3 Rnd (5-5-5)           4847\n",
       "5 Rnd (5-5-5-5-5)        458\n",
       "1 Rnd + OT (12-3)         79\n",
       "No Time Limit             37\n",
       "3 Rnd + OT (5-5-5-5)      22\n",
       "1 Rnd + 2OT (15-3-3)      20\n",
       "1 Rnd (20)                20\n",
       "2 Rnd (5-5)               11\n",
       "1 Rnd (15)                 8\n",
       "1 Rnd (10)                 6\n",
       "1 Rnd (12)                 4\n",
       "1 Rnd + OT (30-5)          3\n",
       "1 Rnd (18)                 2\n",
       "1 Rnd + OT (15-3)          2\n",
       "1 Rnd (30)                 1\n",
       "1 Rnd + 2OT (24-3-3)       1\n",
       "1 Rnd + OT (27-3)          1\n",
       "1 Rnd + OT (30-3)          1\n",
       "1 Rnd + OT (31-5)          1\n",
       "Name: Format, dtype: int64"
      ]
     },
     "execution_count": 2099,
     "metadata": {},
     "output_type": "execute_result"
    }
   ],
   "source": [
    "df_fights['Format'].value_counts()"
   ]
  },
  {
   "cell_type": "code",
   "execution_count": 2100,
   "metadata": {},
   "outputs": [],
   "source": [
    "time_in_first_round = {'3 Rnd (5-5-5)': 5*60, \n",
    "                       '5 Rnd (5-5-5-5-5)': 5*60, \n",
    "                       '1 Rnd + OT (12-3)': 12*60,\n",
    "                       'No Time Limit': 1, \n",
    "                       '3 Rnd + OT (5-5-5-5)': 5*60, \n",
    "                       '1 Rnd (20)': 1*20,\n",
    "                       '2 Rnd (5-5)': 5*60, \n",
    "                       '1 Rnd (15)': 15*60, \n",
    "                       '1 Rnd (10)': 10*60,\n",
    "                       '1 Rnd (12)':12*60, \n",
    "                       '1 Rnd + OT (30-5)': 30*60, \n",
    "                       '1 Rnd (18)': 18*60, \n",
    "                       '1 Rnd + OT (15-3)': 15*60,\n",
    "                       '1 Rnd (30)': 30*60, \n",
    "                       '1 Rnd + OT (31-5)': 31*5,\n",
    "                       '1 Rnd + OT (27-3)': 27*60, \n",
    "                       '1 Rnd + OT (30-3)': 30*60}\n",
    "\n",
    "exception_format_time = {'1 Rnd + 2OT (15-3-3)': [15*60, 3*60], \n",
    "                         '1 Rnd + 2OT (24-3-3)': [24*60, 3*60]}\n",
    "\n",
    "# '1 Rnd + 2OT (15-3-3)' and '1 Rnd + 2OT (24-3-3)' is not included because it has 3 uneven timed rounds. \n",
    "# We'll have to deal with it separately"
   ]
  },
  {
   "cell_type": "code",
   "execution_count": 2101,
   "metadata": {},
   "outputs": [],
   "source": [
    "# Converting to seconds\n",
    "df_fights['last_round_time'] = df_fights['last_round_time'].apply(lambda x: int(x.split(':')[0])*60 + int(x.split(':')[1]))"
   ]
  },
  {
   "cell_type": "code",
   "execution_count": 2102,
   "metadata": {},
   "outputs": [],
   "source": [
    "def get_total_time(row):\n",
    "    if row['Format'] in time_in_first_round.keys():\n",
    "        return (row['last_round'] - 1) * time_in_first_round[row['Format']] + row['last_round_time']\n",
    "    elif row['Format'] in exception_format_time.keys():\n",
    "        if (row['last_round'] - 1) >= 2:\n",
    "            return exception_format_time[row['Format']][0] + (row['last_round'] - 2) * \\\n",
    "                    exception_format_time[row['Format']][1] + row['last_round_time']\n",
    "        else:\n",
    "            return (row['last_round'] - 1) * exception_format_time[row['Format']][0] + row['last_round_time']"
   ]
  },
  {
   "cell_type": "code",
   "execution_count": 2103,
   "metadata": {},
   "outputs": [],
   "source": [
    "df_fights['total_time_fought(sec)'] = df_fights.apply(get_total_time, axis=1)"
   ]
  },
  {
   "cell_type": "code",
   "execution_count": 2104,
   "metadata": {},
   "outputs": [],
   "source": [
    "def get_num_rounds(x):\n",
    "    if x == 'No Time Limit':\n",
    "        return 1\n",
    "    else:\n",
    "        return len((x.split('(')[1].replace(')','').split('-')))\n",
    "    \n",
    "df_fights['no_of_rounds'] = df_fights['Format'].apply(get_num_rounds)"
   ]
  },
  {
   "cell_type": "markdown",
   "metadata": {},
   "source": [
    "<h3>Create master DataFrame by integrating fight/fighter data</h3>"
   ]
  },
  {
   "cell_type": "markdown",
   "metadata": {},
   "source": [
    "<h4>Consolidate red/blue corner stats to align them with the correct fighter</h4>"
   ]
  },
  {
   "cell_type": "code",
   "execution_count": 2105,
   "metadata": {
    "scrolled": false
   },
   "outputs": [],
   "source": [
    "df_master = df_fights.copy(deep=True)"
   ]
  },
  {
   "cell_type": "code",
   "execution_count": 2106,
   "metadata": {
    "scrolled": true
   },
   "outputs": [
    {
     "data": {
      "text/plain": [
       "Index(['R_fighter', 'B_fighter', 'R_KD', 'B_KD', 'R_SIG_STR_pct',\n",
       "       'B_SIG_STR_pct', 'R_TD_pct', 'B_TD_pct', 'R_SUB_ATT', 'B_SUB_ATT',\n",
       "       'R_PASS', 'B_PASS', 'R_REV', 'B_REV', 'win_by', 'last_round',\n",
       "       'last_round_time', 'Format', 'Referee', 'date', 'location',\n",
       "       'Fight_type', 'Winner', 'R_SIG_STR._ATT', 'R_SIG_STR._LANDED',\n",
       "       'B_SIG_STR._ATT', 'B_SIG_STR._LANDED', 'R_TOTAL_STR._ATT',\n",
       "       'R_TOTAL_STR._LANDED', 'B_TOTAL_STR._ATT', 'B_TOTAL_STR._LANDED',\n",
       "       'R_TD_ATT', 'R_TD_LANDED', 'B_TD_ATT', 'B_TD_LANDED', 'R_HEAD_ATT',\n",
       "       'R_HEAD_LANDED', 'B_HEAD_ATT', 'B_HEAD_LANDED', 'R_BODY_ATT',\n",
       "       'R_BODY_LANDED', 'B_BODY_ATT', 'B_BODY_LANDED', 'R_LEG_ATT',\n",
       "       'R_LEG_LANDED', 'B_LEG_ATT', 'B_LEG_LANDED', 'R_DISTANCE_ATT',\n",
       "       'R_DISTANCE_LANDED', 'B_DISTANCE_ATT', 'B_DISTANCE_LANDED',\n",
       "       'R_CLINCH_ATT', 'R_CLINCH_LANDED', 'B_CLINCH_ATT', 'B_CLINCH_LANDED',\n",
       "       'R_GROUND_ATT', 'R_GROUND_LANDED', 'B_GROUND_ATT', 'B_GROUND_LANDED',\n",
       "       'title_bout', 'weight_class', 'total_time_fought(sec)', 'no_of_rounds'],\n",
       "      dtype='object')"
      ]
     },
     "execution_count": 2106,
     "metadata": {},
     "output_type": "execute_result"
    }
   ],
   "source": [
    "df_master.columns"
   ]
  },
  {
   "cell_type": "code",
   "execution_count": 2107,
   "metadata": {},
   "outputs": [],
   "source": [
    "df_master.drop(['R_KD', 'B_KD', 'R_SIG_STR_pct',\n",
    "       'B_SIG_STR_pct', 'R_TD_pct', 'B_TD_pct', 'R_SUB_ATT', 'B_SUB_ATT',\n",
    "       'R_PASS', 'B_PASS', 'R_REV', 'B_REV', 'win_by', 'last_round',\n",
    "       'last_round_time', 'Format',\n",
    "       'Fight_type', 'R_SIG_STR._ATT', 'R_SIG_STR._LANDED',\n",
    "       'B_SIG_STR._ATT', 'B_SIG_STR._LANDED', 'R_TOTAL_STR._ATT',\n",
    "       'R_TOTAL_STR._LANDED', 'B_TOTAL_STR._ATT', 'B_TOTAL_STR._LANDED',\n",
    "       'R_TD_ATT', 'R_TD_LANDED', 'B_TD_ATT', 'B_TD_LANDED', 'R_HEAD_ATT',\n",
    "       'R_HEAD_LANDED', 'B_HEAD_ATT', 'B_HEAD_LANDED', 'R_BODY_ATT',\n",
    "       'R_BODY_LANDED', 'B_BODY_ATT', 'B_BODY_LANDED', 'R_LEG_ATT',\n",
    "       'R_LEG_LANDED', 'B_LEG_ATT', 'B_LEG_LANDED', 'R_DISTANCE_ATT',\n",
    "       'R_DISTANCE_LANDED', 'B_DISTANCE_ATT', 'B_DISTANCE_LANDED',\n",
    "       'R_CLINCH_ATT', 'R_CLINCH_LANDED', 'B_CLINCH_ATT', 'B_CLINCH_LANDED',\n",
    "       'R_GROUND_ATT', 'R_GROUND_LANDED', 'B_GROUND_ATT', 'B_GROUND_LANDED'], axis = 1, inplace=True)"
   ]
  },
  {
   "cell_type": "code",
   "execution_count": 2143,
   "metadata": {},
   "outputs": [
    {
     "data": {
      "text/html": [
       "<div>\n",
       "<style scoped>\n",
       "    .dataframe tbody tr th:only-of-type {\n",
       "        vertical-align: middle;\n",
       "    }\n",
       "\n",
       "    .dataframe tbody tr th {\n",
       "        vertical-align: top;\n",
       "    }\n",
       "\n",
       "    .dataframe thead th {\n",
       "        text-align: right;\n",
       "    }\n",
       "</style>\n",
       "<table border=\"1\" class=\"dataframe\">\n",
       "  <thead>\n",
       "    <tr style=\"text-align: right;\">\n",
       "      <th></th>\n",
       "      <th>R_fighter</th>\n",
       "      <th>B_fighter</th>\n",
       "      <th>Referee</th>\n",
       "      <th>date</th>\n",
       "      <th>location</th>\n",
       "      <th>Winner</th>\n",
       "      <th>title_bout</th>\n",
       "      <th>weight_class</th>\n",
       "      <th>total_time_fought(sec)</th>\n",
       "      <th>no_of_rounds</th>\n",
       "    </tr>\n",
       "  </thead>\n",
       "  <tbody>\n",
       "    <tr>\n",
       "      <td>0</td>\n",
       "      <td>Israel Adesanya</td>\n",
       "      <td>Yoel Romero</td>\n",
       "      <td>Dan Miragliotta</td>\n",
       "      <td>March 07, 2020</td>\n",
       "      <td>Las Vegas, Nevada, USA</td>\n",
       "      <td>Israel Adesanya</td>\n",
       "      <td>1</td>\n",
       "      <td>Middleweight</td>\n",
       "      <td>1500</td>\n",
       "      <td>5</td>\n",
       "    </tr>\n",
       "    <tr>\n",
       "      <td>1</td>\n",
       "      <td>Weili Zhang</td>\n",
       "      <td>Joanna Jedrzejczyk</td>\n",
       "      <td>Keith Peterson</td>\n",
       "      <td>March 07, 2020</td>\n",
       "      <td>Las Vegas, Nevada, USA</td>\n",
       "      <td>Weili Zhang</td>\n",
       "      <td>1</td>\n",
       "      <td>Women's Strawweight</td>\n",
       "      <td>1500</td>\n",
       "      <td>5</td>\n",
       "    </tr>\n",
       "    <tr>\n",
       "      <td>2</td>\n",
       "      <td>Beneil Dariush</td>\n",
       "      <td>Drakkar Klose</td>\n",
       "      <td>Jason Herzog</td>\n",
       "      <td>March 07, 2020</td>\n",
       "      <td>Las Vegas, Nevada, USA</td>\n",
       "      <td>Beneil Dariush</td>\n",
       "      <td>0</td>\n",
       "      <td>Lightweight</td>\n",
       "      <td>360</td>\n",
       "      <td>3</td>\n",
       "    </tr>\n",
       "  </tbody>\n",
       "</table>\n",
       "</div>"
      ],
      "text/plain": [
       "         R_fighter           B_fighter          Referee            date  \\\n",
       "0  Israel Adesanya         Yoel Romero  Dan Miragliotta  March 07, 2020   \n",
       "1      Weili Zhang  Joanna Jedrzejczyk   Keith Peterson  March 07, 2020   \n",
       "2   Beneil Dariush       Drakkar Klose     Jason Herzog  March 07, 2020   \n",
       "\n",
       "                 location           Winner  title_bout         weight_class  \\\n",
       "0  Las Vegas, Nevada, USA  Israel Adesanya           1         Middleweight   \n",
       "1  Las Vegas, Nevada, USA      Weili Zhang           1  Women's Strawweight   \n",
       "2  Las Vegas, Nevada, USA   Beneil Dariush           0          Lightweight   \n",
       "\n",
       "   total_time_fought(sec)  no_of_rounds  \n",
       "0                    1500             5  \n",
       "1                    1500             5  \n",
       "2                     360             3  "
      ]
     },
     "execution_count": 2143,
     "metadata": {},
     "output_type": "execute_result"
    }
   ],
   "source": [
    "df_master.head(3)"
   ]
  },
  {
   "cell_type": "code",
   "execution_count": 2110,
   "metadata": {},
   "outputs": [],
   "source": [
    "df_red = df_fights[['R_fighter','R_KD', 'R_SIG_STR_pct',\n",
    "       'R_TD_pct', 'R_SUB_ATT',\n",
    "       'R_PASS', 'R_REV', 'win_by', 'last_round',\n",
    "       'last_round_time', 'Format', 'Referee', 'date', 'location',\n",
    "       'Fight_type', 'Winner', 'R_SIG_STR._ATT', 'R_SIG_STR._LANDED',\n",
    "       'R_TOTAL_STR._ATT',\n",
    "       'R_TOTAL_STR._LANDED',\n",
    "       'R_TD_ATT', 'R_TD_LANDED', 'R_HEAD_ATT',\n",
    "       'R_HEAD_LANDED', 'R_BODY_ATT',\n",
    "       'R_BODY_LANDED',  'R_LEG_ATT',\n",
    "       'R_LEG_LANDED',  'R_DISTANCE_ATT',\n",
    "       'R_DISTANCE_LANDED', \n",
    "       'R_CLINCH_ATT', 'R_CLINCH_LANDED',\n",
    "       'R_GROUND_ATT', 'R_GROUND_LANDED',\n",
    "       'title_bout', 'weight_class', 'total_time_fought(sec)', 'no_of_rounds']]\n",
    "\n",
    "df_blue = df_fights[['B_fighter',  'B_KD',\n",
    "       'B_SIG_STR_pct','B_TD_pct', 'B_SUB_ATT',\n",
    "       'B_PASS',  'B_REV', 'win_by', 'last_round',\n",
    "       'last_round_time', 'Format', 'Referee', 'date', 'location',\n",
    "       'Fight_type', 'Winner',\n",
    "       'B_SIG_STR._ATT', 'B_SIG_STR._LANDED',\n",
    "       'B_TOTAL_STR._ATT', 'B_TOTAL_STR._LANDED',\n",
    "       'B_TD_ATT', 'B_TD_LANDED',\n",
    "       'B_HEAD_ATT', 'B_HEAD_LANDED', \n",
    "       'B_BODY_ATT', 'B_BODY_LANDED', \n",
    "       'B_LEG_ATT', 'B_LEG_LANDED', \n",
    "       'B_DISTANCE_ATT', 'B_DISTANCE_LANDED',\n",
    "       'B_CLINCH_ATT', 'B_CLINCH_LANDED',\n",
    "       'B_GROUND_ATT', 'B_GROUND_LANDED',\n",
    "       'title_bout', 'weight_class', 'total_time_fought(sec)', 'no_of_rounds']]"
   ]
  },
  {
   "cell_type": "markdown",
   "metadata": {},
   "source": [
    "- get rid of red/blue corner prefixes in order to union fighter history"
   ]
  },
  {
   "cell_type": "code",
   "execution_count": 2111,
   "metadata": {},
   "outputs": [],
   "source": [
    "def drop_prefix(self, prefix):\n",
    "    self.columns = self.columns.str.replace('^'+prefix,'')\n",
    "    return self\n",
    "\n",
    "pd.core.frame.DataFrame.drop_prefix = drop_prefix"
   ]
  },
  {
   "cell_type": "code",
   "execution_count": 2112,
   "metadata": {},
   "outputs": [],
   "source": [
    "union = pd.concat([df_red.drop_prefix('R_'), df_blue.drop_prefix('B_')])"
   ]
  },
  {
   "cell_type": "markdown",
   "metadata": {},
   "source": [
    "- join this combined fight history DataFrame to the originial fighter DataFrame"
   ]
  },
  {
   "cell_type": "code",
   "execution_count": 2145,
   "metadata": {
    "scrolled": true
   },
   "outputs": [
    {
     "data": {
      "text/html": [
       "<div>\n",
       "<style scoped>\n",
       "    .dataframe tbody tr th:only-of-type {\n",
       "        vertical-align: middle;\n",
       "    }\n",
       "\n",
       "    .dataframe tbody tr th {\n",
       "        vertical-align: top;\n",
       "    }\n",
       "\n",
       "    .dataframe thead th {\n",
       "        text-align: right;\n",
       "    }\n",
       "</style>\n",
       "<table border=\"1\" class=\"dataframe\">\n",
       "  <thead>\n",
       "    <tr style=\"text-align: right;\">\n",
       "      <th></th>\n",
       "      <th>fighter</th>\n",
       "      <th>KD</th>\n",
       "      <th>SIG_STR_pct</th>\n",
       "      <th>TD_pct</th>\n",
       "      <th>SUB_ATT</th>\n",
       "      <th>PASS</th>\n",
       "      <th>REV</th>\n",
       "      <th>win_by</th>\n",
       "      <th>last_round</th>\n",
       "      <th>last_round_time</th>\n",
       "      <th>...</th>\n",
       "      <th>DISTANCE_ATT</th>\n",
       "      <th>DISTANCE_LANDED</th>\n",
       "      <th>CLINCH_ATT</th>\n",
       "      <th>CLINCH_LANDED</th>\n",
       "      <th>GROUND_ATT</th>\n",
       "      <th>GROUND_LANDED</th>\n",
       "      <th>title_bout</th>\n",
       "      <th>weight_class</th>\n",
       "      <th>total_time_fought(sec)</th>\n",
       "      <th>no_of_rounds</th>\n",
       "    </tr>\n",
       "  </thead>\n",
       "  <tbody>\n",
       "    <tr>\n",
       "      <td>268</td>\n",
       "      <td>Daniel Cormier</td>\n",
       "      <td>0</td>\n",
       "      <td>0.68</td>\n",
       "      <td>0.33</td>\n",
       "      <td>0</td>\n",
       "      <td>2</td>\n",
       "      <td>0</td>\n",
       "      <td>KO/TKO</td>\n",
       "      <td>4</td>\n",
       "      <td>249</td>\n",
       "      <td>...</td>\n",
       "      <td>209</td>\n",
       "      <td>139</td>\n",
       "      <td>27</td>\n",
       "      <td>21</td>\n",
       "      <td>27</td>\n",
       "      <td>21</td>\n",
       "      <td>1</td>\n",
       "      <td>Heavyweight</td>\n",
       "      <td>1149</td>\n",
       "      <td>5</td>\n",
       "    </tr>\n",
       "    <tr>\n",
       "      <td>698</td>\n",
       "      <td>Daniel Cormier</td>\n",
       "      <td>0</td>\n",
       "      <td>0.76</td>\n",
       "      <td>1.00</td>\n",
       "      <td>1</td>\n",
       "      <td>4</td>\n",
       "      <td>0</td>\n",
       "      <td>Submission</td>\n",
       "      <td>2</td>\n",
       "      <td>134</td>\n",
       "      <td>...</td>\n",
       "      <td>6</td>\n",
       "      <td>4</td>\n",
       "      <td>1</td>\n",
       "      <td>1</td>\n",
       "      <td>18</td>\n",
       "      <td>14</td>\n",
       "      <td>1</td>\n",
       "      <td>Heavyweight</td>\n",
       "      <td>434</td>\n",
       "      <td>5</td>\n",
       "    </tr>\n",
       "    <tr>\n",
       "      <td>1052</td>\n",
       "      <td>Daniel Cormier</td>\n",
       "      <td>0</td>\n",
       "      <td>0.52</td>\n",
       "      <td>0.66</td>\n",
       "      <td>1</td>\n",
       "      <td>3</td>\n",
       "      <td>0</td>\n",
       "      <td>KO/TKO</td>\n",
       "      <td>2</td>\n",
       "      <td>120</td>\n",
       "      <td>...</td>\n",
       "      <td>46</td>\n",
       "      <td>24</td>\n",
       "      <td>8</td>\n",
       "      <td>3</td>\n",
       "      <td>7</td>\n",
       "      <td>5</td>\n",
       "      <td>1</td>\n",
       "      <td>Light Heavyweight</td>\n",
       "      <td>420</td>\n",
       "      <td>5</td>\n",
       "    </tr>\n",
       "  </tbody>\n",
       "</table>\n",
       "<p>3 rows × 38 columns</p>\n",
       "</div>"
      ],
      "text/plain": [
       "             fighter  KD  SIG_STR_pct  TD_pct  SUB_ATT  PASS  REV      win_by  \\\n",
       "268   Daniel Cormier   0         0.68    0.33        0     2    0      KO/TKO   \n",
       "698   Daniel Cormier   0         0.76    1.00        1     4    0  Submission   \n",
       "1052  Daniel Cormier   0         0.52    0.66        1     3    0      KO/TKO   \n",
       "\n",
       "      last_round  last_round_time  ... DISTANCE_ATT DISTANCE_LANDED  \\\n",
       "268            4              249  ...          209             139   \n",
       "698            2              134  ...            6               4   \n",
       "1052           2              120  ...           46              24   \n",
       "\n",
       "     CLINCH_ATT CLINCH_LANDED GROUND_ATT GROUND_LANDED  title_bout  \\\n",
       "268          27            21         27            21           1   \n",
       "698           1             1         18            14           1   \n",
       "1052          8             3          7             5           1   \n",
       "\n",
       "           weight_class  total_time_fought(sec)  no_of_rounds  \n",
       "268         Heavyweight                    1149             5  \n",
       "698         Heavyweight                     434             5  \n",
       "1052  Light Heavyweight                     420             5  \n",
       "\n",
       "[3 rows x 38 columns]"
      ]
     },
     "execution_count": 2145,
     "metadata": {},
     "output_type": "execute_result"
    }
   ],
   "source": [
    "union[union['fighter']=='Daniel Cormier'].head(3)"
   ]
  },
  {
   "cell_type": "code",
   "execution_count": 2114,
   "metadata": {
    "scrolled": true
   },
   "outputs": [],
   "source": [
    "df_fighter_history = pd.merge(df_fighters, union, left_on='fighter_name', right_on='fighter', how='left', indicator=True)"
   ]
  },
  {
   "cell_type": "markdown",
   "metadata": {},
   "source": [
    "- 1,330 fighters without any fight stats (in original fighter dataset)\n",
    "    - However, every fighter involved in a historical bout is contained in the original fighter dataset"
   ]
  },
  {
   "cell_type": "code",
   "execution_count": 2115,
   "metadata": {},
   "outputs": [
    {
     "data": {
      "text/plain": [
       "(11048, 38)"
      ]
     },
     "execution_count": 2115,
     "metadata": {},
     "output_type": "execute_result"
    }
   ],
   "source": [
    "union.shape"
   ]
  },
  {
   "cell_type": "code",
   "execution_count": 2116,
   "metadata": {},
   "outputs": [
    {
     "data": {
      "text/plain": [
       "(12370, 45)"
      ]
     },
     "execution_count": 2116,
     "metadata": {},
     "output_type": "execute_result"
    }
   ],
   "source": [
    "df_fighter_history.shape"
   ]
  },
  {
   "cell_type": "code",
   "execution_count": 2117,
   "metadata": {},
   "outputs": [
    {
     "data": {
      "text/plain": [
       "both          11040\n",
       "left_only      1330\n",
       "right_only        0\n",
       "Name: _merge, dtype: int64"
      ]
     },
     "execution_count": 2117,
     "metadata": {},
     "output_type": "execute_result"
    }
   ],
   "source": [
    "df_fighter_history._merge.value_counts()"
   ]
  },
  {
   "cell_type": "markdown",
   "metadata": {},
   "source": [
    "- lack of depth in individual fight history presents a problem for forecasting fighter performance"
   ]
  },
  {
   "cell_type": "code",
   "execution_count": 2118,
   "metadata": {},
   "outputs": [
    {
     "data": {
      "text/plain": [
       "Donald Cerrone      34\n",
       "Jim Miller          34\n",
       "Jeremy Stephens     32\n",
       "Andrei Arlovski     31\n",
       "Diego Sanchez       31\n",
       "                    ..\n",
       "Ricardo Palacios     1\n",
       "Matt Horning         1\n",
       "Kelly Dullanty       1\n",
       "Phil Cardella        1\n",
       "Alex Gorgees         1\n",
       "Name: fighter_name, Length: 3334, dtype: int64"
      ]
     },
     "execution_count": 2118,
     "metadata": {},
     "output_type": "execute_result"
    }
   ],
   "source": [
    "df_fighter_history['fighter_name'].value_counts()"
   ]
  },
  {
   "cell_type": "markdown",
   "metadata": {},
   "source": [
    "<h3>Feature Engineering</h3>"
   ]
  },
  {
   "cell_type": "code",
   "execution_count": 2147,
   "metadata": {
    "scrolled": true
   },
   "outputs": [
    {
     "data": {
      "text/html": [
       "<div>\n",
       "<style scoped>\n",
       "    .dataframe tbody tr th:only-of-type {\n",
       "        vertical-align: middle;\n",
       "    }\n",
       "\n",
       "    .dataframe tbody tr th {\n",
       "        vertical-align: top;\n",
       "    }\n",
       "\n",
       "    .dataframe thead th {\n",
       "        text-align: right;\n",
       "    }\n",
       "</style>\n",
       "<table border=\"1\" class=\"dataframe\">\n",
       "  <thead>\n",
       "    <tr style=\"text-align: right;\">\n",
       "      <th></th>\n",
       "      <th>0</th>\n",
       "      <th>1</th>\n",
       "      <th>2</th>\n",
       "      <th>3</th>\n",
       "      <th>4</th>\n",
       "      <th>5</th>\n",
       "    </tr>\n",
       "  </thead>\n",
       "  <tbody>\n",
       "    <tr>\n",
       "      <td>fighter_name</td>\n",
       "      <td>Tom Aaron</td>\n",
       "      <td>Danny Abbadi</td>\n",
       "      <td>Danny Abbadi</td>\n",
       "      <td>David Abbott</td>\n",
       "      <td>David Abbott</td>\n",
       "      <td>David Abbott</td>\n",
       "    </tr>\n",
       "    <tr>\n",
       "      <td>Height</td>\n",
       "      <td>69.5797</td>\n",
       "      <td>71</td>\n",
       "      <td>71</td>\n",
       "      <td>72</td>\n",
       "      <td>72</td>\n",
       "      <td>72</td>\n",
       "    </tr>\n",
       "    <tr>\n",
       "      <td>Weight</td>\n",
       "      <td>155</td>\n",
       "      <td>155</td>\n",
       "      <td>155</td>\n",
       "      <td>265</td>\n",
       "      <td>265</td>\n",
       "      <td>265</td>\n",
       "    </tr>\n",
       "    <tr>\n",
       "      <td>Reach</td>\n",
       "      <td>70</td>\n",
       "      <td>72.6813</td>\n",
       "      <td>72.6813</td>\n",
       "      <td>73.75</td>\n",
       "      <td>73.75</td>\n",
       "      <td>73.75</td>\n",
       "    </tr>\n",
       "    <tr>\n",
       "      <td>Stance</td>\n",
       "      <td>Orthodox</td>\n",
       "      <td>Orthodox</td>\n",
       "      <td>Orthodox</td>\n",
       "      <td>Switch</td>\n",
       "      <td>Switch</td>\n",
       "      <td>Switch</td>\n",
       "    </tr>\n",
       "    <tr>\n",
       "      <td>DOB</td>\n",
       "      <td>1978-07-13 00:00:00</td>\n",
       "      <td>1983-07-03 00:00:00</td>\n",
       "      <td>1983-07-03 00:00:00</td>\n",
       "      <td>1984-09-26 00:00:00</td>\n",
       "      <td>1984-09-26 00:00:00</td>\n",
       "      <td>1984-09-26 00:00:00</td>\n",
       "    </tr>\n",
       "    <tr>\n",
       "      <td>KD</td>\n",
       "      <td>0.215127</td>\n",
       "      <td>0</td>\n",
       "      <td>0</td>\n",
       "      <td>0</td>\n",
       "      <td>0</td>\n",
       "      <td>1</td>\n",
       "    </tr>\n",
       "    <tr>\n",
       "      <td>SIG_STR_pct</td>\n",
       "      <td>0.440723</td>\n",
       "      <td>0.38</td>\n",
       "      <td>0.33</td>\n",
       "      <td>0.68</td>\n",
       "      <td>0.41</td>\n",
       "      <td>0.52</td>\n",
       "    </tr>\n",
       "    <tr>\n",
       "      <td>TD_pct</td>\n",
       "      <td>0.275527</td>\n",
       "      <td>0</td>\n",
       "      <td>0</td>\n",
       "      <td>0</td>\n",
       "      <td>0.75</td>\n",
       "      <td>1</td>\n",
       "    </tr>\n",
       "    <tr>\n",
       "      <td>SUB_ATT</td>\n",
       "      <td>0.422011</td>\n",
       "      <td>0</td>\n",
       "      <td>0</td>\n",
       "      <td>0</td>\n",
       "      <td>0</td>\n",
       "      <td>0</td>\n",
       "    </tr>\n",
       "    <tr>\n",
       "      <td>PASS</td>\n",
       "      <td>1.10154</td>\n",
       "      <td>0</td>\n",
       "      <td>0</td>\n",
       "      <td>0</td>\n",
       "      <td>1</td>\n",
       "      <td>1</td>\n",
       "    </tr>\n",
       "    <tr>\n",
       "      <td>REV</td>\n",
       "      <td>0.137319</td>\n",
       "      <td>0</td>\n",
       "      <td>0</td>\n",
       "      <td>1</td>\n",
       "      <td>0</td>\n",
       "      <td>0</td>\n",
       "    </tr>\n",
       "    <tr>\n",
       "      <td>win_by</td>\n",
       "      <td>Decision - Unanimous</td>\n",
       "      <td>Decision - Split</td>\n",
       "      <td>Submission</td>\n",
       "      <td>KO/TKO</td>\n",
       "      <td>Decision - Unanimous</td>\n",
       "      <td>KO/TKO</td>\n",
       "    </tr>\n",
       "    <tr>\n",
       "      <td>last_round</td>\n",
       "      <td>2.30308</td>\n",
       "      <td>3</td>\n",
       "      <td>1</td>\n",
       "      <td>1</td>\n",
       "      <td>2</td>\n",
       "      <td>1</td>\n",
       "    </tr>\n",
       "    <tr>\n",
       "      <td>last_round_time</td>\n",
       "      <td>226.129</td>\n",
       "      <td>300</td>\n",
       "      <td>176</td>\n",
       "      <td>43</td>\n",
       "      <td>180</td>\n",
       "      <td>63</td>\n",
       "    </tr>\n",
       "    <tr>\n",
       "      <td>date</td>\n",
       "      <td>2016-11-19 00:00:00</td>\n",
       "      <td>2006-09-23 00:00:00</td>\n",
       "      <td>2006-06-24 00:00:00</td>\n",
       "      <td>1998-05-15 00:00:00</td>\n",
       "      <td>1997-12-21 00:00:00</td>\n",
       "      <td>1996-12-07 00:00:00</td>\n",
       "    </tr>\n",
       "    <tr>\n",
       "      <td>location</td>\n",
       "      <td>0</td>\n",
       "      <td>0</td>\n",
       "      <td>1</td>\n",
       "      <td>0</td>\n",
       "      <td>0</td>\n",
       "      <td>0</td>\n",
       "    </tr>\n",
       "    <tr>\n",
       "      <td>SIG_STR._ATT</td>\n",
       "      <td>75.7565</td>\n",
       "      <td>146</td>\n",
       "      <td>9</td>\n",
       "      <td>16</td>\n",
       "      <td>31</td>\n",
       "      <td>17</td>\n",
       "    </tr>\n",
       "    <tr>\n",
       "      <td>SIG_STR._LANDED</td>\n",
       "      <td>32.4959</td>\n",
       "      <td>56</td>\n",
       "      <td>3</td>\n",
       "      <td>11</td>\n",
       "      <td>13</td>\n",
       "      <td>9</td>\n",
       "    </tr>\n",
       "    <tr>\n",
       "      <td>TOTAL_STR._ATT</td>\n",
       "      <td>96.0553</td>\n",
       "      <td>173</td>\n",
       "      <td>12</td>\n",
       "      <td>16</td>\n",
       "      <td>90</td>\n",
       "      <td>21</td>\n",
       "    </tr>\n",
       "    <tr>\n",
       "      <td>TOTAL_STR._LANDED</td>\n",
       "      <td>50.5371</td>\n",
       "      <td>79</td>\n",
       "      <td>6</td>\n",
       "      <td>11</td>\n",
       "      <td>69</td>\n",
       "      <td>13</td>\n",
       "    </tr>\n",
       "    <tr>\n",
       "      <td>TD_ATT</td>\n",
       "      <td>2.80362</td>\n",
       "      <td>0</td>\n",
       "      <td>0</td>\n",
       "      <td>0</td>\n",
       "      <td>4</td>\n",
       "      <td>1</td>\n",
       "    </tr>\n",
       "    <tr>\n",
       "      <td>TD_LANDED</td>\n",
       "      <td>1.07092</td>\n",
       "      <td>0</td>\n",
       "      <td>0</td>\n",
       "      <td>0</td>\n",
       "      <td>3</td>\n",
       "      <td>1</td>\n",
       "    </tr>\n",
       "    <tr>\n",
       "      <td>HEAD_ATT</td>\n",
       "      <td>59.4518</td>\n",
       "      <td>137</td>\n",
       "      <td>8</td>\n",
       "      <td>16</td>\n",
       "      <td>31</td>\n",
       "      <td>17</td>\n",
       "    </tr>\n",
       "    <tr>\n",
       "      <td>HEAD_LANDED</td>\n",
       "      <td>20.6553</td>\n",
       "      <td>49</td>\n",
       "      <td>2</td>\n",
       "      <td>11</td>\n",
       "      <td>13</td>\n",
       "      <td>9</td>\n",
       "    </tr>\n",
       "    <tr>\n",
       "      <td>BODY_ATT</td>\n",
       "      <td>9.5702</td>\n",
       "      <td>9</td>\n",
       "      <td>1</td>\n",
       "      <td>0</td>\n",
       "      <td>0</td>\n",
       "      <td>0</td>\n",
       "    </tr>\n",
       "    <tr>\n",
       "      <td>BODY_LANDED</td>\n",
       "      <td>6.51576</td>\n",
       "      <td>7</td>\n",
       "      <td>1</td>\n",
       "      <td>0</td>\n",
       "      <td>0</td>\n",
       "      <td>0</td>\n",
       "    </tr>\n",
       "    <tr>\n",
       "      <td>LEG_ATT</td>\n",
       "      <td>6.73451</td>\n",
       "      <td>0</td>\n",
       "      <td>0</td>\n",
       "      <td>0</td>\n",
       "      <td>0</td>\n",
       "      <td>0</td>\n",
       "    </tr>\n",
       "    <tr>\n",
       "      <td>LEG_LANDED</td>\n",
       "      <td>5.32482</td>\n",
       "      <td>0</td>\n",
       "      <td>0</td>\n",
       "      <td>0</td>\n",
       "      <td>0</td>\n",
       "      <td>0</td>\n",
       "    </tr>\n",
       "    <tr>\n",
       "      <td>DISTANCE_ATT</td>\n",
       "      <td>60.4344</td>\n",
       "      <td>122</td>\n",
       "      <td>5</td>\n",
       "      <td>0</td>\n",
       "      <td>12</td>\n",
       "      <td>1</td>\n",
       "    </tr>\n",
       "    <tr>\n",
       "      <td>DISTANCE_LANDED</td>\n",
       "      <td>22.1208</td>\n",
       "      <td>41</td>\n",
       "      <td>1</td>\n",
       "      <td>0</td>\n",
       "      <td>6</td>\n",
       "      <td>1</td>\n",
       "    </tr>\n",
       "    <tr>\n",
       "      <td>CLINCH_ATT</td>\n",
       "      <td>7.67971</td>\n",
       "      <td>20</td>\n",
       "      <td>4</td>\n",
       "      <td>3</td>\n",
       "      <td>0</td>\n",
       "      <td>16</td>\n",
       "    </tr>\n",
       "    <tr>\n",
       "      <td>CLINCH_LANDED</td>\n",
       "      <td>5.2106</td>\n",
       "      <td>12</td>\n",
       "      <td>2</td>\n",
       "      <td>2</td>\n",
       "      <td>0</td>\n",
       "      <td>8</td>\n",
       "    </tr>\n",
       "    <tr>\n",
       "      <td>GROUND_ATT</td>\n",
       "      <td>7.64239</td>\n",
       "      <td>4</td>\n",
       "      <td>0</td>\n",
       "      <td>13</td>\n",
       "      <td>19</td>\n",
       "      <td>0</td>\n",
       "    </tr>\n",
       "    <tr>\n",
       "      <td>GROUND_LANDED</td>\n",
       "      <td>5.16449</td>\n",
       "      <td>3</td>\n",
       "      <td>0</td>\n",
       "      <td>9</td>\n",
       "      <td>7</td>\n",
       "      <td>0</td>\n",
       "    </tr>\n",
       "    <tr>\n",
       "      <td>title_bout</td>\n",
       "      <td>0</td>\n",
       "      <td>0</td>\n",
       "      <td>0</td>\n",
       "      <td>0</td>\n",
       "      <td>0</td>\n",
       "      <td>0</td>\n",
       "    </tr>\n",
       "    <tr>\n",
       "      <td>weight_class</td>\n",
       "      <td>Lightweight</td>\n",
       "      <td>Lightweight</td>\n",
       "      <td>Middleweight</td>\n",
       "      <td>Heavyweight</td>\n",
       "      <td>Heavyweight</td>\n",
       "      <td>Open Weight</td>\n",
       "    </tr>\n",
       "    <tr>\n",
       "      <td>total_time_fought(sec)</td>\n",
       "      <td>619.592</td>\n",
       "      <td>900</td>\n",
       "      <td>176</td>\n",
       "      <td>43</td>\n",
       "      <td>900</td>\n",
       "      <td>63</td>\n",
       "    </tr>\n",
       "    <tr>\n",
       "      <td>no_of_rounds</td>\n",
       "      <td>3.125</td>\n",
       "      <td>3</td>\n",
       "      <td>3</td>\n",
       "      <td>2</td>\n",
       "      <td>2</td>\n",
       "      <td>2</td>\n",
       "    </tr>\n",
       "    <tr>\n",
       "      <td>won</td>\n",
       "      <td>0</td>\n",
       "      <td>0</td>\n",
       "      <td>0</td>\n",
       "      <td>1</td>\n",
       "      <td>1</td>\n",
       "      <td>1</td>\n",
       "    </tr>\n",
       "    <tr>\n",
       "      <td>age</td>\n",
       "      <td>38.3553</td>\n",
       "      <td>23.2257</td>\n",
       "      <td>22.9765</td>\n",
       "      <td>25</td>\n",
       "      <td>25</td>\n",
       "      <td>25</td>\n",
       "    </tr>\n",
       "    <tr>\n",
       "      <td>num_fights</td>\n",
       "      <td>1</td>\n",
       "      <td>2</td>\n",
       "      <td>2</td>\n",
       "      <td>18</td>\n",
       "      <td>18</td>\n",
       "      <td>18</td>\n",
       "    </tr>\n",
       "    <tr>\n",
       "      <td>num_wins</td>\n",
       "      <td>0</td>\n",
       "      <td>0</td>\n",
       "      <td>0</td>\n",
       "      <td>8</td>\n",
       "      <td>8</td>\n",
       "      <td>8</td>\n",
       "    </tr>\n",
       "    <tr>\n",
       "      <td>record</td>\n",
       "      <td>0</td>\n",
       "      <td>0</td>\n",
       "      <td>0</td>\n",
       "      <td>0.444444</td>\n",
       "      <td>0.444444</td>\n",
       "      <td>0.444444</td>\n",
       "    </tr>\n",
       "  </tbody>\n",
       "</table>\n",
       "</div>"
      ],
      "text/plain": [
       "                                           0                    1  \\\n",
       "fighter_name                       Tom Aaron         Danny Abbadi   \n",
       "Height                               69.5797                   71   \n",
       "Weight                                   155                  155   \n",
       "Reach                                     70              72.6813   \n",
       "Stance                              Orthodox             Orthodox   \n",
       "DOB                      1978-07-13 00:00:00  1983-07-03 00:00:00   \n",
       "KD                                  0.215127                    0   \n",
       "SIG_STR_pct                         0.440723                 0.38   \n",
       "TD_pct                              0.275527                    0   \n",
       "SUB_ATT                             0.422011                    0   \n",
       "PASS                                 1.10154                    0   \n",
       "REV                                 0.137319                    0   \n",
       "win_by                  Decision - Unanimous     Decision - Split   \n",
       "last_round                           2.30308                    3   \n",
       "last_round_time                      226.129                  300   \n",
       "date                     2016-11-19 00:00:00  2006-09-23 00:00:00   \n",
       "location                                   0                    0   \n",
       "SIG_STR._ATT                         75.7565                  146   \n",
       "SIG_STR._LANDED                      32.4959                   56   \n",
       "TOTAL_STR._ATT                       96.0553                  173   \n",
       "TOTAL_STR._LANDED                    50.5371                   79   \n",
       "TD_ATT                               2.80362                    0   \n",
       "TD_LANDED                            1.07092                    0   \n",
       "HEAD_ATT                             59.4518                  137   \n",
       "HEAD_LANDED                          20.6553                   49   \n",
       "BODY_ATT                              9.5702                    9   \n",
       "BODY_LANDED                          6.51576                    7   \n",
       "LEG_ATT                              6.73451                    0   \n",
       "LEG_LANDED                           5.32482                    0   \n",
       "DISTANCE_ATT                         60.4344                  122   \n",
       "DISTANCE_LANDED                      22.1208                   41   \n",
       "CLINCH_ATT                           7.67971                   20   \n",
       "CLINCH_LANDED                         5.2106                   12   \n",
       "GROUND_ATT                           7.64239                    4   \n",
       "GROUND_LANDED                        5.16449                    3   \n",
       "title_bout                                 0                    0   \n",
       "weight_class                     Lightweight          Lightweight   \n",
       "total_time_fought(sec)               619.592                  900   \n",
       "no_of_rounds                           3.125                    3   \n",
       "won                                        0                    0   \n",
       "age                                  38.3553              23.2257   \n",
       "num_fights                                 1                    2   \n",
       "num_wins                                   0                    0   \n",
       "record                                     0                    0   \n",
       "\n",
       "                                          2                    3  \\\n",
       "fighter_name                   Danny Abbadi         David Abbott   \n",
       "Height                                   71                   72   \n",
       "Weight                                  155                  265   \n",
       "Reach                               72.6813                73.75   \n",
       "Stance                             Orthodox               Switch   \n",
       "DOB                     1983-07-03 00:00:00  1984-09-26 00:00:00   \n",
       "KD                                        0                    0   \n",
       "SIG_STR_pct                            0.33                 0.68   \n",
       "TD_pct                                    0                    0   \n",
       "SUB_ATT                                   0                    0   \n",
       "PASS                                      0                    0   \n",
       "REV                                       0                    1   \n",
       "win_by                           Submission               KO/TKO   \n",
       "last_round                                1                    1   \n",
       "last_round_time                         176                   43   \n",
       "date                    2006-06-24 00:00:00  1998-05-15 00:00:00   \n",
       "location                                  1                    0   \n",
       "SIG_STR._ATT                              9                   16   \n",
       "SIG_STR._LANDED                           3                   11   \n",
       "TOTAL_STR._ATT                           12                   16   \n",
       "TOTAL_STR._LANDED                         6                   11   \n",
       "TD_ATT                                    0                    0   \n",
       "TD_LANDED                                 0                    0   \n",
       "HEAD_ATT                                  8                   16   \n",
       "HEAD_LANDED                               2                   11   \n",
       "BODY_ATT                                  1                    0   \n",
       "BODY_LANDED                               1                    0   \n",
       "LEG_ATT                                   0                    0   \n",
       "LEG_LANDED                                0                    0   \n",
       "DISTANCE_ATT                              5                    0   \n",
       "DISTANCE_LANDED                           1                    0   \n",
       "CLINCH_ATT                                4                    3   \n",
       "CLINCH_LANDED                             2                    2   \n",
       "GROUND_ATT                                0                   13   \n",
       "GROUND_LANDED                             0                    9   \n",
       "title_bout                                0                    0   \n",
       "weight_class                   Middleweight          Heavyweight   \n",
       "total_time_fought(sec)                  176                   43   \n",
       "no_of_rounds                              3                    2   \n",
       "won                                       0                    1   \n",
       "age                                 22.9765                   25   \n",
       "num_fights                                2                   18   \n",
       "num_wins                                  0                    8   \n",
       "record                                    0             0.444444   \n",
       "\n",
       "                                           4                    5  \n",
       "fighter_name                    David Abbott         David Abbott  \n",
       "Height                                    72                   72  \n",
       "Weight                                   265                  265  \n",
       "Reach                                  73.75                73.75  \n",
       "Stance                                Switch               Switch  \n",
       "DOB                      1984-09-26 00:00:00  1984-09-26 00:00:00  \n",
       "KD                                         0                    1  \n",
       "SIG_STR_pct                             0.41                 0.52  \n",
       "TD_pct                                  0.75                    1  \n",
       "SUB_ATT                                    0                    0  \n",
       "PASS                                       1                    1  \n",
       "REV                                        0                    0  \n",
       "win_by                  Decision - Unanimous               KO/TKO  \n",
       "last_round                                 2                    1  \n",
       "last_round_time                          180                   63  \n",
       "date                     1997-12-21 00:00:00  1996-12-07 00:00:00  \n",
       "location                                   0                    0  \n",
       "SIG_STR._ATT                              31                   17  \n",
       "SIG_STR._LANDED                           13                    9  \n",
       "TOTAL_STR._ATT                            90                   21  \n",
       "TOTAL_STR._LANDED                         69                   13  \n",
       "TD_ATT                                     4                    1  \n",
       "TD_LANDED                                  3                    1  \n",
       "HEAD_ATT                                  31                   17  \n",
       "HEAD_LANDED                               13                    9  \n",
       "BODY_ATT                                   0                    0  \n",
       "BODY_LANDED                                0                    0  \n",
       "LEG_ATT                                    0                    0  \n",
       "LEG_LANDED                                 0                    0  \n",
       "DISTANCE_ATT                              12                    1  \n",
       "DISTANCE_LANDED                            6                    1  \n",
       "CLINCH_ATT                                 0                   16  \n",
       "CLINCH_LANDED                              0                    8  \n",
       "GROUND_ATT                                19                    0  \n",
       "GROUND_LANDED                              7                    0  \n",
       "title_bout                                 0                    0  \n",
       "weight_class                     Heavyweight          Open Weight  \n",
       "total_time_fought(sec)                   900                   63  \n",
       "no_of_rounds                               2                    2  \n",
       "won                                        1                    1  \n",
       "age                                       25                   25  \n",
       "num_fights                                18                   18  \n",
       "num_wins                                   8                    8  \n",
       "record                              0.444444             0.444444  "
      ]
     },
     "execution_count": 2147,
     "metadata": {},
     "output_type": "execute_result"
    }
   ],
   "source": [
    "df_fighter_history.head(6).T"
   ]
  },
  {
   "cell_type": "code",
   "execution_count": 2120,
   "metadata": {},
   "outputs": [],
   "source": [
    "df_fighter_history.drop(columns = ['fighter','Format','Referee','Fight_type'], inplace=True)"
   ]
  },
  {
   "cell_type": "markdown",
   "metadata": {},
   "source": [
    "- there are too many distinct locations\n",
    "    - in order to create a more signifcant feature, location is adapted to a binary indicator of whether or not the fight took place in Las Vegas, Nevada (i.e. the most popular fight location)"
   ]
  },
  {
   "cell_type": "code",
   "execution_count": 2121,
   "metadata": {},
   "outputs": [
    {
     "data": {
      "text/plain": [
       "Las Vegas, Nevada, USA             2528\n",
       "London, England, United Kingdom     228\n",
       "Newark, New Jersey, USA             178\n",
       "Anaheim, California, USA            168\n",
       "Chicago, Illinois, USA              162\n",
       "                                   ... \n",
       "Bossier City, Louisiana, USA         16\n",
       "Mobile, Alabama, USA                 15\n",
       "Chiba, Japan                         14\n",
       "Dothan, Alabama, USA                 14\n",
       "Yokohama, Kanagawa, Japan            14\n",
       "Name: location, Length: 165, dtype: int64"
      ]
     },
     "execution_count": 2121,
     "metadata": {},
     "output_type": "execute_result"
    }
   ],
   "source": [
    "df_fighter_history['location'].value_counts()"
   ]
  },
  {
   "cell_type": "code",
   "execution_count": 2122,
   "metadata": {},
   "outputs": [],
   "source": [
    "df_fighter_history['location']=df_fighter_history['location'].apply(lambda x: 1 if str(x).find('Las Vegas')!=-1 else 0)"
   ]
  },
  {
   "cell_type": "markdown",
   "metadata": {},
   "source": [
    "- can see that NaN values in fight stats columns are resulting from the left merge\n",
    "    - need to populate these values (e.g. averages)\n",
    "    - this will not detract from overall data quality because these fighters will not be included in the training data (i.e. real historical bouts)"
   ]
  },
  {
   "cell_type": "code",
   "execution_count": 2123,
   "metadata": {
    "scrolled": true
   },
   "outputs": [
    {
     "data": {
      "text/plain": [
       "fighter_name                 0\n",
       "Height                       0\n",
       "Weight                       0\n",
       "Reach                        0\n",
       "Stance                     963\n",
       "DOB                        765\n",
       "KD                        1330\n",
       "SIG_STR_pct               1330\n",
       "TD_pct                    1330\n",
       "SUB_ATT                   1330\n",
       "PASS                      1330\n",
       "REV                       1330\n",
       "win_by                    1330\n",
       "last_round                1330\n",
       "last_round_time           1330\n",
       "date                      1330\n",
       "location                     0\n",
       "Winner                    1330\n",
       "SIG_STR._ATT              1330\n",
       "SIG_STR._LANDED           1330\n",
       "TOTAL_STR._ATT            1330\n",
       "TOTAL_STR._LANDED         1330\n",
       "TD_ATT                    1330\n",
       "TD_LANDED                 1330\n",
       "HEAD_ATT                  1330\n",
       "HEAD_LANDED               1330\n",
       "BODY_ATT                  1330\n",
       "BODY_LANDED               1330\n",
       "LEG_ATT                   1330\n",
       "LEG_LANDED                1330\n",
       "DISTANCE_ATT              1330\n",
       "DISTANCE_LANDED           1330\n",
       "CLINCH_ATT                1330\n",
       "CLINCH_LANDED             1330\n",
       "GROUND_ATT                1330\n",
       "GROUND_LANDED             1330\n",
       "title_bout                1330\n",
       "weight_class              1330\n",
       "total_time_fought(sec)    1330\n",
       "no_of_rounds              1330\n",
       "_merge                       0\n",
       "dtype: int64"
      ]
     },
     "execution_count": 2123,
     "metadata": {},
     "output_type": "execute_result"
    }
   ],
   "source": [
    "df_fighter_history.isna().sum()"
   ]
  },
  {
   "cell_type": "markdown",
   "metadata": {},
   "source": [
    "- recode winner column to binary"
   ]
  },
  {
   "cell_type": "code",
   "execution_count": 2124,
   "metadata": {
    "scrolled": true
   },
   "outputs": [],
   "source": [
    "df_fighter_history['won'] = df_fighter_history.apply(lambda row: 1 if row['Winner'] == row['fighter_name'] else 0, axis=1)\n",
    "\n",
    "df_fighter_history.drop(columns = ['Winner'], inplace=True)"
   ]
  },
  {
   "cell_type": "markdown",
   "metadata": {},
   "source": [
    "- change Date of Birth and fight date from string to datetime"
   ]
  },
  {
   "cell_type": "code",
   "execution_count": 2125,
   "metadata": {
    "scrolled": true
   },
   "outputs": [],
   "source": [
    "from datetime import datetime\n",
    "\n",
    "month_code = {'Jan ': 'January ', \n",
    "      'Feb ': 'February ', \n",
    "      'Mar ': 'March ', \n",
    "      'Apr ': 'April ', \n",
    "      'May ': 'May ', \n",
    "      'Jun ': 'June ', \n",
    "      'Jul ': 'July ', \n",
    "      'Aug ': 'August ', \n",
    "      'Sep ': 'September ', \n",
    "      'Oct ': 'October ', \n",
    "      'Nov ': 'November ', \n",
    "      'Dec ': 'December '}\n",
    "\n",
    "for k, v in month_code.items():\n",
    "    df_fighter_history['DOB'] = df_fighter_history['DOB'].apply(lambda x: x.replace(k, v) if type(x) == str else x)\n",
    "\n",
    "df_fighter_history['DOB'] = df_fighter_history['DOB'].apply(lambda row: datetime.strptime(row, '%B %d, %Y') if type(row) == str else row)\n",
    "df_fighter_history['date'] = df_fighter_history['date'].apply(lambda row: datetime.strptime(row, '%B %d, %Y') if type(row) == str else row)"
   ]
  },
  {
   "cell_type": "markdown",
   "metadata": {},
   "source": [
    "- replacing NaN values:\n",
    "    - numerical: column mean\n",
    "    - categorica: column mode\n",
    "    - date: column mean"
   ]
  },
  {
   "cell_type": "code",
   "execution_count": 2126,
   "metadata": {},
   "outputs": [],
   "source": [
    "df_fighter_history.fillna(df_fighter_history.mean(), inplace=True)\n",
    "df_fighter_history = df_fighter_history.apply(lambda x:x.fillna(x.value_counts().index[0]))\n",
    "df_fighter_history['date'] = df_fighter_history['date'].apply(lambda row: datetime.strptime(row, '%B %d, %Y') if type(row) == str else row)"
   ]
  },
  {
   "cell_type": "markdown",
   "metadata": {},
   "source": [
    "- creating age (at fight date) feature"
   ]
  },
  {
   "cell_type": "code",
   "execution_count": 2127,
   "metadata": {},
   "outputs": [],
   "source": [
    "df_fighter_history['age'] = df_fighter_history['date'] - df_fighter_history['DOB']\n",
    "df_fighter_history['age']=df_fighter_history['age']/np.timedelta64(1,'Y')\n",
    "df_fighter_history['age']=df_fighter_history['age'].apply(lambda x: 25 if x <=18 else x)"
   ]
  },
  {
   "cell_type": "code",
   "execution_count": 2128,
   "metadata": {
    "scrolled": true
   },
   "outputs": [
    {
     "data": {
      "text/plain": [
       "fighter_name              0\n",
       "Height                    0\n",
       "Weight                    0\n",
       "Reach                     0\n",
       "Stance                    0\n",
       "DOB                       0\n",
       "KD                        0\n",
       "SIG_STR_pct               0\n",
       "TD_pct                    0\n",
       "SUB_ATT                   0\n",
       "PASS                      0\n",
       "REV                       0\n",
       "win_by                    0\n",
       "last_round                0\n",
       "last_round_time           0\n",
       "date                      0\n",
       "location                  0\n",
       "SIG_STR._ATT              0\n",
       "SIG_STR._LANDED           0\n",
       "TOTAL_STR._ATT            0\n",
       "TOTAL_STR._LANDED         0\n",
       "TD_ATT                    0\n",
       "TD_LANDED                 0\n",
       "HEAD_ATT                  0\n",
       "HEAD_LANDED               0\n",
       "BODY_ATT                  0\n",
       "BODY_LANDED               0\n",
       "LEG_ATT                   0\n",
       "LEG_LANDED                0\n",
       "DISTANCE_ATT              0\n",
       "DISTANCE_LANDED           0\n",
       "CLINCH_ATT                0\n",
       "CLINCH_LANDED             0\n",
       "GROUND_ATT                0\n",
       "GROUND_LANDED             0\n",
       "title_bout                0\n",
       "weight_class              0\n",
       "total_time_fought(sec)    0\n",
       "no_of_rounds              0\n",
       "_merge                    0\n",
       "won                       0\n",
       "age                       0\n",
       "dtype: int64"
      ]
     },
     "execution_count": 2128,
     "metadata": {},
     "output_type": "execute_result"
    }
   ],
   "source": [
    "df_fighter_history.isna().sum()"
   ]
  },
  {
   "cell_type": "code",
   "execution_count": 2129,
   "metadata": {
    "scrolled": true
   },
   "outputs": [],
   "source": [
    "df_fighter_history.drop(columns='_merge', inplace=True)"
   ]
  },
  {
   "cell_type": "code",
   "execution_count": 2130,
   "metadata": {},
   "outputs": [
    {
     "data": {
      "text/plain": [
       "Index(['fighter_name', 'Height', 'Weight', 'Reach', 'Stance', 'DOB', 'KD',\n",
       "       'SIG_STR_pct', 'TD_pct', 'SUB_ATT', 'PASS', 'REV', 'win_by',\n",
       "       'last_round', 'last_round_time', 'date', 'location', 'SIG_STR._ATT',\n",
       "       'SIG_STR._LANDED', 'TOTAL_STR._ATT', 'TOTAL_STR._LANDED', 'TD_ATT',\n",
       "       'TD_LANDED', 'HEAD_ATT', 'HEAD_LANDED', 'BODY_ATT', 'BODY_LANDED',\n",
       "       'LEG_ATT', 'LEG_LANDED', 'DISTANCE_ATT', 'DISTANCE_LANDED',\n",
       "       'CLINCH_ATT', 'CLINCH_LANDED', 'GROUND_ATT', 'GROUND_LANDED',\n",
       "       'title_bout', 'weight_class', 'total_time_fought(sec)', 'no_of_rounds',\n",
       "       'won', 'age'],\n",
       "      dtype='object')"
      ]
     },
     "execution_count": 2130,
     "metadata": {},
     "output_type": "execute_result"
    }
   ],
   "source": [
    "df_fighter_history.columns"
   ]
  },
  {
   "cell_type": "markdown",
   "metadata": {},
   "source": [
    "- create features for 1) # of fights they've been in and 2) what % they won "
   ]
  },
  {
   "cell_type": "code",
   "execution_count": 2132,
   "metadata": {
    "scrolled": true
   },
   "outputs": [],
   "source": [
    "df_fighter_history['num_fights'] = df_fighter_history['date'].groupby(df_fighter_history['fighter_name']).transform('count')"
   ]
  },
  {
   "cell_type": "code",
   "execution_count": 2133,
   "metadata": {},
   "outputs": [],
   "source": [
    "df_fighter_history['num_wins'] = df_fighter_history['won'].groupby(df_fighter_history['fighter_name']).transform('sum')"
   ]
  },
  {
   "cell_type": "code",
   "execution_count": 2134,
   "metadata": {},
   "outputs": [],
   "source": [
    "df_fighter_history['record'] = df_fighter_history['num_wins']/df_fighter_history['num_fights']"
   ]
  },
  {
   "cell_type": "code",
   "execution_count": 2135,
   "metadata": {},
   "outputs": [],
   "source": [
    "df_fighter_history['title_bout']=df_fighter_history['title_bout'].apply(lambda x: 1 if x == 1 else 0)"
   ]
  },
  {
   "cell_type": "markdown",
   "metadata": {},
   "source": [
    "- define feature groups by broad data type"
   ]
  },
  {
   "cell_type": "code",
   "execution_count": 2136,
   "metadata": {},
   "outputs": [],
   "source": [
    "num_features = ['fighter_name','KD', 'SIG_STR_pct', 'TD_pct', 'SUB_ATT', 'PASS', 'REV',\n",
    "       'last_round', 'last_round_time','SIG_STR._ATT',\n",
    "       'SIG_STR._LANDED', 'TOTAL_STR._ATT', 'TOTAL_STR._LANDED', 'TD_ATT',\n",
    "       'TD_LANDED', 'HEAD_ATT', 'HEAD_LANDED', 'BODY_ATT', 'BODY_LANDED',\n",
    "       'LEG_ATT', 'LEG_LANDED', 'DISTANCE_ATT', 'DISTANCE_LANDED',\n",
    "       'CLINCH_ATT', 'CLINCH_LANDED', 'GROUND_ATT', 'GROUND_LANDED','num_fights','num_wins','record',\n",
    "       'total_time_fought(sec)', 'no_of_rounds']\n",
    "\n",
    "categorical_features = ['Stance','win_by',\n",
    "       'last_round', 'last_round_time', 'location',\n",
    "       'title_bout', 'weight_class']\n",
    "\n",
    "date_features = ['DOB','date']"
   ]
  },
  {
   "cell_type": "code",
   "execution_count": 2137,
   "metadata": {},
   "outputs": [],
   "source": [
    "df_fighter_estimates = df_fighter_history[num_features].groupby('fighter_name',as_index=False).mean()"
   ]
  },
  {
   "cell_type": "markdown",
   "metadata": {},
   "source": [
    "- removing unnecessary stat features\n",
    "    - total_time_fought(sec) and no_of_rounds are not fighter-specific\n",
    "    - num_wins is removed to prevent multicollinearity with num_fights and record"
   ]
  },
  {
   "cell_type": "code",
   "execution_count": 2138,
   "metadata": {},
   "outputs": [],
   "source": [
    "df_fighter_estimates.drop(columns=['total_time_fought(sec)','no_of_rounds','num_wins'], inplace=True)"
   ]
  },
  {
   "cell_type": "markdown",
   "metadata": {},
   "source": [
    "- Check top fighters by record (i.e. undefeated fighters)"
   ]
  },
  {
   "cell_type": "code",
   "execution_count": 2148,
   "metadata": {
    "scrolled": true
   },
   "outputs": [
    {
     "data": {
      "text/html": [
       "<div>\n",
       "<style scoped>\n",
       "    .dataframe tbody tr th:only-of-type {\n",
       "        vertical-align: middle;\n",
       "    }\n",
       "\n",
       "    .dataframe tbody tr th {\n",
       "        vertical-align: top;\n",
       "    }\n",
       "\n",
       "    .dataframe thead th {\n",
       "        text-align: right;\n",
       "    }\n",
       "</style>\n",
       "<table border=\"1\" class=\"dataframe\">\n",
       "  <thead>\n",
       "    <tr style=\"text-align: right;\">\n",
       "      <th></th>\n",
       "      <th>fighter_name</th>\n",
       "      <th>KD</th>\n",
       "      <th>SIG_STR_pct</th>\n",
       "      <th>TD_pct</th>\n",
       "      <th>SUB_ATT</th>\n",
       "      <th>PASS</th>\n",
       "      <th>REV</th>\n",
       "      <th>last_round</th>\n",
       "      <th>last_round_time</th>\n",
       "      <th>SIG_STR._ATT</th>\n",
       "      <th>...</th>\n",
       "      <th>LEG_ATT</th>\n",
       "      <th>LEG_LANDED</th>\n",
       "      <th>DISTANCE_ATT</th>\n",
       "      <th>DISTANCE_LANDED</th>\n",
       "      <th>CLINCH_ATT</th>\n",
       "      <th>CLINCH_LANDED</th>\n",
       "      <th>GROUND_ATT</th>\n",
       "      <th>GROUND_LANDED</th>\n",
       "      <th>num_fights</th>\n",
       "      <th>record</th>\n",
       "    </tr>\n",
       "  </thead>\n",
       "  <tbody>\n",
       "    <tr>\n",
       "      <td>1805</td>\n",
       "      <td>Kamaru Usman</td>\n",
       "      <td>0.454545</td>\n",
       "      <td>0.540000</td>\n",
       "      <td>0.356364</td>\n",
       "      <td>0.181818</td>\n",
       "      <td>3.727273</td>\n",
       "      <td>0.000000</td>\n",
       "      <td>3.454545</td>\n",
       "      <td>263.363636</td>\n",
       "      <td>144.909091</td>\n",
       "      <td>...</td>\n",
       "      <td>8.181818</td>\n",
       "      <td>6.909091</td>\n",
       "      <td>96.545455</td>\n",
       "      <td>38.909091</td>\n",
       "      <td>16.272727</td>\n",
       "      <td>13.727273</td>\n",
       "      <td>32.090909</td>\n",
       "      <td>24.000000</td>\n",
       "      <td>11</td>\n",
       "      <td>1.0</td>\n",
       "    </tr>\n",
       "    <tr>\n",
       "      <td>1894</td>\n",
       "      <td>Khabib Nurmagomedov</td>\n",
       "      <td>0.166667</td>\n",
       "      <td>0.513333</td>\n",
       "      <td>0.419167</td>\n",
       "      <td>0.666667</td>\n",
       "      <td>4.583333</td>\n",
       "      <td>0.000000</td>\n",
       "      <td>3.000000</td>\n",
       "      <td>226.750000</td>\n",
       "      <td>113.666667</td>\n",
       "      <td>...</td>\n",
       "      <td>3.166667</td>\n",
       "      <td>2.916667</td>\n",
       "      <td>67.000000</td>\n",
       "      <td>22.750000</td>\n",
       "      <td>3.333333</td>\n",
       "      <td>2.250000</td>\n",
       "      <td>43.333333</td>\n",
       "      <td>31.583333</td>\n",
       "      <td>12</td>\n",
       "      <td>1.0</td>\n",
       "    </tr>\n",
       "    <tr>\n",
       "      <td>1300</td>\n",
       "      <td>Israel Adesanya</td>\n",
       "      <td>1.250000</td>\n",
       "      <td>0.497500</td>\n",
       "      <td>0.000000</td>\n",
       "      <td>0.375000</td>\n",
       "      <td>0.250000</td>\n",
       "      <td>0.000000</td>\n",
       "      <td>3.250000</td>\n",
       "      <td>277.625000</td>\n",
       "      <td>129.000000</td>\n",
       "      <td>...</td>\n",
       "      <td>20.625000</td>\n",
       "      <td>17.625000</td>\n",
       "      <td>119.500000</td>\n",
       "      <td>55.375000</td>\n",
       "      <td>6.375000</td>\n",
       "      <td>5.125000</td>\n",
       "      <td>3.125000</td>\n",
       "      <td>2.375000</td>\n",
       "      <td>8</td>\n",
       "      <td>1.0</td>\n",
       "    </tr>\n",
       "    <tr>\n",
       "      <td>263</td>\n",
       "      <td>Arnold Allen</td>\n",
       "      <td>0.285714</td>\n",
       "      <td>0.384286</td>\n",
       "      <td>0.321429</td>\n",
       "      <td>0.428571</td>\n",
       "      <td>1.000000</td>\n",
       "      <td>0.000000</td>\n",
       "      <td>3.000000</td>\n",
       "      <td>251.714286</td>\n",
       "      <td>110.285714</td>\n",
       "      <td>...</td>\n",
       "      <td>5.285714</td>\n",
       "      <td>3.142857</td>\n",
       "      <td>100.285714</td>\n",
       "      <td>39.571429</td>\n",
       "      <td>4.000000</td>\n",
       "      <td>1.571429</td>\n",
       "      <td>6.000000</td>\n",
       "      <td>4.142857</td>\n",
       "      <td>7</td>\n",
       "      <td>1.0</td>\n",
       "    </tr>\n",
       "    <tr>\n",
       "      <td>2527</td>\n",
       "      <td>Petr Yan</td>\n",
       "      <td>1.166667</td>\n",
       "      <td>0.498333</td>\n",
       "      <td>0.413333</td>\n",
       "      <td>0.166667</td>\n",
       "      <td>0.666667</td>\n",
       "      <td>0.166667</td>\n",
       "      <td>2.500000</td>\n",
       "      <td>241.833333</td>\n",
       "      <td>140.333333</td>\n",
       "      <td>...</td>\n",
       "      <td>3.333333</td>\n",
       "      <td>2.666667</td>\n",
       "      <td>113.000000</td>\n",
       "      <td>43.833333</td>\n",
       "      <td>14.000000</td>\n",
       "      <td>11.333333</td>\n",
       "      <td>13.333333</td>\n",
       "      <td>10.000000</td>\n",
       "      <td>6</td>\n",
       "      <td>1.0</td>\n",
       "    </tr>\n",
       "  </tbody>\n",
       "</table>\n",
       "<p>5 rows × 29 columns</p>\n",
       "</div>"
      ],
      "text/plain": [
       "             fighter_name        KD  SIG_STR_pct    TD_pct   SUB_ATT  \\\n",
       "1805         Kamaru Usman  0.454545     0.540000  0.356364  0.181818   \n",
       "1894  Khabib Nurmagomedov  0.166667     0.513333  0.419167  0.666667   \n",
       "1300      Israel Adesanya  1.250000     0.497500  0.000000  0.375000   \n",
       "263          Arnold Allen  0.285714     0.384286  0.321429  0.428571   \n",
       "2527             Petr Yan  1.166667     0.498333  0.413333  0.166667   \n",
       "\n",
       "          PASS       REV  last_round  last_round_time  SIG_STR._ATT  ...  \\\n",
       "1805  3.727273  0.000000    3.454545       263.363636    144.909091  ...   \n",
       "1894  4.583333  0.000000    3.000000       226.750000    113.666667  ...   \n",
       "1300  0.250000  0.000000    3.250000       277.625000    129.000000  ...   \n",
       "263   1.000000  0.000000    3.000000       251.714286    110.285714  ...   \n",
       "2527  0.666667  0.166667    2.500000       241.833333    140.333333  ...   \n",
       "\n",
       "        LEG_ATT  LEG_LANDED  DISTANCE_ATT  DISTANCE_LANDED  CLINCH_ATT  \\\n",
       "1805   8.181818    6.909091     96.545455        38.909091   16.272727   \n",
       "1894   3.166667    2.916667     67.000000        22.750000    3.333333   \n",
       "1300  20.625000   17.625000    119.500000        55.375000    6.375000   \n",
       "263    5.285714    3.142857    100.285714        39.571429    4.000000   \n",
       "2527   3.333333    2.666667    113.000000        43.833333   14.000000   \n",
       "\n",
       "      CLINCH_LANDED  GROUND_ATT  GROUND_LANDED  num_fights  record  \n",
       "1805      13.727273   32.090909      24.000000          11     1.0  \n",
       "1894       2.250000   43.333333      31.583333          12     1.0  \n",
       "1300       5.125000    3.125000       2.375000           8     1.0  \n",
       "263        1.571429    6.000000       4.142857           7     1.0  \n",
       "2527      11.333333   13.333333      10.000000           6     1.0  \n",
       "\n",
       "[5 rows x 29 columns]"
      ]
     },
     "execution_count": 2148,
     "metadata": {},
     "output_type": "execute_result"
    }
   ],
   "source": [
    "df_fighter_estimates[df_fighter_estimates['num_fights']>5].sort_values(by='record', ascending=False).head()"
   ]
  },
  {
   "cell_type": "code",
   "execution_count": 2149,
   "metadata": {},
   "outputs": [
    {
     "data": {
      "text/html": [
       "<div>\n",
       "<style scoped>\n",
       "    .dataframe tbody tr th:only-of-type {\n",
       "        vertical-align: middle;\n",
       "    }\n",
       "\n",
       "    .dataframe tbody tr th {\n",
       "        vertical-align: top;\n",
       "    }\n",
       "\n",
       "    .dataframe thead th {\n",
       "        text-align: right;\n",
       "    }\n",
       "</style>\n",
       "<table border=\"1\" class=\"dataframe\">\n",
       "  <thead>\n",
       "    <tr style=\"text-align: right;\">\n",
       "      <th></th>\n",
       "      <th>fighter_name</th>\n",
       "      <th>KD</th>\n",
       "      <th>SIG_STR_pct</th>\n",
       "      <th>TD_pct</th>\n",
       "      <th>SUB_ATT</th>\n",
       "      <th>PASS</th>\n",
       "      <th>REV</th>\n",
       "      <th>last_round</th>\n",
       "      <th>last_round_time</th>\n",
       "      <th>SIG_STR._ATT</th>\n",
       "      <th>...</th>\n",
       "      <th>LEG_ATT</th>\n",
       "      <th>LEG_LANDED</th>\n",
       "      <th>DISTANCE_ATT</th>\n",
       "      <th>DISTANCE_LANDED</th>\n",
       "      <th>CLINCH_ATT</th>\n",
       "      <th>CLINCH_LANDED</th>\n",
       "      <th>GROUND_ATT</th>\n",
       "      <th>GROUND_LANDED</th>\n",
       "      <th>num_fights</th>\n",
       "      <th>record</th>\n",
       "    </tr>\n",
       "  </thead>\n",
       "  <tbody>\n",
       "    <tr>\n",
       "      <td>0</td>\n",
       "      <td>AJ Fonseca</td>\n",
       "      <td>0.215127</td>\n",
       "      <td>0.440723</td>\n",
       "      <td>0.275527</td>\n",
       "      <td>0.422011</td>\n",
       "      <td>1.10154</td>\n",
       "      <td>0.137319</td>\n",
       "      <td>2.30308</td>\n",
       "      <td>226.128804</td>\n",
       "      <td>75.756522</td>\n",
       "      <td>...</td>\n",
       "      <td>6.734511</td>\n",
       "      <td>5.324819</td>\n",
       "      <td>60.43442</td>\n",
       "      <td>22.120833</td>\n",
       "      <td>7.67971</td>\n",
       "      <td>5.210598</td>\n",
       "      <td>7.642391</td>\n",
       "      <td>5.164493</td>\n",
       "      <td>1</td>\n",
       "      <td>0.0</td>\n",
       "    </tr>\n",
       "    <tr>\n",
       "      <td>1</td>\n",
       "      <td>AJ Matthews</td>\n",
       "      <td>0.215127</td>\n",
       "      <td>0.440723</td>\n",
       "      <td>0.275527</td>\n",
       "      <td>0.422011</td>\n",
       "      <td>1.10154</td>\n",
       "      <td>0.137319</td>\n",
       "      <td>2.30308</td>\n",
       "      <td>226.128804</td>\n",
       "      <td>75.756522</td>\n",
       "      <td>...</td>\n",
       "      <td>6.734511</td>\n",
       "      <td>5.324819</td>\n",
       "      <td>60.43442</td>\n",
       "      <td>22.120833</td>\n",
       "      <td>7.67971</td>\n",
       "      <td>5.210598</td>\n",
       "      <td>7.642391</td>\n",
       "      <td>5.164493</td>\n",
       "      <td>1</td>\n",
       "      <td>0.0</td>\n",
       "    </tr>\n",
       "    <tr>\n",
       "      <td>2</td>\n",
       "      <td>AJ McKee</td>\n",
       "      <td>0.215127</td>\n",
       "      <td>0.440723</td>\n",
       "      <td>0.275527</td>\n",
       "      <td>0.422011</td>\n",
       "      <td>1.10154</td>\n",
       "      <td>0.137319</td>\n",
       "      <td>2.30308</td>\n",
       "      <td>226.128804</td>\n",
       "      <td>75.756522</td>\n",
       "      <td>...</td>\n",
       "      <td>6.734511</td>\n",
       "      <td>5.324819</td>\n",
       "      <td>60.43442</td>\n",
       "      <td>22.120833</td>\n",
       "      <td>7.67971</td>\n",
       "      <td>5.210598</td>\n",
       "      <td>7.642391</td>\n",
       "      <td>5.164493</td>\n",
       "      <td>1</td>\n",
       "      <td>0.0</td>\n",
       "    </tr>\n",
       "    <tr>\n",
       "      <td>3</td>\n",
       "      <td>AJ Siscoe</td>\n",
       "      <td>0.215127</td>\n",
       "      <td>0.440723</td>\n",
       "      <td>0.275527</td>\n",
       "      <td>0.422011</td>\n",
       "      <td>1.10154</td>\n",
       "      <td>0.137319</td>\n",
       "      <td>2.30308</td>\n",
       "      <td>226.128804</td>\n",
       "      <td>75.756522</td>\n",
       "      <td>...</td>\n",
       "      <td>6.734511</td>\n",
       "      <td>5.324819</td>\n",
       "      <td>60.43442</td>\n",
       "      <td>22.120833</td>\n",
       "      <td>7.67971</td>\n",
       "      <td>5.210598</td>\n",
       "      <td>7.642391</td>\n",
       "      <td>5.164493</td>\n",
       "      <td>1</td>\n",
       "      <td>0.0</td>\n",
       "    </tr>\n",
       "    <tr>\n",
       "      <td>4</td>\n",
       "      <td>Aalon Cruz</td>\n",
       "      <td>0.000000</td>\n",
       "      <td>0.160000</td>\n",
       "      <td>0.000000</td>\n",
       "      <td>0.000000</td>\n",
       "      <td>0.00000</td>\n",
       "      <td>0.000000</td>\n",
       "      <td>1.00000</td>\n",
       "      <td>85.000000</td>\n",
       "      <td>12.000000</td>\n",
       "      <td>...</td>\n",
       "      <td>4.000000</td>\n",
       "      <td>0.000000</td>\n",
       "      <td>12.00000</td>\n",
       "      <td>2.000000</td>\n",
       "      <td>0.00000</td>\n",
       "      <td>0.000000</td>\n",
       "      <td>0.000000</td>\n",
       "      <td>0.000000</td>\n",
       "      <td>1</td>\n",
       "      <td>0.0</td>\n",
       "    </tr>\n",
       "  </tbody>\n",
       "</table>\n",
       "<p>5 rows × 29 columns</p>\n",
       "</div>"
      ],
      "text/plain": [
       "  fighter_name        KD  SIG_STR_pct    TD_pct   SUB_ATT     PASS       REV  \\\n",
       "0   AJ Fonseca  0.215127     0.440723  0.275527  0.422011  1.10154  0.137319   \n",
       "1  AJ Matthews  0.215127     0.440723  0.275527  0.422011  1.10154  0.137319   \n",
       "2     AJ McKee  0.215127     0.440723  0.275527  0.422011  1.10154  0.137319   \n",
       "3    AJ Siscoe  0.215127     0.440723  0.275527  0.422011  1.10154  0.137319   \n",
       "4   Aalon Cruz  0.000000     0.160000  0.000000  0.000000  0.00000  0.000000   \n",
       "\n",
       "   last_round  last_round_time  SIG_STR._ATT  ...   LEG_ATT  LEG_LANDED  \\\n",
       "0     2.30308       226.128804     75.756522  ...  6.734511    5.324819   \n",
       "1     2.30308       226.128804     75.756522  ...  6.734511    5.324819   \n",
       "2     2.30308       226.128804     75.756522  ...  6.734511    5.324819   \n",
       "3     2.30308       226.128804     75.756522  ...  6.734511    5.324819   \n",
       "4     1.00000        85.000000     12.000000  ...  4.000000    0.000000   \n",
       "\n",
       "   DISTANCE_ATT  DISTANCE_LANDED  CLINCH_ATT  CLINCH_LANDED  GROUND_ATT  \\\n",
       "0      60.43442        22.120833     7.67971       5.210598    7.642391   \n",
       "1      60.43442        22.120833     7.67971       5.210598    7.642391   \n",
       "2      60.43442        22.120833     7.67971       5.210598    7.642391   \n",
       "3      60.43442        22.120833     7.67971       5.210598    7.642391   \n",
       "4      12.00000         2.000000     0.00000       0.000000    0.000000   \n",
       "\n",
       "   GROUND_LANDED  num_fights  record  \n",
       "0       5.164493           1     0.0  \n",
       "1       5.164493           1     0.0  \n",
       "2       5.164493           1     0.0  \n",
       "3       5.164493           1     0.0  \n",
       "4       0.000000           1     0.0  \n",
       "\n",
       "[5 rows x 29 columns]"
      ]
     },
     "execution_count": 2149,
     "metadata": {},
     "output_type": "execute_result"
    }
   ],
   "source": [
    "df_fighter_estimates.head()"
   ]
  },
  {
   "cell_type": "code",
   "execution_count": 2150,
   "metadata": {},
   "outputs": [
    {
     "data": {
      "text/html": [
       "<div>\n",
       "<style scoped>\n",
       "    .dataframe tbody tr th:only-of-type {\n",
       "        vertical-align: middle;\n",
       "    }\n",
       "\n",
       "    .dataframe tbody tr th {\n",
       "        vertical-align: top;\n",
       "    }\n",
       "\n",
       "    .dataframe thead th {\n",
       "        text-align: right;\n",
       "    }\n",
       "</style>\n",
       "<table border=\"1\" class=\"dataframe\">\n",
       "  <thead>\n",
       "    <tr style=\"text-align: right;\">\n",
       "      <th></th>\n",
       "      <th>fighter_name</th>\n",
       "      <th>Height</th>\n",
       "      <th>Weight</th>\n",
       "      <th>Reach</th>\n",
       "      <th>Stance</th>\n",
       "      <th>DOB</th>\n",
       "      <th>KD</th>\n",
       "      <th>SIG_STR_pct</th>\n",
       "      <th>TD_pct</th>\n",
       "      <th>SUB_ATT</th>\n",
       "      <th>...</th>\n",
       "      <th>GROUND_LANDED</th>\n",
       "      <th>title_bout</th>\n",
       "      <th>weight_class</th>\n",
       "      <th>total_time_fought(sec)</th>\n",
       "      <th>no_of_rounds</th>\n",
       "      <th>won</th>\n",
       "      <th>age</th>\n",
       "      <th>num_fights</th>\n",
       "      <th>num_wins</th>\n",
       "      <th>record</th>\n",
       "    </tr>\n",
       "  </thead>\n",
       "  <tbody>\n",
       "    <tr>\n",
       "      <td>0</td>\n",
       "      <td>Tom Aaron</td>\n",
       "      <td>69.579741</td>\n",
       "      <td>155.0</td>\n",
       "      <td>70.00000</td>\n",
       "      <td>Orthodox</td>\n",
       "      <td>1978-07-13</td>\n",
       "      <td>0.215127</td>\n",
       "      <td>0.440723</td>\n",
       "      <td>0.275527</td>\n",
       "      <td>0.422011</td>\n",
       "      <td>...</td>\n",
       "      <td>5.164493</td>\n",
       "      <td>0</td>\n",
       "      <td>Lightweight</td>\n",
       "      <td>619.591667</td>\n",
       "      <td>3.125</td>\n",
       "      <td>0</td>\n",
       "      <td>38.355339</td>\n",
       "      <td>1</td>\n",
       "      <td>0</td>\n",
       "      <td>0.000000</td>\n",
       "    </tr>\n",
       "    <tr>\n",
       "      <td>1</td>\n",
       "      <td>Danny Abbadi</td>\n",
       "      <td>71.000000</td>\n",
       "      <td>155.0</td>\n",
       "      <td>72.68125</td>\n",
       "      <td>Orthodox</td>\n",
       "      <td>1983-07-03</td>\n",
       "      <td>0.000000</td>\n",
       "      <td>0.380000</td>\n",
       "      <td>0.000000</td>\n",
       "      <td>0.000000</td>\n",
       "      <td>...</td>\n",
       "      <td>3.000000</td>\n",
       "      <td>0</td>\n",
       "      <td>Lightweight</td>\n",
       "      <td>900.000000</td>\n",
       "      <td>3.000</td>\n",
       "      <td>0</td>\n",
       "      <td>23.225665</td>\n",
       "      <td>2</td>\n",
       "      <td>0</td>\n",
       "      <td>0.000000</td>\n",
       "    </tr>\n",
       "    <tr>\n",
       "      <td>2</td>\n",
       "      <td>Danny Abbadi</td>\n",
       "      <td>71.000000</td>\n",
       "      <td>155.0</td>\n",
       "      <td>72.68125</td>\n",
       "      <td>Orthodox</td>\n",
       "      <td>1983-07-03</td>\n",
       "      <td>0.000000</td>\n",
       "      <td>0.330000</td>\n",
       "      <td>0.000000</td>\n",
       "      <td>0.000000</td>\n",
       "      <td>...</td>\n",
       "      <td>0.000000</td>\n",
       "      <td>0</td>\n",
       "      <td>Middleweight</td>\n",
       "      <td>176.000000</td>\n",
       "      <td>3.000</td>\n",
       "      <td>0</td>\n",
       "      <td>22.976516</td>\n",
       "      <td>2</td>\n",
       "      <td>0</td>\n",
       "      <td>0.000000</td>\n",
       "    </tr>\n",
       "    <tr>\n",
       "      <td>3</td>\n",
       "      <td>David Abbott</td>\n",
       "      <td>72.000000</td>\n",
       "      <td>265.0</td>\n",
       "      <td>73.75000</td>\n",
       "      <td>Switch</td>\n",
       "      <td>1984-09-26</td>\n",
       "      <td>0.000000</td>\n",
       "      <td>0.680000</td>\n",
       "      <td>0.000000</td>\n",
       "      <td>0.000000</td>\n",
       "      <td>...</td>\n",
       "      <td>9.000000</td>\n",
       "      <td>0</td>\n",
       "      <td>Heavyweight</td>\n",
       "      <td>43.000000</td>\n",
       "      <td>2.000</td>\n",
       "      <td>1</td>\n",
       "      <td>25.000000</td>\n",
       "      <td>18</td>\n",
       "      <td>8</td>\n",
       "      <td>0.444444</td>\n",
       "    </tr>\n",
       "    <tr>\n",
       "      <td>4</td>\n",
       "      <td>David Abbott</td>\n",
       "      <td>72.000000</td>\n",
       "      <td>265.0</td>\n",
       "      <td>73.75000</td>\n",
       "      <td>Switch</td>\n",
       "      <td>1984-09-26</td>\n",
       "      <td>0.000000</td>\n",
       "      <td>0.410000</td>\n",
       "      <td>0.750000</td>\n",
       "      <td>0.000000</td>\n",
       "      <td>...</td>\n",
       "      <td>7.000000</td>\n",
       "      <td>0</td>\n",
       "      <td>Heavyweight</td>\n",
       "      <td>900.000000</td>\n",
       "      <td>2.000</td>\n",
       "      <td>1</td>\n",
       "      <td>25.000000</td>\n",
       "      <td>18</td>\n",
       "      <td>8</td>\n",
       "      <td>0.444444</td>\n",
       "    </tr>\n",
       "  </tbody>\n",
       "</table>\n",
       "<p>5 rows × 44 columns</p>\n",
       "</div>"
      ],
      "text/plain": [
       "   fighter_name     Height  Weight     Reach    Stance        DOB        KD  \\\n",
       "0     Tom Aaron  69.579741   155.0  70.00000  Orthodox 1978-07-13  0.215127   \n",
       "1  Danny Abbadi  71.000000   155.0  72.68125  Orthodox 1983-07-03  0.000000   \n",
       "2  Danny Abbadi  71.000000   155.0  72.68125  Orthodox 1983-07-03  0.000000   \n",
       "3  David Abbott  72.000000   265.0  73.75000    Switch 1984-09-26  0.000000   \n",
       "4  David Abbott  72.000000   265.0  73.75000    Switch 1984-09-26  0.000000   \n",
       "\n",
       "   SIG_STR_pct    TD_pct   SUB_ATT  ...  GROUND_LANDED  title_bout  \\\n",
       "0     0.440723  0.275527  0.422011  ...       5.164493           0   \n",
       "1     0.380000  0.000000  0.000000  ...       3.000000           0   \n",
       "2     0.330000  0.000000  0.000000  ...       0.000000           0   \n",
       "3     0.680000  0.000000  0.000000  ...       9.000000           0   \n",
       "4     0.410000  0.750000  0.000000  ...       7.000000           0   \n",
       "\n",
       "   weight_class  total_time_fought(sec)  no_of_rounds won        age  \\\n",
       "0   Lightweight              619.591667         3.125   0  38.355339   \n",
       "1   Lightweight              900.000000         3.000   0  23.225665   \n",
       "2  Middleweight              176.000000         3.000   0  22.976516   \n",
       "3   Heavyweight               43.000000         2.000   1  25.000000   \n",
       "4   Heavyweight              900.000000         2.000   1  25.000000   \n",
       "\n",
       "   num_fights  num_wins    record  \n",
       "0           1         0  0.000000  \n",
       "1           2         0  0.000000  \n",
       "2           2         0  0.000000  \n",
       "3          18         8  0.444444  \n",
       "4          18         8  0.444444  \n",
       "\n",
       "[5 rows x 44 columns]"
      ]
     },
     "execution_count": 2150,
     "metadata": {},
     "output_type": "execute_result"
    }
   ],
   "source": [
    "df_fighter_history.head()"
   ]
  },
  {
   "cell_type": "markdown",
   "metadata": {},
   "source": [
    "- Quickly repeat some relevant actions for the fight dataset and master dataset\n",
    "    - R_Win will end up being our target variable"
   ]
  },
  {
   "cell_type": "code",
   "execution_count": 2168,
   "metadata": {},
   "outputs": [],
   "source": [
    "df_fights['R_Win'] = df_fights.apply(lambda row: 1 if row['Winner'] == row['R_fighter'] else 0, axis=1)"
   ]
  },
  {
   "cell_type": "code",
   "execution_count": 2169,
   "metadata": {},
   "outputs": [],
   "source": [
    "df_fights.drop(columns=['last_round','last_round_time', 'Format', 'Referee','Fight_type','Winner'], inplace=True)"
   ]
  },
  {
   "cell_type": "code",
   "execution_count": 2170,
   "metadata": {
    "scrolled": false
   },
   "outputs": [
    {
     "data": {
      "text/plain": [
       "Index(['R_fighter', 'B_fighter', 'R_KD', 'B_KD', 'R_SIG_STR_pct',\n",
       "       'B_SIG_STR_pct', 'R_TD_pct', 'B_TD_pct', 'R_SUB_ATT', 'B_SUB_ATT',\n",
       "       'R_PASS', 'B_PASS', 'R_REV', 'B_REV', 'win_by', 'date', 'location',\n",
       "       'R_SIG_STR._ATT', 'R_SIG_STR._LANDED', 'B_SIG_STR._ATT',\n",
       "       'B_SIG_STR._LANDED', 'R_TOTAL_STR._ATT', 'R_TOTAL_STR._LANDED',\n",
       "       'B_TOTAL_STR._ATT', 'B_TOTAL_STR._LANDED', 'R_TD_ATT', 'R_TD_LANDED',\n",
       "       'B_TD_ATT', 'B_TD_LANDED', 'R_HEAD_ATT', 'R_HEAD_LANDED', 'B_HEAD_ATT',\n",
       "       'B_HEAD_LANDED', 'R_BODY_ATT', 'R_BODY_LANDED', 'B_BODY_ATT',\n",
       "       'B_BODY_LANDED', 'R_LEG_ATT', 'R_LEG_LANDED', 'B_LEG_ATT',\n",
       "       'B_LEG_LANDED', 'R_DISTANCE_ATT', 'R_DISTANCE_LANDED', 'B_DISTANCE_ATT',\n",
       "       'B_DISTANCE_LANDED', 'R_CLINCH_ATT', 'R_CLINCH_LANDED', 'B_CLINCH_ATT',\n",
       "       'B_CLINCH_LANDED', 'R_GROUND_ATT', 'R_GROUND_LANDED', 'B_GROUND_ATT',\n",
       "       'B_GROUND_LANDED', 'title_bout', 'weight_class',\n",
       "       'total_time_fought(sec)', 'no_of_rounds', 'R_Win'],\n",
       "      dtype='object')"
      ]
     },
     "execution_count": 2170,
     "metadata": {},
     "output_type": "execute_result"
    }
   ],
   "source": [
    "df_fights.columns"
   ]
  },
  {
   "cell_type": "code",
   "execution_count": 2164,
   "metadata": {
    "scrolled": true
   },
   "outputs": [
    {
     "data": {
      "text/plain": [
       "Index(['R_fighter', 'B_fighter', 'Referee', 'date', 'location', 'Winner',\n",
       "       'title_bout', 'weight_class', 'total_time_fought(sec)', 'no_of_rounds'],\n",
       "      dtype='object')"
      ]
     },
     "execution_count": 2164,
     "metadata": {},
     "output_type": "execute_result"
    }
   ],
   "source": [
    "df_master.columns"
   ]
  },
  {
   "cell_type": "code",
   "execution_count": null,
   "metadata": {},
   "outputs": [],
   "source": [
    "df_master.drop(columns=['Referee'], inplace=True)"
   ]
  }
 ],
 "metadata": {
  "kernelspec": {
   "display_name": "Python 3",
   "language": "python",
   "name": "python3"
  },
  "language_info": {
   "codemirror_mode": {
    "name": "ipython",
    "version": 3
   },
   "file_extension": ".py",
   "mimetype": "text/x-python",
   "name": "python",
   "nbconvert_exporter": "python",
   "pygments_lexer": "ipython3",
   "version": "3.7.4"
  }
 },
 "nbformat": 4,
 "nbformat_minor": 2
}
